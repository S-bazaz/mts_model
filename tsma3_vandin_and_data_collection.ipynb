{
 "cells": [
  {
   "cell_type": "markdown",
   "id": "8828ba07",
   "metadata": {},
   "source": [
    "# tsma 3: Vandin & al statistical analyses and data collection\n",
    "All the examples are done with an implementation of Gross's model of 2022 : https://doi.org/10.1016/j.ecolecon.2010.03.021\n",
    "\n",
    "The different statistical analyses presented here are taken from Vandin & al (2021) : http://arxiv.org/abs/2102.05405\n",
    "\n",
    "### requirements"
   ]
  },
  {
   "cell_type": "code",
   "execution_count": 7,
   "id": "ea09c0ef",
   "metadata": {},
   "outputs": [
    {
     "name": "stderr",
     "output_type": "stream",
     "text": [
      "100%|██████████| 9/9 [00:00<00:00, 40.64it/s]\n"
     ]
    }
   ],
   "source": [
    "from models.gross2022 import Gross2022 as model\n",
    "from collect.output_management import query_nparameters, query_simulations\n",
    "\n",
    "parameters = {\n",
    "    \"b_margin\": 0.05,\n",
    "    \"hh_cons_propensity\": 1,\n",
    "    \"norisk_interest\": 0,\n",
    "    \"tgt_capital_ratio\": 0.1,\n",
    "    \"smooth_interest\": 15,\n",
    "    \"beta\": 1, \n",
    "}\n",
    "\n",
    "hyper_parameters = {\"f_n\": 200, \"hh_n\": 20000, \"t_end\": 100, \"seed\": 33}\n",
    "\n",
    "initial_values = {\n",
    "    \"wages_0\": 1,\n",
    "    \"wages_1\": 1,\n",
    "    \"prices_0\": 1.01,\n",
    "    \"prices_1\": 1,\n",
    "}\n",
    "\n",
    "m = model(parameters, hyper_parameters, initial_values)\n",
    "output = m.simulate(t_end = 40, seed = 10, save = True, overwrite = False)\n",
    "\n",
    "dct_groups = {\n",
    "    \"Active Firms\": [\"n_active\"],\n",
    "    \"Nominal GDP Growth\": [\"GDP_growth\", \"unemployment_rate\"],\n",
    "    \"Debt to GDP\": [\"Debt_to_GDP\"],\n",
    "    \"Nominal loan Growth\": [\"loans_growth\"],\n",
    "    \"Wage Inflation at Firms\": [\"mean_wage_inflation\"],\n",
    "    \"Price Inflation at Firms\": [\"mean_inflation\"],\n",
    "    \"Firm Profit share in GDP\": [\"f_profit_share_GDP\"],\n",
    "    \"Wage Share in GDP\": [\"w_share_GDP\"],\n",
    "    \"Firm's Interest Coverage\": [\"firms_interest_coverage\"],\n",
    "    \"Firms Default Rate\": [\"default_rate\"],\n",
    "    \"Loss Given Default\": [\"sLGD\"],\n",
    "    \"Loan Interest rate\": [\"interest\"],\n",
    "    \"Full debt service and Rollover\": [\"full_debt_service\", \"rollover\"],\n",
    "    \"New Loans and Top-up\": [\"count_newloans\", \"count_topups\"],\n",
    "    \"Firms' and Banks' Capital Ratios\": [\"capital_ratio\", \"mean_f_capr\"],\n",
    "    # ----\n",
    "    \"Inflation\": [\"inflation\"],\n",
    "    \"Wage Inflation\": [\"wage_inflation\"],\n",
    "    \"Real Wage\": [\"real_wage\"],\n",
    "    \"GDP\": [\"GDP\"],\n",
    "    \"Real GDP\": [\"real_GDP\"],\n",
    "    \"Real GDP Growth\": [\"real_GDP_growth\"],\n",
    "    \"Loans and interest expenses\": [\"loans\", \"interest_expenses\"],\n",
    "    \"Default proba\": [\"sPD\"],\n",
    "    \"Banks' networth and losses\": [\"b_lossnet\", \"b_networth\"],\n",
    "    \"Dividends and HH cash\": [\"dividends\", \"sum_hh_cash\"],\n",
    "    \"HH earnings and savings\": [\"mean_wage\", \"mean_hh_cash\"],\n",
    "    \"Demande and Price level\": [\"mean_price\", \"mean_demand\"],\n",
    "    \"Firms Payements and Cash\": [\"sum_wage\", \"sum_f_cash\"],\n",
    "    \"Firms cash and loan\": [\"mean_loan\", \"mean_f_cash\"],\n",
    "    \"std earnings and savings\": [\"std_wage\", \"std_hh_cash\"],\n",
    "    \"std Demande and Price\": [\"std_price\", \"std_demand\"],\n",
    "    \"std Firms Cash and Loan\": [\"std_loan\", \"std_f_cash\"],\n",
    "\n",
    "}\n",
    "\n",
    "sim_ids =  query_nparameters(m, nsim = 10, sim_id0 = 0, step = 1, t_end = 40)[\"sim_id\"]\n",
    "outputs = query_simulations(m, sim_ids)"
   ]
  },
  {
   "cell_type": "markdown",
   "id": "e8fa91d5",
   "metadata": {},
   "source": [
    "## 1 Transient Analysis\n",
    "\n",
    "Transient analysis is the visualization of all the confidence intervals, for a given variable\n",
    "at a given time.\n",
    "It's calculated with multiple simulations from differents seeds (simulations generated\n",
    "from a same set of parameters but different seeds are assumed to be mutually independent).\\\n",
    "\n",
    "**mosaique_transient**, **adapted_mosaique_transient** can be used to show these confidence intervals of significance **sign**.\n",
    "\n",
    "However the variables' names are needed"
   ]
  },
  {
   "cell_type": "code",
   "execution_count": 5,
   "id": "b51ced4f",
   "metadata": {},
   "outputs": [
    {
     "name": "stderr",
     "output_type": "stream",
     "text": [
      "C:\\Users\\samud\\Bureau\\Python code\\Repo\\tsma\\analyses\\statistics.py:37: RuntimeWarning:\n",
      "\n",
      "Mean of empty slice\n",
      "\n",
      "C:\\Users\\samud\\anaconda3\\lib\\site-packages\\numpy\\lib\\nanfunctions.py:1545: RuntimeWarning:\n",
      "\n",
      "invalid value encountered in subtract\n",
      "\n",
      "C:\\Users\\samud\\Bureau\\Python code\\Repo\\tsma\\analyses\\statistics.py:38: RuntimeWarning:\n",
      "\n",
      "Degrees of freedom <= 0 for slice.\n",
      "\n"
     ]
    }
   ],
   "source": [
    "from visuals.figures import mosaique_transient, adapted_mosaique_transient\n",
    "\n",
    "varnames = list(output)\n",
    "\n",
    "title = \"<b> transient </b> <br>\"\n",
    "fig = mosaique_transient(outputs,  sign = 0.01, ncol = 5, title = title , varnames = varnames )\n",
    "fig.show()\n",
    "\n",
    "title = \"<b> transient adapted</b> <br>\"\n",
    "fig = adapted_mosaique_transient(outputs, title, varnames, dct_groups,  sign = 0.01, ncol = 3)\n",
    "fig.show()\n"
   ]
  },
  {
   "cell_type": "markdown",
   "id": "cc021158",
   "metadata": {},
   "source": [
    "## 2 Asymptotical Analysis\n",
    "\n",
    "For the second analysis, the questions to answer are :\n",
    "Does a steady state reached ? If this is the case, what are the steady states values ?\n"
   ]
  },
  {
   "cell_type": "markdown",
   "id": "e16bb24f",
   "metadata": {},
   "source": [
    "## 3 Data collection\n",
    "\n",
    "Finally, a parameter's exploration can be done automaticaly with **para_exploration**.\n",
    "- **para_ranges** define the ranges to explore\n",
    "- **f_save** the figures to save for a given set of parameters. By default, it computes the transient analysis.\n"
   ]
  },
  {
   "cell_type": "code",
   "execution_count": 8,
   "id": "b66cd7b9",
   "metadata": {},
   "outputs": [
    {
     "name": "stderr",
     "output_type": "stream",
     "text": [
      "100%|██████████| 38/38 [00:00<00:00, 90.30it/s]\n"
     ]
    },
    {
     "name": "stdout",
     "output_type": "stream",
     "text": [
      "number of cores used 10\n",
      "number of pools 1\n"
     ]
    },
    {
     "name": "stderr",
     "output_type": "stream",
     "text": [
      "100%|██████████| 1/1 [00:04<00:00,  4.82s/it]\n"
     ]
    },
    {
     "name": "stdout",
     "output_type": "stream",
     "text": [
      "\n",
      "shape of the pool outputs: (10, 40, 50)\n",
      "targeted shape: (10, 40, 50)\n",
      "----------------------------------------------------------------------\n",
      "number of sets of parameters 4\n",
      "----------------------------------------------------------------------\n"
     ]
    },
    {
     "name": "stderr",
     "output_type": "stream",
     "text": [
      "  0%|          | 0/4 [00:00<?, ?it/s]\n",
      "  0%|          | 0/38 [00:00<?, ?it/s]\u001b[A\n",
      " 21%|██        | 8/38 [00:00<00:00, 79.42it/s]\u001b[A\n",
      " 45%|████▍     | 17/38 [00:00<00:00, 82.85it/s]\u001b[AC:\\Users\\samud\\anaconda3\\lib\\site-packages\\numpy\\lib\\nanfunctions.py:1117: RuntimeWarning:\n",
      "\n",
      "Mean of empty slice\n",
      "\n",
      "\n",
      " 68%|██████▊   | 26/38 [00:00<00:00, 80.74it/s]\u001b[AC:\\Users\\samud\\Bureau\\Python code\\Repo\\tsma\\models\\gross2022.py:647: RuntimeWarning:\n",
      "\n",
      "Mean of empty slice\n",
      "\n",
      "C:\\Users\\samud\\Bureau\\Python code\\Repo\\tsma\\models\\gross2022.py:835: RuntimeWarning:\n",
      "\n",
      "Mean of empty slice\n",
      "\n",
      "C:\\Users\\samud\\Bureau\\Python code\\Repo\\tsma\\models\\gross2022.py:434: RuntimeWarning:\n",
      "\n",
      "Mean of empty slice\n",
      "\n",
      "C:\\Users\\samud\\Bureau\\Python code\\Repo\\tsma\\models\\gross2022.py:436: RuntimeWarning:\n",
      "\n",
      "Mean of empty slice\n",
      "\n",
      "C:\\Users\\samud\\Bureau\\Python code\\Repo\\tsma\\models\\gross2022.py:442: RuntimeWarning:\n",
      "\n",
      "Mean of empty slice\n",
      "\n",
      "C:\\Users\\samud\\anaconda3\\lib\\site-packages\\numpy\\lib\\nanfunctions.py:1670: RuntimeWarning:\n",
      "\n",
      "Degrees of freedom <= 0 for slice.\n",
      "\n",
      "C:\\Users\\samud\\Bureau\\Python code\\Repo\\tsma\\models\\gross2022.py:450: RuntimeWarning:\n",
      "\n",
      "Mean of empty slice\n",
      "\n",
      "C:\\Users\\samud\\Bureau\\Python code\\Repo\\tsma\\models\\gross2022.py:454: RuntimeWarning:\n",
      "\n",
      "Mean of empty slice\n",
      "\n",
      "C:\\Users\\samud\\Bureau\\Python code\\Repo\\tsma\\models\\gross2022.py:469: RuntimeWarning:\n",
      "\n",
      "invalid value encountered in double_scalars\n",
      "\n",
      "C:\\Users\\samud\\Bureau\\Python code\\Repo\\tsma\\models\\gross2022.py:459: RuntimeWarning:\n",
      "\n",
      "Mean of empty slice\n",
      "\n",
      "C:\\Users\\samud\\Bureau\\Python code\\Repo\\tsma\\models\\gross2022.py:479: RuntimeWarning:\n",
      "\n",
      "invalid value encountered in double_scalars\n",
      "\n",
      "C:\\Users\\samud\\Bureau\\Python code\\Repo\\tsma\\models\\gross2022.py:482: RuntimeWarning:\n",
      "\n",
      "invalid value encountered in double_scalars\n",
      "\n",
      "C:\\Users\\samud\\Bureau\\Python code\\Repo\\tsma\\models\\gross2022.py:485: RuntimeWarning:\n",
      "\n",
      "divide by zero encountered in double_scalars\n",
      "\n",
      "\n",
      "100%|██████████| 38/38 [00:00<00:00, 84.67it/s]\u001b[A\n"
     ]
    },
    {
     "name": "stdout",
     "output_type": "stream",
     "text": [
      "number of cores used 10\n",
      "number of pools 1\n"
     ]
    },
    {
     "name": "stderr",
     "output_type": "stream",
     "text": [
      "\n",
      "  0%|          | 0/1 [00:00<?, ?it/s]\u001b[A\n",
      "100%|██████████| 1/1 [00:03<00:00,  3.73s/it]\u001b[A"
     ]
    },
    {
     "name": "stdout",
     "output_type": "stream",
     "text": [
      "\n",
      "shape of the pool outputs: (10, 40, 50)\n",
      "targeted shape: (10, 40, 50)\n"
     ]
    },
    {
     "name": "stderr",
     "output_type": "stream",
     "text": [
      "\n",
      "C:\\Users\\samud\\Bureau\\Python code\\Repo\\tsma\\analyses\\statistics.py:37: RuntimeWarning:\n",
      "\n",
      "Mean of empty slice\n",
      "\n",
      "C:\\Users\\samud\\anaconda3\\lib\\site-packages\\numpy\\lib\\nanfunctions.py:1545: RuntimeWarning:\n",
      "\n",
      "invalid value encountered in subtract\n",
      "\n",
      "C:\\Users\\samud\\Bureau\\Python code\\Repo\\tsma\\analyses\\statistics.py:38: RuntimeWarning:\n",
      "\n",
      "Degrees of freedom <= 0 for slice.\n",
      "\n",
      " 25%|██▌       | 1/4 [00:06<00:19,  6.50s/it]C:\\Users\\samud\\Bureau\\Python code\\Repo\\tsma\\models\\gross2022.py:647: RuntimeWarning:\n",
      "\n",
      "Mean of empty slice\n",
      "\n",
      "C:\\Users\\samud\\anaconda3\\lib\\site-packages\\numpy\\lib\\nanfunctions.py:1117: RuntimeWarning:\n",
      "\n",
      "Mean of empty slice\n",
      "\n",
      "C:\\Users\\samud\\Bureau\\Python code\\Repo\\tsma\\models\\gross2022.py:434: RuntimeWarning:\n",
      "\n",
      "Mean of empty slice\n",
      "\n",
      "C:\\Users\\samud\\Bureau\\Python code\\Repo\\tsma\\models\\gross2022.py:436: RuntimeWarning:\n",
      "\n",
      "Mean of empty slice\n",
      "\n",
      "C:\\Users\\samud\\Bureau\\Python code\\Repo\\tsma\\models\\gross2022.py:442: RuntimeWarning:\n",
      "\n",
      "Mean of empty slice\n",
      "\n",
      "C:\\Users\\samud\\anaconda3\\lib\\site-packages\\numpy\\lib\\nanfunctions.py:1670: RuntimeWarning:\n",
      "\n",
      "Degrees of freedom <= 0 for slice.\n",
      "\n",
      "C:\\Users\\samud\\Bureau\\Python code\\Repo\\tsma\\models\\gross2022.py:450: RuntimeWarning:\n",
      "\n",
      "Mean of empty slice\n",
      "\n",
      "C:\\Users\\samud\\Bureau\\Python code\\Repo\\tsma\\models\\gross2022.py:454: RuntimeWarning:\n",
      "\n",
      "Mean of empty slice\n",
      "\n",
      "C:\\Users\\samud\\Bureau\\Python code\\Repo\\tsma\\models\\gross2022.py:469: RuntimeWarning:\n",
      "\n",
      "invalid value encountered in double_scalars\n",
      "\n",
      "\n",
      "  0%|          | 0/38 [00:00<?, ?it/s]\u001b[AC:\\Users\\samud\\Bureau\\Python code\\Repo\\tsma\\models\\gross2022.py:835: RuntimeWarning:\n",
      "\n",
      "Mean of empty slice\n",
      "\n",
      "C:\\Users\\samud\\Bureau\\Python code\\Repo\\tsma\\models\\gross2022.py:459: RuntimeWarning:\n",
      "\n",
      "Mean of empty slice\n",
      "\n",
      "C:\\Users\\samud\\Bureau\\Python code\\Repo\\tsma\\models\\gross2022.py:479: RuntimeWarning:\n",
      "\n",
      "invalid value encountered in double_scalars\n",
      "\n",
      "C:\\Users\\samud\\Bureau\\Python code\\Repo\\tsma\\models\\gross2022.py:482: RuntimeWarning:\n",
      "\n",
      "invalid value encountered in double_scalars\n",
      "\n",
      "C:\\Users\\samud\\Bureau\\Python code\\Repo\\tsma\\models\\gross2022.py:485: RuntimeWarning:\n",
      "\n",
      "divide by zero encountered in double_scalars\n",
      "\n",
      "\n",
      "  8%|▊         | 3/38 [00:00<00:01, 22.28it/s]\u001b[A\n",
      " 16%|█▌        | 6/38 [00:00<00:01, 22.09it/s]\u001b[A\n",
      " 24%|██▎       | 9/38 [00:00<00:01, 22.10it/s]\u001b[A\n",
      " 32%|███▏      | 12/38 [00:00<00:01, 22.30it/s]\u001b[A\n",
      " 39%|███▉      | 15/38 [00:00<00:01, 21.71it/s]\u001b[A\n",
      " 47%|████▋     | 18/38 [00:00<00:00, 20.73it/s]\u001b[A\n",
      " 55%|█████▌    | 21/38 [00:01<00:00, 20.05it/s]\u001b[A\n",
      " 63%|██████▎   | 24/38 [00:01<00:00, 20.58it/s]\u001b[A\n",
      " 71%|███████   | 27/38 [00:01<00:00, 20.90it/s]\u001b[A\n",
      " 79%|███████▉  | 30/38 [00:01<00:00, 21.40it/s]\u001b[A\n",
      " 87%|████████▋ | 33/38 [00:01<00:00, 21.15it/s]\u001b[A\n",
      "100%|██████████| 38/38 [00:01<00:00, 20.83it/s]\u001b[A\n"
     ]
    },
    {
     "name": "stdout",
     "output_type": "stream",
     "text": [
      "number of cores used 10\n",
      "number of pools 1\n"
     ]
    },
    {
     "name": "stderr",
     "output_type": "stream",
     "text": [
      "\n",
      "  0%|          | 0/1 [00:00<?, ?it/s]\u001b[A\n",
      "100%|██████████| 1/1 [00:06<00:00,  6.66s/it]\u001b[A"
     ]
    },
    {
     "name": "stdout",
     "output_type": "stream",
     "text": [
      "\n",
      "shape of the pool outputs: (10, 40, 50)\n",
      "targeted shape: (10, 40, 50)\n"
     ]
    },
    {
     "name": "stderr",
     "output_type": "stream",
     "text": [
      "\n",
      "C:\\Users\\samud\\Bureau\\Python code\\Repo\\tsma\\analyses\\statistics.py:37: RuntimeWarning:\n",
      "\n",
      "Mean of empty slice\n",
      "\n",
      "C:\\Users\\samud\\anaconda3\\lib\\site-packages\\numpy\\lib\\nanfunctions.py:1545: RuntimeWarning:\n",
      "\n",
      "invalid value encountered in subtract\n",
      "\n",
      "C:\\Users\\samud\\Bureau\\Python code\\Repo\\tsma\\analyses\\statistics.py:38: RuntimeWarning:\n",
      "\n",
      "Degrees of freedom <= 0 for slice.\n",
      "\n",
      " 50%|█████     | 2/4 [00:17<00:18,  9.10s/it]\n",
      "  0%|          | 0/38 [00:00<?, ?it/s]\u001b[A\n",
      " 32%|███▏      | 12/38 [00:00<00:00, 111.39it/s]\u001b[AC:\\Users\\samud\\anaconda3\\lib\\site-packages\\numpy\\lib\\nanfunctions.py:1117: RuntimeWarning:\n",
      "\n",
      "Mean of empty slice\n",
      "\n",
      "\n",
      " 63%|██████▎   | 24/38 [00:00<00:00, 111.39it/s]\u001b[A\n",
      "100%|██████████| 38/38 [00:00<00:00, 105.84it/s]\u001b[A\n"
     ]
    },
    {
     "name": "stdout",
     "output_type": "stream",
     "text": [
      "number of cores used 10\n",
      "number of pools 1\n"
     ]
    },
    {
     "name": "stderr",
     "output_type": "stream",
     "text": [
      "\n",
      "  0%|          | 0/1 [00:00<?, ?it/s]\u001b[A\n",
      "100%|██████████| 1/1 [00:03<00:00,  3.65s/it]\u001b[A"
     ]
    },
    {
     "name": "stdout",
     "output_type": "stream",
     "text": [
      "\n",
      "shape of the pool outputs: (10, 40, 50)\n",
      "targeted shape: (10, 40, 50)\n"
     ]
    },
    {
     "name": "stderr",
     "output_type": "stream",
     "text": [
      "\n",
      "C:\\Users\\samud\\Bureau\\Python code\\Repo\\tsma\\analyses\\statistics.py:37: RuntimeWarning:\n",
      "\n",
      "Mean of empty slice\n",
      "\n",
      "C:\\Users\\samud\\anaconda3\\lib\\site-packages\\numpy\\lib\\nanfunctions.py:1545: RuntimeWarning:\n",
      "\n",
      "invalid value encountered in subtract\n",
      "\n",
      "C:\\Users\\samud\\Bureau\\Python code\\Repo\\tsma\\analyses\\statistics.py:38: RuntimeWarning:\n",
      "\n",
      "Degrees of freedom <= 0 for slice.\n",
      "\n",
      " 75%|███████▌  | 3/4 [00:23<00:07,  7.70s/it]\n",
      "  0%|          | 0/38 [00:00<?, ?it/s]\u001b[A\n",
      "  3%|▎         | 1/38 [00:00<00:04,  7.96it/s]\u001b[A\n",
      "  5%|▌         | 2/38 [00:00<00:04,  7.60it/s]\u001b[A\n",
      "  8%|▊         | 3/38 [00:00<00:04,  7.06it/s]\u001b[A\n",
      " 11%|█         | 4/38 [00:00<00:05,  6.78it/s]\u001b[A\n",
      " 13%|█▎        | 5/38 [00:00<00:04,  6.96it/s]\u001b[A\n",
      " 16%|█▌        | 6/38 [00:00<00:04,  6.83it/s]\u001b[A\n",
      " 18%|█▊        | 7/38 [00:01<00:04,  6.92it/s]\u001b[A\n",
      " 21%|██        | 8/38 [00:01<00:04,  6.86it/s]\u001b[A\n",
      " 24%|██▎       | 9/38 [00:01<00:04,  7.12it/s]\u001b[A\n",
      " 26%|██▋       | 10/38 [00:01<00:04,  6.95it/s]\u001b[A\n",
      " 29%|██▉       | 11/38 [00:01<00:04,  6.60it/s]\u001b[A\n",
      " 32%|███▏      | 12/38 [00:01<00:03,  6.89it/s]\u001b[A\n",
      " 34%|███▍      | 13/38 [00:01<00:03,  6.62it/s]\u001b[A\n",
      " 37%|███▋      | 14/38 [00:02<00:03,  6.74it/s]\u001b[A\n",
      " 39%|███▉      | 15/38 [00:02<00:03,  6.84it/s]\u001b[A\n",
      " 42%|████▏     | 16/38 [00:02<00:03,  7.13it/s]\u001b[A\n",
      " 45%|████▍     | 17/38 [00:02<00:02,  7.02it/s]\u001b[A\n",
      " 47%|████▋     | 18/38 [00:02<00:03,  6.51it/s]\u001b[A\n",
      " 50%|█████     | 19/38 [00:02<00:02,  6.60it/s]\u001b[A\n",
      " 53%|█████▎    | 20/38 [00:02<00:02,  6.91it/s]\u001b[A\n",
      " 55%|█████▌    | 21/38 [00:03<00:02,  7.20it/s]\u001b[A\n",
      " 58%|█████▊    | 22/38 [00:03<00:02,  7.31it/s]\u001b[A\n",
      " 61%|██████    | 23/38 [00:03<00:02,  7.20it/s]\u001b[A\n",
      " 63%|██████▎   | 24/38 [00:03<00:01,  7.16it/s]\u001b[A\n",
      " 66%|██████▌   | 25/38 [00:03<00:01,  6.88it/s]\u001b[A\n",
      " 68%|██████▊   | 26/38 [00:03<00:01,  7.04it/s]\u001b[A\n",
      " 71%|███████   | 27/38 [00:03<00:01,  7.07it/s]\u001b[A\n",
      " 74%|███████▎  | 28/38 [00:04<00:01,  7.03it/s]\u001b[A\n",
      " 76%|███████▋  | 29/38 [00:04<00:01,  7.23it/s]\u001b[A\n",
      " 79%|███████▉  | 30/38 [00:04<00:01,  7.40it/s]\u001b[A\n",
      " 82%|████████▏ | 31/38 [00:04<00:01,  6.13it/s]\u001b[A\n",
      " 84%|████████▍ | 32/38 [00:04<00:00,  6.29it/s]\u001b[A\n",
      " 87%|████████▋ | 33/38 [00:04<00:00,  6.44it/s]\u001b[AC:\\Users\\samud\\anaconda3\\lib\\site-packages\\numpy\\lib\\nanfunctions.py:1117: RuntimeWarning:\n",
      "\n",
      "Mean of empty slice\n",
      "\n",
      "\n",
      " 89%|████████▉ | 34/38 [00:04<00:00,  6.56it/s]\u001b[A\n",
      " 92%|█████████▏| 35/38 [00:05<00:00,  6.89it/s]\u001b[A\n",
      " 95%|█████████▍| 36/38 [00:05<00:00,  7.18it/s]\u001b[A\n",
      " 97%|█████████▋| 37/38 [00:05<00:00,  7.24it/s]\u001b[A\n",
      "100%|██████████| 38/38 [00:05<00:00,  6.81it/s]\u001b[A\n"
     ]
    },
    {
     "name": "stdout",
     "output_type": "stream",
     "text": [
      "number of cores used 10\n",
      "number of pools 1\n"
     ]
    },
    {
     "name": "stderr",
     "output_type": "stream",
     "text": [
      "\n",
      "  0%|          | 0/1 [00:00<?, ?it/s]\u001b[A\n",
      "100%|██████████| 1/1 [00:15<00:00, 15.76s/it]\u001b[A"
     ]
    },
    {
     "name": "stdout",
     "output_type": "stream",
     "text": [
      "\n",
      "shape of the pool outputs: (10, 40, 50)\n",
      "targeted shape: (10, 40, 50)\n"
     ]
    },
    {
     "name": "stderr",
     "output_type": "stream",
     "text": [
      "\n",
      "C:\\Users\\samud\\Bureau\\Python code\\Repo\\tsma\\analyses\\statistics.py:37: RuntimeWarning:\n",
      "\n",
      "Mean of empty slice\n",
      "\n",
      "C:\\Users\\samud\\anaconda3\\lib\\site-packages\\numpy\\lib\\nanfunctions.py:1545: RuntimeWarning:\n",
      "\n",
      "invalid value encountered in subtract\n",
      "\n",
      "C:\\Users\\samud\\Bureau\\Python code\\Repo\\tsma\\analyses\\statistics.py:38: RuntimeWarning:\n",
      "\n",
      "Degrees of freedom <= 0 for slice.\n",
      "\n",
      "100%|██████████| 4/4 [00:47<00:00, 11.83s/it]\n"
     ]
    }
   ],
   "source": [
    "from visuals.fig_management import save_transient\n",
    "from collect.data_collect import para_exploration\n",
    "\n",
    "para_ranges = {\n",
    "    \"p1__b_margin\": [0, 1],\n",
    "    \"p1__hh_cons_propensity\": [0.1, 1],\n",
    "    \"p1__tgt_capital_ratio\": [0.001, 2],\n",
    "    \n",
    "    \"p2__f_n\": [10, 1000],\n",
    "    \"p2__hh_n\": [1000, 50000],\n",
    "\n",
    "    \"p3__wages_0\": [0, 50],\n",
    "    \"p3__wages_1\": [0, 50],\n",
    "    \"p3__prices_0\": [0, 50],\n",
    "    \"p3__prices_1\": [0, 50],\n",
    "}\n",
    "varnames = list(output)\n",
    "nvar = len(varnames)\n",
    "\n",
    "if __name__ == \"__main__\":\n",
    "\n",
    "    para_exploration(\n",
    "        model,\n",
    "        m,\n",
    "        nvar,\n",
    "        nsim=10,\n",
    "        dct_bounds=para_ranges,\n",
    "        dct_groups = dct_groups,\n",
    "        ns = 20, #number of second\n",
    "        sign=0.1,\n",
    "        ncol_para=3,\n",
    "        nskip = 2,\n",
    "        f_save=save_transient\n",
    "    )"
   ]
  }
 ],
 "metadata": {
  "kernelspec": {
   "display_name": "Python 3 (ipykernel)",
   "language": "python",
   "name": "python3"
  },
  "language_info": {
   "codemirror_mode": {
    "name": "ipython",
    "version": 3
   },
   "file_extension": ".py",
   "mimetype": "text/x-python",
   "name": "python",
   "nbconvert_exporter": "python",
   "pygments_lexer": "ipython3",
   "version": "3.9.12"
  }
 },
 "nbformat": 4,
 "nbformat_minor": 5
}
