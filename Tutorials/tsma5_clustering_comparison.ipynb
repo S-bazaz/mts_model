{
 "cells": [
  {
   "cell_type": "markdown",
   "id": "c93b7a13",
   "metadata": {},
   "source": [
    "# tsma 5: Clustering comparison\n",
    "All the examples are done with an implementation of Gross's model of 2022 : https://doi.org/10.1016/j.ecolecon.2010.03.021\n",
    "\n",
    "This analysis is a homemade one, no articles are associated yet.\n",
    "\n",
    "### requirements"
   ]
  },
  {
   "cell_type": "code",
   "execution_count": 1,
   "id": "0e6d0924",
   "metadata": {},
   "outputs": [],
   "source": [
    "import os\n",
    "from tsma.models.gross2022 import Gross2022 as model\n",
    "from tsma.collect.output_management import get_save_path, query_nparameters, query_simulations\n",
    "\n",
    "parameters = {\n",
    "    \"b_margin\": 0.05,\n",
    "    \"hh_cons_propensity\": 1,\n",
    "    \"norisk_interest\": 0,\n",
    "    \"tgt_capital_ratio\": 0.1,\n",
    "    \"smooth_interest\": 15,\n",
    "    \"beta\": 1, \n",
    "}\n",
    "\n",
    "hyper_parameters = {\"f_n\": 200, \"hh_n\": 20000, \"t_end\": 100, \"seed\": 33}\n",
    "\n",
    "initial_values = {\n",
    "    \"wages_0\": 1,\n",
    "    \"wages_1\": 1,\n",
    "    \"prices_0\": 1.01,\n",
    "    \"prices_1\": 1,\n",
    "}\n",
    "\n",
    "m = model(parameters, hyper_parameters, initial_values)\n",
    "output = m.simulate(t_end = 40, seed = 10, save = True, overwrite = False)\n",
    "varnames = list(output)\n",
    "nvar = len(varnames)\n",
    "\n",
    "path_figure = os.sep.join([get_save_path(m, False), \"figures\"])"
   ]
  },
  {
   "cell_type": "markdown",
   "id": "0695a53d",
   "metadata": {},
   "source": [
    "## 1 Time series analyses"
   ]
  },
  {
   "cell_type": "markdown",
   "id": "b3f639aa",
   "metadata": {},
   "source": [
    "### Data importation"
   ]
  },
  {
   "cell_type": "code",
   "execution_count": 2,
   "id": "e452700c",
   "metadata": {},
   "outputs": [
    {
     "data": {
      "text/html": [
       "<div>\n",
       "<style scoped>\n",
       "    .dataframe tbody tr th:only-of-type {\n",
       "        vertical-align: middle;\n",
       "    }\n",
       "\n",
       "    .dataframe tbody tr th {\n",
       "        vertical-align: top;\n",
       "    }\n",
       "\n",
       "    .dataframe thead th {\n",
       "        text-align: right;\n",
       "    }\n",
       "</style>\n",
       "<table border=\"1\" class=\"dataframe\">\n",
       "  <thead>\n",
       "    <tr style=\"text-align: right;\">\n",
       "      <th></th>\n",
       "      <th>m1_v1_e1_k3_TsKMeans_c0</th>\n",
       "      <th>m2_v2_e1_k3_KMeans_c0</th>\n",
       "      <th>m2_v2_e1_k3_MiniBatch_KMeans_c0</th>\n",
       "      <th>m2_v2_e1_k3_Gaussian_Mixture_c0</th>\n",
       "      <th>m2_v2_e2_k3_KMeans_c0</th>\n",
       "      <th>m2_v2_e2_k3_MiniBatch_KMeans_c0</th>\n",
       "      <th>m2_v2_e2_k3_Gaussian_Mixture_c0</th>\n",
       "      <th>m1_v1_e1_k4_TsKMeans_c0</th>\n",
       "      <th>m2_v2_e1_k4_KMeans_c0</th>\n",
       "      <th>m2_v2_e1_k4_MiniBatch_KMeans_c0</th>\n",
       "      <th>...</th>\n",
       "      <th>m2_v2_e2_k4_KMeans_c0</th>\n",
       "      <th>m2_v2_e2_k4_MiniBatch_KMeans_c0</th>\n",
       "      <th>m2_v2_e2_k4_Gaussian_Mixture_c0</th>\n",
       "      <th>m1_v1_e1_k5_TsKMeans_c0</th>\n",
       "      <th>m2_v2_e1_k5_KMeans_c0</th>\n",
       "      <th>m2_v2_e1_k5_MiniBatch_KMeans_c0</th>\n",
       "      <th>m2_v2_e1_k5_Gaussian_Mixture_c0</th>\n",
       "      <th>m2_v2_e2_k5_KMeans_c0</th>\n",
       "      <th>m2_v2_e2_k5_MiniBatch_KMeans_c0</th>\n",
       "      <th>m2_v2_e2_k5_Gaussian_Mixture_c0</th>\n",
       "    </tr>\n",
       "    <tr>\n",
       "      <th>sim_id</th>\n",
       "      <th></th>\n",
       "      <th></th>\n",
       "      <th></th>\n",
       "      <th></th>\n",
       "      <th></th>\n",
       "      <th></th>\n",
       "      <th></th>\n",
       "      <th></th>\n",
       "      <th></th>\n",
       "      <th></th>\n",
       "      <th></th>\n",
       "      <th></th>\n",
       "      <th></th>\n",
       "      <th></th>\n",
       "      <th></th>\n",
       "      <th></th>\n",
       "      <th></th>\n",
       "      <th></th>\n",
       "      <th></th>\n",
       "      <th></th>\n",
       "      <th></th>\n",
       "    </tr>\n",
       "  </thead>\n",
       "  <tbody>\n",
       "    <tr>\n",
       "      <th>S0</th>\n",
       "      <td>2.0</td>\n",
       "      <td>1.0</td>\n",
       "      <td>0.0</td>\n",
       "      <td>0.0</td>\n",
       "      <td>1.0</td>\n",
       "      <td>0.0</td>\n",
       "      <td>1.0</td>\n",
       "      <td>2.0</td>\n",
       "      <td>0.0</td>\n",
       "      <td>1.0</td>\n",
       "      <td>...</td>\n",
       "      <td>1.0</td>\n",
       "      <td>3.0</td>\n",
       "      <td>0.0</td>\n",
       "      <td>1.0</td>\n",
       "      <td>3.0</td>\n",
       "      <td>4.0</td>\n",
       "      <td>1.0</td>\n",
       "      <td>2.0</td>\n",
       "      <td>2.0</td>\n",
       "      <td>4.0</td>\n",
       "    </tr>\n",
       "    <tr>\n",
       "      <th>S4</th>\n",
       "      <td>2.0</td>\n",
       "      <td>1.0</td>\n",
       "      <td>0.0</td>\n",
       "      <td>0.0</td>\n",
       "      <td>1.0</td>\n",
       "      <td>0.0</td>\n",
       "      <td>1.0</td>\n",
       "      <td>2.0</td>\n",
       "      <td>0.0</td>\n",
       "      <td>1.0</td>\n",
       "      <td>...</td>\n",
       "      <td>1.0</td>\n",
       "      <td>3.0</td>\n",
       "      <td>0.0</td>\n",
       "      <td>1.0</td>\n",
       "      <td>3.0</td>\n",
       "      <td>4.0</td>\n",
       "      <td>1.0</td>\n",
       "      <td>2.0</td>\n",
       "      <td>2.0</td>\n",
       "      <td>4.0</td>\n",
       "    </tr>\n",
       "    <tr>\n",
       "      <th>S6</th>\n",
       "      <td>2.0</td>\n",
       "      <td>1.0</td>\n",
       "      <td>0.0</td>\n",
       "      <td>0.0</td>\n",
       "      <td>1.0</td>\n",
       "      <td>0.0</td>\n",
       "      <td>1.0</td>\n",
       "      <td>2.0</td>\n",
       "      <td>0.0</td>\n",
       "      <td>1.0</td>\n",
       "      <td>...</td>\n",
       "      <td>1.0</td>\n",
       "      <td>3.0</td>\n",
       "      <td>0.0</td>\n",
       "      <td>1.0</td>\n",
       "      <td>3.0</td>\n",
       "      <td>4.0</td>\n",
       "      <td>1.0</td>\n",
       "      <td>2.0</td>\n",
       "      <td>2.0</td>\n",
       "      <td>4.0</td>\n",
       "    </tr>\n",
       "    <tr>\n",
       "      <th>S10</th>\n",
       "      <td>1.0</td>\n",
       "      <td>0.0</td>\n",
       "      <td>2.0</td>\n",
       "      <td>2.0</td>\n",
       "      <td>0.0</td>\n",
       "      <td>1.0</td>\n",
       "      <td>1.0</td>\n",
       "      <td>1.0</td>\n",
       "      <td>3.0</td>\n",
       "      <td>3.0</td>\n",
       "      <td>...</td>\n",
       "      <td>2.0</td>\n",
       "      <td>2.0</td>\n",
       "      <td>2.0</td>\n",
       "      <td>1.0</td>\n",
       "      <td>2.0</td>\n",
       "      <td>3.0</td>\n",
       "      <td>4.0</td>\n",
       "      <td>4.0</td>\n",
       "      <td>3.0</td>\n",
       "      <td>3.0</td>\n",
       "    </tr>\n",
       "    <tr>\n",
       "      <th>S12</th>\n",
       "      <td>1.0</td>\n",
       "      <td>0.0</td>\n",
       "      <td>2.0</td>\n",
       "      <td>2.0</td>\n",
       "      <td>0.0</td>\n",
       "      <td>1.0</td>\n",
       "      <td>1.0</td>\n",
       "      <td>1.0</td>\n",
       "      <td>3.0</td>\n",
       "      <td>3.0</td>\n",
       "      <td>...</td>\n",
       "      <td>2.0</td>\n",
       "      <td>2.0</td>\n",
       "      <td>2.0</td>\n",
       "      <td>1.0</td>\n",
       "      <td>2.0</td>\n",
       "      <td>3.0</td>\n",
       "      <td>4.0</td>\n",
       "      <td>4.0</td>\n",
       "      <td>3.0</td>\n",
       "      <td>3.0</td>\n",
       "    </tr>\n",
       "  </tbody>\n",
       "</table>\n",
       "<p>5 rows × 21 columns</p>\n",
       "</div>"
      ],
      "text/plain": [
       "        m1_v1_e1_k3_TsKMeans_c0  m2_v2_e1_k3_KMeans_c0  \\\n",
       "sim_id                                                   \n",
       "S0                          2.0                    1.0   \n",
       "S4                          2.0                    1.0   \n",
       "S6                          2.0                    1.0   \n",
       "S10                         1.0                    0.0   \n",
       "S12                         1.0                    0.0   \n",
       "\n",
       "        m2_v2_e1_k3_MiniBatch_KMeans_c0  m2_v2_e1_k3_Gaussian_Mixture_c0  \\\n",
       "sim_id                                                                     \n",
       "S0                                  0.0                              0.0   \n",
       "S4                                  0.0                              0.0   \n",
       "S6                                  0.0                              0.0   \n",
       "S10                                 2.0                              2.0   \n",
       "S12                                 2.0                              2.0   \n",
       "\n",
       "        m2_v2_e2_k3_KMeans_c0  m2_v2_e2_k3_MiniBatch_KMeans_c0  \\\n",
       "sim_id                                                           \n",
       "S0                        1.0                              0.0   \n",
       "S4                        1.0                              0.0   \n",
       "S6                        1.0                              0.0   \n",
       "S10                       0.0                              1.0   \n",
       "S12                       0.0                              1.0   \n",
       "\n",
       "        m2_v2_e2_k3_Gaussian_Mixture_c0  m1_v1_e1_k4_TsKMeans_c0  \\\n",
       "sim_id                                                             \n",
       "S0                                  1.0                      2.0   \n",
       "S4                                  1.0                      2.0   \n",
       "S6                                  1.0                      2.0   \n",
       "S10                                 1.0                      1.0   \n",
       "S12                                 1.0                      1.0   \n",
       "\n",
       "        m2_v2_e1_k4_KMeans_c0  m2_v2_e1_k4_MiniBatch_KMeans_c0  ...  \\\n",
       "sim_id                                                          ...   \n",
       "S0                        0.0                              1.0  ...   \n",
       "S4                        0.0                              1.0  ...   \n",
       "S6                        0.0                              1.0  ...   \n",
       "S10                       3.0                              3.0  ...   \n",
       "S12                       3.0                              3.0  ...   \n",
       "\n",
       "        m2_v2_e2_k4_KMeans_c0  m2_v2_e2_k4_MiniBatch_KMeans_c0  \\\n",
       "sim_id                                                           \n",
       "S0                        1.0                              3.0   \n",
       "S4                        1.0                              3.0   \n",
       "S6                        1.0                              3.0   \n",
       "S10                       2.0                              2.0   \n",
       "S12                       2.0                              2.0   \n",
       "\n",
       "        m2_v2_e2_k4_Gaussian_Mixture_c0  m1_v1_e1_k5_TsKMeans_c0  \\\n",
       "sim_id                                                             \n",
       "S0                                  0.0                      1.0   \n",
       "S4                                  0.0                      1.0   \n",
       "S6                                  0.0                      1.0   \n",
       "S10                                 2.0                      1.0   \n",
       "S12                                 2.0                      1.0   \n",
       "\n",
       "        m2_v2_e1_k5_KMeans_c0  m2_v2_e1_k5_MiniBatch_KMeans_c0  \\\n",
       "sim_id                                                           \n",
       "S0                        3.0                              4.0   \n",
       "S4                        3.0                              4.0   \n",
       "S6                        3.0                              4.0   \n",
       "S10                       2.0                              3.0   \n",
       "S12                       2.0                              3.0   \n",
       "\n",
       "        m2_v2_e1_k5_Gaussian_Mixture_c0  m2_v2_e2_k5_KMeans_c0  \\\n",
       "sim_id                                                           \n",
       "S0                                  1.0                    2.0   \n",
       "S4                                  1.0                    2.0   \n",
       "S6                                  1.0                    2.0   \n",
       "S10                                 4.0                    4.0   \n",
       "S12                                 4.0                    4.0   \n",
       "\n",
       "        m2_v2_e2_k5_MiniBatch_KMeans_c0  m2_v2_e2_k5_Gaussian_Mixture_c0  \n",
       "sim_id                                                                    \n",
       "S0                                  2.0                              4.0  \n",
       "S4                                  2.0                              4.0  \n",
       "S6                                  2.0                              4.0  \n",
       "S10                                 3.0                              3.0  \n",
       "S12                                 3.0                              3.0  \n",
       "\n",
       "[5 rows x 21 columns]"
      ]
     },
     "execution_count": 2,
     "metadata": {},
     "output_type": "execute_result"
    }
   ],
   "source": [
    "from tsma.collect.output_management import load_clusters\n",
    "from tsma.analyses.clustering import get_data_for_clustering\n",
    "\n",
    "df_params0, outputs0, path_figures = get_data_for_clustering(m, nsim = 40, sim_id0 = 0, step = 2, t_end = 40, csv_name = \"temp\")\n",
    "\n",
    "\n",
    "df_clusters = load_clusters(m, name = \"temp\")\n",
    "df_clusters.head()"
   ]
  },
  {
   "cell_type": "markdown",
   "id": "16bc7d7d",
   "metadata": {},
   "source": [
    "### Data processing\n",
    "\n",
    "**clean_df_params** drops certain parameters and improve the column's names\n",
    "\n",
    "**get_df_clusters2** give for a given cluster, its id, the clustering approach associated, a labels for plots and the ids of the simulations within the cluster."
   ]
  },
  {
   "cell_type": "code",
   "execution_count": 19,
   "id": "be0a0c4c",
   "metadata": {},
   "outputs": [
    {
     "data": {
      "text/html": [
       "<div>\n",
       "<style scoped>\n",
       "    .dataframe tbody tr th:only-of-type {\n",
       "        vertical-align: middle;\n",
       "    }\n",
       "\n",
       "    .dataframe tbody tr th {\n",
       "        vertical-align: top;\n",
       "    }\n",
       "\n",
       "    .dataframe thead th {\n",
       "        text-align: right;\n",
       "    }\n",
       "</style>\n",
       "<table border=\"1\" class=\"dataframe\">\n",
       "  <thead>\n",
       "    <tr style=\"text-align: right;\">\n",
       "      <th></th>\n",
       "      <th>cluster_id</th>\n",
       "      <th>ordercode</th>\n",
       "      <th>label</th>\n",
       "      <th>clust_number</th>\n",
       "      <th>clustering_code</th>\n",
       "      <th>sim_ids</th>\n",
       "    </tr>\n",
       "    <tr>\n",
       "      <th>cluster_id</th>\n",
       "      <th></th>\n",
       "      <th></th>\n",
       "      <th></th>\n",
       "      <th></th>\n",
       "      <th></th>\n",
       "      <th></th>\n",
       "    </tr>\n",
       "  </thead>\n",
       "  <tbody>\n",
       "    <tr>\n",
       "      <th>m1_v1_e1_k3_TsKMeans_c0_g0</th>\n",
       "      <td>m1_v1_e1_k3_TsKMeans_c0_g0</td>\n",
       "      <td>m1_TsKMeans_v1_e1_k3_c0_g0</td>\n",
       "      <td>$Ts_{1,1,1}^{0:3}$</td>\n",
       "      <td>0</td>\n",
       "      <td>m1_v1_e1_k3_TsKMeans_c0</td>\n",
       "      <td>Index(['S16', 'S18', 'S34', 'S40', 'S58', 'S60...</td>\n",
       "    </tr>\n",
       "    <tr>\n",
       "      <th>m1_v1_e1_k3_TsKMeans_c0_g1</th>\n",
       "      <td>m1_v1_e1_k3_TsKMeans_c0_g1</td>\n",
       "      <td>m1_TsKMeans_v1_e1_k3_c0_g1</td>\n",
       "      <td>$Ts_{1,1,1}^{1:3}$</td>\n",
       "      <td>1</td>\n",
       "      <td>m1_v1_e1_k3_TsKMeans_c0</td>\n",
       "      <td>Index(['S0', 'S4', 'S6', 'S22', 'S24', 'S70', ...</td>\n",
       "    </tr>\n",
       "    <tr>\n",
       "      <th>m1_v1_e1_k3_TsKMeans_c0_g2</th>\n",
       "      <td>m1_v1_e1_k3_TsKMeans_c0_g2</td>\n",
       "      <td>m1_TsKMeans_v1_e1_k3_c0_g2</td>\n",
       "      <td>$Ts_{1,1,1}^{2:3}$</td>\n",
       "      <td>2</td>\n",
       "      <td>m1_v1_e1_k3_TsKMeans_c0</td>\n",
       "      <td>Index(['S10', 'S12', 'S28', 'S30', 'S36', 'S42...</td>\n",
       "    </tr>\n",
       "    <tr>\n",
       "      <th>m1_v1_e1_k4_TsKMeans_c0_g0</th>\n",
       "      <td>m1_v1_e1_k4_TsKMeans_c0_g0</td>\n",
       "      <td>m1_TsKMeans_v1_e1_k4_c0_g0</td>\n",
       "      <td>$Ts_{1,1,1}^{0:4}$</td>\n",
       "      <td>0</td>\n",
       "      <td>m1_v1_e1_k4_TsKMeans_c0</td>\n",
       "      <td>Index(['S10', 'S12', 'S28', 'S30', 'S36', 'S42...</td>\n",
       "    </tr>\n",
       "    <tr>\n",
       "      <th>m1_v1_e1_k4_TsKMeans_c0_g1</th>\n",
       "      <td>m1_v1_e1_k4_TsKMeans_c0_g1</td>\n",
       "      <td>m1_TsKMeans_v1_e1_k4_c0_g1</td>\n",
       "      <td>$Ts_{1,1,1}^{1:4}$</td>\n",
       "      <td>1</td>\n",
       "      <td>m1_v1_e1_k4_TsKMeans_c0</td>\n",
       "      <td>Index(['S34', 'S40', 'S58', 'S60', 'S82'], dty...</td>\n",
       "    </tr>\n",
       "  </tbody>\n",
       "</table>\n",
       "</div>"
      ],
      "text/plain": [
       "                                            cluster_id  \\\n",
       "cluster_id                                               \n",
       "m1_v1_e1_k3_TsKMeans_c0_g0  m1_v1_e1_k3_TsKMeans_c0_g0   \n",
       "m1_v1_e1_k3_TsKMeans_c0_g1  m1_v1_e1_k3_TsKMeans_c0_g1   \n",
       "m1_v1_e1_k3_TsKMeans_c0_g2  m1_v1_e1_k3_TsKMeans_c0_g2   \n",
       "m1_v1_e1_k4_TsKMeans_c0_g0  m1_v1_e1_k4_TsKMeans_c0_g0   \n",
       "m1_v1_e1_k4_TsKMeans_c0_g1  m1_v1_e1_k4_TsKMeans_c0_g1   \n",
       "\n",
       "                                             ordercode               label  \\\n",
       "cluster_id                                                                   \n",
       "m1_v1_e1_k3_TsKMeans_c0_g0  m1_TsKMeans_v1_e1_k3_c0_g0  $Ts_{1,1,1}^{0:3}$   \n",
       "m1_v1_e1_k3_TsKMeans_c0_g1  m1_TsKMeans_v1_e1_k3_c0_g1  $Ts_{1,1,1}^{1:3}$   \n",
       "m1_v1_e1_k3_TsKMeans_c0_g2  m1_TsKMeans_v1_e1_k3_c0_g2  $Ts_{1,1,1}^{2:3}$   \n",
       "m1_v1_e1_k4_TsKMeans_c0_g0  m1_TsKMeans_v1_e1_k4_c0_g0  $Ts_{1,1,1}^{0:4}$   \n",
       "m1_v1_e1_k4_TsKMeans_c0_g1  m1_TsKMeans_v1_e1_k4_c0_g1  $Ts_{1,1,1}^{1:4}$   \n",
       "\n",
       "                            clust_number          clustering_code  \\\n",
       "cluster_id                                                          \n",
       "m1_v1_e1_k3_TsKMeans_c0_g0             0  m1_v1_e1_k3_TsKMeans_c0   \n",
       "m1_v1_e1_k3_TsKMeans_c0_g1             1  m1_v1_e1_k3_TsKMeans_c0   \n",
       "m1_v1_e1_k3_TsKMeans_c0_g2             2  m1_v1_e1_k3_TsKMeans_c0   \n",
       "m1_v1_e1_k4_TsKMeans_c0_g0             0  m1_v1_e1_k4_TsKMeans_c0   \n",
       "m1_v1_e1_k4_TsKMeans_c0_g1             1  m1_v1_e1_k4_TsKMeans_c0   \n",
       "\n",
       "                                                                      sim_ids  \n",
       "cluster_id                                                                     \n",
       "m1_v1_e1_k3_TsKMeans_c0_g0  Index(['S16', 'S18', 'S34', 'S40', 'S58', 'S60...  \n",
       "m1_v1_e1_k3_TsKMeans_c0_g1  Index(['S0', 'S4', 'S6', 'S22', 'S24', 'S70', ...  \n",
       "m1_v1_e1_k3_TsKMeans_c0_g2  Index(['S10', 'S12', 'S28', 'S30', 'S36', 'S42...  \n",
       "m1_v1_e1_k4_TsKMeans_c0_g0  Index(['S10', 'S12', 'S28', 'S30', 'S36', 'S42...  \n",
       "m1_v1_e1_k4_TsKMeans_c0_g1  Index(['S34', 'S40', 'S58', 'S60', 'S82'], dty...  "
      ]
     },
     "execution_count": 19,
     "metadata": {},
     "output_type": "execute_result"
    }
   ],
   "source": [
    "from tsma.analyses.clustering import get_df_clusters2, clean_df_params\n",
    "\n",
    "not_intesting_para = ['p1__norisk_interest', 'p1__smooth_interest','p1__beta',\"p2__t_end\"]\n",
    "df_params = clean_df_params(df_params0, not_intesting_para)\n",
    "df_params.index = df_params[\"sim_id\"]\n",
    "\n",
    "df_clusters2 = get_df_clusters2(df_clusters)\n",
    "df_clusters2.head()"
   ]
  },
  {
   "cell_type": "markdown",
   "id": "a12d8d92",
   "metadata": {},
   "source": [
    "Finaly **save_cluster_ts_analyses** can be used to save the following visualizations:\n",
    "- **onesim** : one simulation per cluster for a given clustering approach\n",
    "- **ci** : the confidence intervals per cluster for a given clustering approach\n",
    "- **nsim**: n simulations from a given cluster\n",
    "- **ci_clust** : the confidence intervals for a given cluster"
   ]
  },
  {
   "cell_type": "code",
   "execution_count": 11,
   "id": "7617ee4d",
   "metadata": {},
   "outputs": [
    {
     "name": "stdout",
     "output_type": "stream",
     "text": [
      "m1_v1_e1_k3_TsKMeans_c0_g0\n"
     ]
    },
    {
     "name": "stderr",
     "output_type": "stream",
     "text": [
      "C:\\Users\\samud\\Bureau\\Python code\\Repo\\tsma\\analyses\\statistics.py:37: RuntimeWarning:\n",
      "\n",
      "Mean of empty slice\n",
      "\n",
      "C:\\Users\\samud\\anaconda3\\lib\\site-packages\\numpy\\lib\\nanfunctions.py:1545: RuntimeWarning:\n",
      "\n",
      "invalid value encountered in subtract\n",
      "\n",
      "C:\\Users\\samud\\Bureau\\Python code\\Repo\\tsma\\analyses\\statistics.py:38: RuntimeWarning:\n",
      "\n",
      "Degrees of freedom <= 0 for slice.\n",
      "\n"
     ]
    },
    {
     "name": "stdout",
     "output_type": "stream",
     "text": [
      "m1_v1_e1_k3_TsKMeans_c0_g1\n"
     ]
    },
    {
     "name": "stderr",
     "output_type": "stream",
     "text": [
      "C:\\Users\\samud\\Bureau\\Python code\\Repo\\tsma\\analyses\\statistics.py:37: RuntimeWarning:\n",
      "\n",
      "Mean of empty slice\n",
      "\n",
      "C:\\Users\\samud\\Bureau\\Python code\\Repo\\tsma\\analyses\\statistics.py:38: RuntimeWarning:\n",
      "\n",
      "Degrees of freedom <= 0 for slice.\n",
      "\n"
     ]
    },
    {
     "name": "stdout",
     "output_type": "stream",
     "text": [
      "m1_v1_e1_k3_TsKMeans_c0_g2\n"
     ]
    },
    {
     "name": "stderr",
     "output_type": "stream",
     "text": [
      "C:\\Users\\samud\\Bureau\\Python code\\Repo\\tsma\\analyses\\statistics.py:37: RuntimeWarning:\n",
      "\n",
      "Mean of empty slice\n",
      "\n",
      "C:\\Users\\samud\\anaconda3\\lib\\site-packages\\numpy\\lib\\nanfunctions.py:1545: RuntimeWarning:\n",
      "\n",
      "invalid value encountered in subtract\n",
      "\n",
      "C:\\Users\\samud\\Bureau\\Python code\\Repo\\tsma\\analyses\\statistics.py:38: RuntimeWarning:\n",
      "\n",
      "Degrees of freedom <= 0 for slice.\n",
      "\n",
      "C:\\Users\\samud\\Bureau\\Python code\\Repo\\tsma\\analyses\\statistics.py:37: RuntimeWarning:\n",
      "\n",
      "Mean of empty slice\n",
      "\n",
      "C:\\Users\\samud\\anaconda3\\lib\\site-packages\\numpy\\lib\\nanfunctions.py:1545: RuntimeWarning:\n",
      "\n",
      "invalid value encountered in subtract\n",
      "\n",
      "C:\\Users\\samud\\Bureau\\Python code\\Repo\\tsma\\analyses\\statistics.py:38: RuntimeWarning:\n",
      "\n",
      "Degrees of freedom <= 0 for slice.\n",
      "\n"
     ]
    },
    {
     "name": "stdout",
     "output_type": "stream",
     "text": [
      "m1_v1_e1_k4_TsKMeans_c0_g0\n"
     ]
    },
    {
     "name": "stderr",
     "output_type": "stream",
     "text": [
      "C:\\Users\\samud\\Bureau\\Python code\\Repo\\tsma\\analyses\\statistics.py:37: RuntimeWarning:\n",
      "\n",
      "Mean of empty slice\n",
      "\n",
      "C:\\Users\\samud\\anaconda3\\lib\\site-packages\\numpy\\lib\\nanfunctions.py:1545: RuntimeWarning:\n",
      "\n",
      "invalid value encountered in subtract\n",
      "\n",
      "C:\\Users\\samud\\Bureau\\Python code\\Repo\\tsma\\analyses\\statistics.py:38: RuntimeWarning:\n",
      "\n",
      "Degrees of freedom <= 0 for slice.\n",
      "\n"
     ]
    },
    {
     "name": "stdout",
     "output_type": "stream",
     "text": [
      "m1_v1_e1_k4_TsKMeans_c0_g1\n"
     ]
    },
    {
     "name": "stderr",
     "output_type": "stream",
     "text": [
      "C:\\Users\\samud\\Bureau\\Python code\\Repo\\tsma\\analyses\\statistics.py:37: RuntimeWarning:\n",
      "\n",
      "Mean of empty slice\n",
      "\n",
      "C:\\Users\\samud\\anaconda3\\lib\\site-packages\\numpy\\lib\\nanfunctions.py:1545: RuntimeWarning:\n",
      "\n",
      "invalid value encountered in subtract\n",
      "\n",
      "C:\\Users\\samud\\Bureau\\Python code\\Repo\\tsma\\analyses\\statistics.py:38: RuntimeWarning:\n",
      "\n",
      "Degrees of freedom <= 0 for slice.\n",
      "\n"
     ]
    },
    {
     "name": "stdout",
     "output_type": "stream",
     "text": [
      "m1_v1_e1_k4_TsKMeans_c0_g2\n"
     ]
    },
    {
     "name": "stderr",
     "output_type": "stream",
     "text": [
      "C:\\Users\\samud\\Bureau\\Python code\\Repo\\tsma\\analyses\\statistics.py:37: RuntimeWarning:\n",
      "\n",
      "Mean of empty slice\n",
      "\n",
      "C:\\Users\\samud\\Bureau\\Python code\\Repo\\tsma\\analyses\\statistics.py:38: RuntimeWarning:\n",
      "\n",
      "Degrees of freedom <= 0 for slice.\n",
      "\n"
     ]
    },
    {
     "name": "stdout",
     "output_type": "stream",
     "text": [
      "m1_v1_e1_k4_TsKMeans_c0_g3\n"
     ]
    },
    {
     "name": "stderr",
     "output_type": "stream",
     "text": [
      "C:\\Users\\samud\\Bureau\\Python code\\Repo\\tsma\\analyses\\statistics.py:37: RuntimeWarning:\n",
      "\n",
      "Mean of empty slice\n",
      "\n",
      "C:\\Users\\samud\\anaconda3\\lib\\site-packages\\numpy\\lib\\nanfunctions.py:1545: RuntimeWarning:\n",
      "\n",
      "invalid value encountered in subtract\n",
      "\n",
      "C:\\Users\\samud\\Bureau\\Python code\\Repo\\tsma\\analyses\\statistics.py:38: RuntimeWarning:\n",
      "\n",
      "Degrees of freedom <= 0 for slice.\n",
      "\n",
      "C:\\Users\\samud\\Bureau\\Python code\\Repo\\tsma\\analyses\\statistics.py:37: RuntimeWarning:\n",
      "\n",
      "Mean of empty slice\n",
      "\n",
      "C:\\Users\\samud\\anaconda3\\lib\\site-packages\\numpy\\lib\\nanfunctions.py:1545: RuntimeWarning:\n",
      "\n",
      "invalid value encountered in subtract\n",
      "\n",
      "C:\\Users\\samud\\Bureau\\Python code\\Repo\\tsma\\analyses\\statistics.py:38: RuntimeWarning:\n",
      "\n",
      "Degrees of freedom <= 0 for slice.\n",
      "\n"
     ]
    },
    {
     "name": "stdout",
     "output_type": "stream",
     "text": [
      "m1_v1_e1_k5_TsKMeans_c0_g0\n"
     ]
    },
    {
     "name": "stderr",
     "output_type": "stream",
     "text": [
      "C:\\Users\\samud\\Bureau\\Python code\\Repo\\tsma\\analyses\\statistics.py:37: RuntimeWarning:\n",
      "\n",
      "Mean of empty slice\n",
      "\n",
      "C:\\Users\\samud\\anaconda3\\lib\\site-packages\\numpy\\lib\\nanfunctions.py:1545: RuntimeWarning:\n",
      "\n",
      "invalid value encountered in subtract\n",
      "\n",
      "C:\\Users\\samud\\Bureau\\Python code\\Repo\\tsma\\analyses\\statistics.py:38: RuntimeWarning:\n",
      "\n",
      "Degrees of freedom <= 0 for slice.\n",
      "\n"
     ]
    },
    {
     "name": "stdout",
     "output_type": "stream",
     "text": [
      "m1_v1_e1_k5_TsKMeans_c0_g1\n"
     ]
    },
    {
     "name": "stderr",
     "output_type": "stream",
     "text": [
      "C:\\Users\\samud\\Bureau\\Python code\\Repo\\tsma\\analyses\\statistics.py:37: RuntimeWarning:\n",
      "\n",
      "Mean of empty slice\n",
      "\n",
      "C:\\Users\\samud\\anaconda3\\lib\\site-packages\\numpy\\lib\\nanfunctions.py:1545: RuntimeWarning:\n",
      "\n",
      "invalid value encountered in subtract\n",
      "\n",
      "C:\\Users\\samud\\Bureau\\Python code\\Repo\\tsma\\analyses\\statistics.py:38: RuntimeWarning:\n",
      "\n",
      "Degrees of freedom <= 0 for slice.\n",
      "\n"
     ]
    },
    {
     "name": "stdout",
     "output_type": "stream",
     "text": [
      "m1_v1_e1_k5_TsKMeans_c0_g2\n"
     ]
    },
    {
     "name": "stderr",
     "output_type": "stream",
     "text": [
      "C:\\Users\\samud\\Bureau\\Python code\\Repo\\tsma\\analyses\\statistics.py:37: RuntimeWarning:\n",
      "\n",
      "Mean of empty slice\n",
      "\n",
      "C:\\Users\\samud\\anaconda3\\lib\\site-packages\\numpy\\lib\\nanfunctions.py:1545: RuntimeWarning:\n",
      "\n",
      "invalid value encountered in subtract\n",
      "\n",
      "C:\\Users\\samud\\Bureau\\Python code\\Repo\\tsma\\analyses\\statistics.py:38: RuntimeWarning:\n",
      "\n",
      "Degrees of freedom <= 0 for slice.\n",
      "\n"
     ]
    },
    {
     "name": "stdout",
     "output_type": "stream",
     "text": [
      "m1_v1_e1_k5_TsKMeans_c0_g3\n"
     ]
    },
    {
     "name": "stderr",
     "output_type": "stream",
     "text": [
      "C:\\Users\\samud\\Bureau\\Python code\\Repo\\tsma\\analyses\\statistics.py:37: RuntimeWarning:\n",
      "\n",
      "Mean of empty slice\n",
      "\n",
      "C:\\Users\\samud\\Bureau\\Python code\\Repo\\tsma\\analyses\\statistics.py:38: RuntimeWarning:\n",
      "\n",
      "Degrees of freedom <= 0 for slice.\n",
      "\n"
     ]
    },
    {
     "name": "stdout",
     "output_type": "stream",
     "text": [
      "m1_v1_e1_k5_TsKMeans_c0_g4\n"
     ]
    },
    {
     "name": "stderr",
     "output_type": "stream",
     "text": [
      "C:\\Users\\samud\\Bureau\\Python code\\Repo\\tsma\\analyses\\statistics.py:37: RuntimeWarning:\n",
      "\n",
      "Mean of empty slice\n",
      "\n",
      "C:\\Users\\samud\\Bureau\\Python code\\Repo\\tsma\\analyses\\statistics.py:38: RuntimeWarning:\n",
      "\n",
      "Degrees of freedom <= 0 for slice.\n",
      "\n",
      "C:\\Users\\samud\\Bureau\\Python code\\Repo\\tsma\\analyses\\statistics.py:37: RuntimeWarning:\n",
      "\n",
      "Mean of empty slice\n",
      "\n",
      "C:\\Users\\samud\\anaconda3\\lib\\site-packages\\numpy\\lib\\nanfunctions.py:1545: RuntimeWarning:\n",
      "\n",
      "invalid value encountered in subtract\n",
      "\n",
      "C:\\Users\\samud\\Bureau\\Python code\\Repo\\tsma\\analyses\\statistics.py:38: RuntimeWarning:\n",
      "\n",
      "Degrees of freedom <= 0 for slice.\n",
      "\n"
     ]
    },
    {
     "name": "stdout",
     "output_type": "stream",
     "text": [
      "m2_v2_e1_k3_Gaussian_Mixture_c0_g0\n"
     ]
    },
    {
     "name": "stderr",
     "output_type": "stream",
     "text": [
      "C:\\Users\\samud\\Bureau\\Python code\\Repo\\tsma\\analyses\\statistics.py:37: RuntimeWarning:\n",
      "\n",
      "Mean of empty slice\n",
      "\n",
      "C:\\Users\\samud\\anaconda3\\lib\\site-packages\\numpy\\lib\\nanfunctions.py:1545: RuntimeWarning:\n",
      "\n",
      "invalid value encountered in subtract\n",
      "\n",
      "C:\\Users\\samud\\Bureau\\Python code\\Repo\\tsma\\analyses\\statistics.py:38: RuntimeWarning:\n",
      "\n",
      "Degrees of freedom <= 0 for slice.\n",
      "\n"
     ]
    },
    {
     "name": "stdout",
     "output_type": "stream",
     "text": [
      "m2_v2_e1_k3_Gaussian_Mixture_c0_g1\n"
     ]
    },
    {
     "name": "stderr",
     "output_type": "stream",
     "text": [
      "C:\\Users\\samud\\Bureau\\Python code\\Repo\\tsma\\analyses\\statistics.py:37: RuntimeWarning:\n",
      "\n",
      "Mean of empty slice\n",
      "\n",
      "C:\\Users\\samud\\anaconda3\\lib\\site-packages\\numpy\\lib\\nanfunctions.py:1545: RuntimeWarning:\n",
      "\n",
      "invalid value encountered in subtract\n",
      "\n",
      "C:\\Users\\samud\\Bureau\\Python code\\Repo\\tsma\\analyses\\statistics.py:38: RuntimeWarning:\n",
      "\n",
      "Degrees of freedom <= 0 for slice.\n",
      "\n"
     ]
    },
    {
     "name": "stdout",
     "output_type": "stream",
     "text": [
      "m2_v2_e1_k3_Gaussian_Mixture_c0_g2\n"
     ]
    },
    {
     "name": "stderr",
     "output_type": "stream",
     "text": [
      "C:\\Users\\samud\\Bureau\\Python code\\Repo\\tsma\\analyses\\statistics.py:37: RuntimeWarning:\n",
      "\n",
      "Mean of empty slice\n",
      "\n",
      "C:\\Users\\samud\\Bureau\\Python code\\Repo\\tsma\\analyses\\statistics.py:38: RuntimeWarning:\n",
      "\n",
      "Degrees of freedom <= 0 for slice.\n",
      "\n",
      "C:\\Users\\samud\\Bureau\\Python code\\Repo\\tsma\\analyses\\statistics.py:37: RuntimeWarning:\n",
      "\n",
      "Mean of empty slice\n",
      "\n",
      "C:\\Users\\samud\\anaconda3\\lib\\site-packages\\numpy\\lib\\nanfunctions.py:1545: RuntimeWarning:\n",
      "\n",
      "invalid value encountered in subtract\n",
      "\n",
      "C:\\Users\\samud\\Bureau\\Python code\\Repo\\tsma\\analyses\\statistics.py:38: RuntimeWarning:\n",
      "\n",
      "Degrees of freedom <= 0 for slice.\n",
      "\n"
     ]
    },
    {
     "name": "stdout",
     "output_type": "stream",
     "text": [
      "m2_v2_e1_k4_Gaussian_Mixture_c0_g0\n"
     ]
    },
    {
     "name": "stderr",
     "output_type": "stream",
     "text": [
      "C:\\Users\\samud\\Bureau\\Python code\\Repo\\tsma\\analyses\\statistics.py:37: RuntimeWarning:\n",
      "\n",
      "Mean of empty slice\n",
      "\n",
      "C:\\Users\\samud\\anaconda3\\lib\\site-packages\\numpy\\lib\\nanfunctions.py:1545: RuntimeWarning:\n",
      "\n",
      "invalid value encountered in subtract\n",
      "\n",
      "C:\\Users\\samud\\Bureau\\Python code\\Repo\\tsma\\analyses\\statistics.py:38: RuntimeWarning:\n",
      "\n",
      "Degrees of freedom <= 0 for slice.\n",
      "\n"
     ]
    },
    {
     "name": "stdout",
     "output_type": "stream",
     "text": [
      "m2_v2_e1_k4_Gaussian_Mixture_c0_g1\n"
     ]
    },
    {
     "name": "stderr",
     "output_type": "stream",
     "text": [
      "C:\\Users\\samud\\Bureau\\Python code\\Repo\\tsma\\analyses\\statistics.py:37: RuntimeWarning:\n",
      "\n",
      "Mean of empty slice\n",
      "\n",
      "C:\\Users\\samud\\anaconda3\\lib\\site-packages\\numpy\\lib\\nanfunctions.py:1545: RuntimeWarning:\n",
      "\n",
      "invalid value encountered in subtract\n",
      "\n",
      "C:\\Users\\samud\\Bureau\\Python code\\Repo\\tsma\\analyses\\statistics.py:38: RuntimeWarning:\n",
      "\n",
      "Degrees of freedom <= 0 for slice.\n",
      "\n"
     ]
    },
    {
     "name": "stdout",
     "output_type": "stream",
     "text": [
      "m2_v2_e1_k4_Gaussian_Mixture_c0_g2\n"
     ]
    },
    {
     "name": "stderr",
     "output_type": "stream",
     "text": [
      "C:\\Users\\samud\\Bureau\\Python code\\Repo\\tsma\\analyses\\statistics.py:37: RuntimeWarning:\n",
      "\n",
      "Mean of empty slice\n",
      "\n",
      "C:\\Users\\samud\\anaconda3\\lib\\site-packages\\numpy\\lib\\nanfunctions.py:1545: RuntimeWarning:\n",
      "\n",
      "invalid value encountered in subtract\n",
      "\n",
      "C:\\Users\\samud\\Bureau\\Python code\\Repo\\tsma\\analyses\\statistics.py:38: RuntimeWarning:\n",
      "\n",
      "Degrees of freedom <= 0 for slice.\n",
      "\n"
     ]
    },
    {
     "name": "stdout",
     "output_type": "stream",
     "text": [
      "m2_v2_e1_k4_Gaussian_Mixture_c0_g3\n"
     ]
    },
    {
     "name": "stderr",
     "output_type": "stream",
     "text": [
      "C:\\Users\\samud\\Bureau\\Python code\\Repo\\tsma\\analyses\\statistics.py:37: RuntimeWarning:\n",
      "\n",
      "Mean of empty slice\n",
      "\n",
      "C:\\Users\\samud\\Bureau\\Python code\\Repo\\tsma\\analyses\\statistics.py:38: RuntimeWarning:\n",
      "\n",
      "Degrees of freedom <= 0 for slice.\n",
      "\n",
      "C:\\Users\\samud\\Bureau\\Python code\\Repo\\tsma\\analyses\\statistics.py:37: RuntimeWarning:\n",
      "\n",
      "Mean of empty slice\n",
      "\n",
      "C:\\Users\\samud\\anaconda3\\lib\\site-packages\\numpy\\lib\\nanfunctions.py:1545: RuntimeWarning:\n",
      "\n",
      "invalid value encountered in subtract\n",
      "\n",
      "C:\\Users\\samud\\Bureau\\Python code\\Repo\\tsma\\analyses\\statistics.py:38: RuntimeWarning:\n",
      "\n",
      "Degrees of freedom <= 0 for slice.\n",
      "\n"
     ]
    },
    {
     "name": "stdout",
     "output_type": "stream",
     "text": [
      "m2_v2_e1_k5_Gaussian_Mixture_c0_g0\n"
     ]
    },
    {
     "name": "stderr",
     "output_type": "stream",
     "text": [
      "C:\\Users\\samud\\Bureau\\Python code\\Repo\\tsma\\analyses\\statistics.py:37: RuntimeWarning:\n",
      "\n",
      "Mean of empty slice\n",
      "\n",
      "C:\\Users\\samud\\anaconda3\\lib\\site-packages\\numpy\\lib\\nanfunctions.py:1545: RuntimeWarning:\n",
      "\n",
      "invalid value encountered in subtract\n",
      "\n",
      "C:\\Users\\samud\\Bureau\\Python code\\Repo\\tsma\\analyses\\statistics.py:38: RuntimeWarning:\n",
      "\n",
      "Degrees of freedom <= 0 for slice.\n",
      "\n"
     ]
    },
    {
     "name": "stdout",
     "output_type": "stream",
     "text": [
      "m2_v2_e1_k5_Gaussian_Mixture_c0_g1\n"
     ]
    },
    {
     "name": "stderr",
     "output_type": "stream",
     "text": [
      "C:\\Users\\samud\\Bureau\\Python code\\Repo\\tsma\\analyses\\statistics.py:37: RuntimeWarning:\n",
      "\n",
      "Mean of empty slice\n",
      "\n",
      "C:\\Users\\samud\\anaconda3\\lib\\site-packages\\numpy\\lib\\nanfunctions.py:1545: RuntimeWarning:\n",
      "\n",
      "invalid value encountered in subtract\n",
      "\n",
      "C:\\Users\\samud\\Bureau\\Python code\\Repo\\tsma\\analyses\\statistics.py:38: RuntimeWarning:\n",
      "\n",
      "Degrees of freedom <= 0 for slice.\n",
      "\n"
     ]
    },
    {
     "name": "stdout",
     "output_type": "stream",
     "text": [
      "m2_v2_e1_k5_Gaussian_Mixture_c0_g2\n"
     ]
    },
    {
     "name": "stderr",
     "output_type": "stream",
     "text": [
      "C:\\Users\\samud\\Bureau\\Python code\\Repo\\tsma\\analyses\\statistics.py:37: RuntimeWarning:\n",
      "\n",
      "Mean of empty slice\n",
      "\n",
      "C:\\Users\\samud\\anaconda3\\lib\\site-packages\\numpy\\lib\\nanfunctions.py:1545: RuntimeWarning:\n",
      "\n",
      "invalid value encountered in subtract\n",
      "\n",
      "C:\\Users\\samud\\Bureau\\Python code\\Repo\\tsma\\analyses\\statistics.py:38: RuntimeWarning:\n",
      "\n",
      "Degrees of freedom <= 0 for slice.\n",
      "\n"
     ]
    },
    {
     "name": "stdout",
     "output_type": "stream",
     "text": [
      "m2_v2_e1_k5_Gaussian_Mixture_c0_g3\n"
     ]
    },
    {
     "name": "stderr",
     "output_type": "stream",
     "text": [
      "C:\\Users\\samud\\Bureau\\Python code\\Repo\\tsma\\analyses\\statistics.py:37: RuntimeWarning:\n",
      "\n",
      "Mean of empty slice\n",
      "\n",
      "C:\\Users\\samud\\anaconda3\\lib\\site-packages\\numpy\\lib\\nanfunctions.py:1545: RuntimeWarning:\n",
      "\n",
      "invalid value encountered in subtract\n",
      "\n",
      "C:\\Users\\samud\\Bureau\\Python code\\Repo\\tsma\\analyses\\statistics.py:38: RuntimeWarning:\n",
      "\n",
      "Degrees of freedom <= 0 for slice.\n",
      "\n"
     ]
    },
    {
     "name": "stdout",
     "output_type": "stream",
     "text": [
      "m2_v2_e1_k5_Gaussian_Mixture_c0_g4\n"
     ]
    },
    {
     "name": "stderr",
     "output_type": "stream",
     "text": [
      "C:\\Users\\samud\\Bureau\\Python code\\Repo\\tsma\\analyses\\statistics.py:37: RuntimeWarning:\n",
      "\n",
      "Mean of empty slice\n",
      "\n",
      "C:\\Users\\samud\\anaconda3\\lib\\site-packages\\numpy\\lib\\nanfunctions.py:1545: RuntimeWarning:\n",
      "\n",
      "invalid value encountered in subtract\n",
      "\n",
      "C:\\Users\\samud\\Bureau\\Python code\\Repo\\tsma\\analyses\\statistics.py:38: RuntimeWarning:\n",
      "\n",
      "Degrees of freedom <= 0 for slice.\n",
      "\n",
      "C:\\Users\\samud\\Bureau\\Python code\\Repo\\tsma\\analyses\\statistics.py:37: RuntimeWarning:\n",
      "\n",
      "Mean of empty slice\n",
      "\n",
      "C:\\Users\\samud\\anaconda3\\lib\\site-packages\\numpy\\lib\\nanfunctions.py:1545: RuntimeWarning:\n",
      "\n",
      "invalid value encountered in subtract\n",
      "\n",
      "C:\\Users\\samud\\Bureau\\Python code\\Repo\\tsma\\analyses\\statistics.py:38: RuntimeWarning:\n",
      "\n",
      "Degrees of freedom <= 0 for slice.\n",
      "\n"
     ]
    },
    {
     "name": "stdout",
     "output_type": "stream",
     "text": [
      "m2_v2_e2_k3_Gaussian_Mixture_c0_g0\n"
     ]
    },
    {
     "name": "stderr",
     "output_type": "stream",
     "text": [
      "C:\\Users\\samud\\Bureau\\Python code\\Repo\\tsma\\analyses\\statistics.py:37: RuntimeWarning:\n",
      "\n",
      "Mean of empty slice\n",
      "\n",
      "C:\\Users\\samud\\anaconda3\\lib\\site-packages\\numpy\\lib\\nanfunctions.py:1545: RuntimeWarning:\n",
      "\n",
      "invalid value encountered in subtract\n",
      "\n",
      "C:\\Users\\samud\\Bureau\\Python code\\Repo\\tsma\\analyses\\statistics.py:38: RuntimeWarning:\n",
      "\n",
      "Degrees of freedom <= 0 for slice.\n",
      "\n"
     ]
    },
    {
     "name": "stdout",
     "output_type": "stream",
     "text": [
      "m2_v2_e2_k3_Gaussian_Mixture_c0_g1\n"
     ]
    },
    {
     "name": "stderr",
     "output_type": "stream",
     "text": [
      "C:\\Users\\samud\\Bureau\\Python code\\Repo\\tsma\\analyses\\statistics.py:37: RuntimeWarning:\n",
      "\n",
      "Mean of empty slice\n",
      "\n",
      "C:\\Users\\samud\\anaconda3\\lib\\site-packages\\numpy\\lib\\nanfunctions.py:1545: RuntimeWarning:\n",
      "\n",
      "invalid value encountered in subtract\n",
      "\n",
      "C:\\Users\\samud\\Bureau\\Python code\\Repo\\tsma\\analyses\\statistics.py:38: RuntimeWarning:\n",
      "\n",
      "Degrees of freedom <= 0 for slice.\n",
      "\n"
     ]
    },
    {
     "name": "stdout",
     "output_type": "stream",
     "text": [
      "m2_v2_e2_k3_Gaussian_Mixture_c0_g2\n"
     ]
    },
    {
     "name": "stderr",
     "output_type": "stream",
     "text": [
      "C:\\Users\\samud\\Bureau\\Python code\\Repo\\tsma\\analyses\\statistics.py:37: RuntimeWarning:\n",
      "\n",
      "Mean of empty slice\n",
      "\n",
      "C:\\Users\\samud\\Bureau\\Python code\\Repo\\tsma\\analyses\\statistics.py:38: RuntimeWarning:\n",
      "\n",
      "Degrees of freedom <= 0 for slice.\n",
      "\n",
      "C:\\Users\\samud\\Bureau\\Python code\\Repo\\tsma\\analyses\\statistics.py:37: RuntimeWarning:\n",
      "\n",
      "Mean of empty slice\n",
      "\n",
      "C:\\Users\\samud\\anaconda3\\lib\\site-packages\\numpy\\lib\\nanfunctions.py:1545: RuntimeWarning:\n",
      "\n",
      "invalid value encountered in subtract\n",
      "\n",
      "C:\\Users\\samud\\Bureau\\Python code\\Repo\\tsma\\analyses\\statistics.py:38: RuntimeWarning:\n",
      "\n",
      "Degrees of freedom <= 0 for slice.\n",
      "\n"
     ]
    },
    {
     "name": "stdout",
     "output_type": "stream",
     "text": [
      "m2_v2_e2_k4_Gaussian_Mixture_c0_g0\n"
     ]
    },
    {
     "name": "stderr",
     "output_type": "stream",
     "text": [
      "C:\\Users\\samud\\Bureau\\Python code\\Repo\\tsma\\analyses\\statistics.py:37: RuntimeWarning:\n",
      "\n",
      "Mean of empty slice\n",
      "\n",
      "C:\\Users\\samud\\anaconda3\\lib\\site-packages\\numpy\\lib\\nanfunctions.py:1545: RuntimeWarning:\n",
      "\n",
      "invalid value encountered in subtract\n",
      "\n",
      "C:\\Users\\samud\\Bureau\\Python code\\Repo\\tsma\\analyses\\statistics.py:38: RuntimeWarning:\n",
      "\n",
      "Degrees of freedom <= 0 for slice.\n",
      "\n"
     ]
    },
    {
     "name": "stdout",
     "output_type": "stream",
     "text": [
      "m2_v2_e2_k4_Gaussian_Mixture_c0_g1\n"
     ]
    },
    {
     "name": "stderr",
     "output_type": "stream",
     "text": [
      "C:\\Users\\samud\\Bureau\\Python code\\Repo\\tsma\\analyses\\statistics.py:37: RuntimeWarning:\n",
      "\n",
      "Mean of empty slice\n",
      "\n",
      "C:\\Users\\samud\\anaconda3\\lib\\site-packages\\numpy\\lib\\nanfunctions.py:1545: RuntimeWarning:\n",
      "\n",
      "invalid value encountered in subtract\n",
      "\n",
      "C:\\Users\\samud\\Bureau\\Python code\\Repo\\tsma\\analyses\\statistics.py:38: RuntimeWarning:\n",
      "\n",
      "Degrees of freedom <= 0 for slice.\n",
      "\n"
     ]
    },
    {
     "name": "stdout",
     "output_type": "stream",
     "text": [
      "m2_v2_e2_k4_Gaussian_Mixture_c0_g2\n"
     ]
    },
    {
     "name": "stderr",
     "output_type": "stream",
     "text": [
      "C:\\Users\\samud\\Bureau\\Python code\\Repo\\tsma\\analyses\\statistics.py:37: RuntimeWarning:\n",
      "\n",
      "Mean of empty slice\n",
      "\n",
      "C:\\Users\\samud\\Bureau\\Python code\\Repo\\tsma\\analyses\\statistics.py:38: RuntimeWarning:\n",
      "\n",
      "Degrees of freedom <= 0 for slice.\n",
      "\n"
     ]
    },
    {
     "name": "stdout",
     "output_type": "stream",
     "text": [
      "m2_v2_e2_k4_Gaussian_Mixture_c0_g3\n"
     ]
    },
    {
     "name": "stderr",
     "output_type": "stream",
     "text": [
      "C:\\Users\\samud\\Bureau\\Python code\\Repo\\tsma\\analyses\\statistics.py:37: RuntimeWarning:\n",
      "\n",
      "Mean of empty slice\n",
      "\n",
      "C:\\Users\\samud\\anaconda3\\lib\\site-packages\\numpy\\lib\\nanfunctions.py:1545: RuntimeWarning:\n",
      "\n",
      "invalid value encountered in subtract\n",
      "\n",
      "C:\\Users\\samud\\Bureau\\Python code\\Repo\\tsma\\analyses\\statistics.py:38: RuntimeWarning:\n",
      "\n",
      "Degrees of freedom <= 0 for slice.\n",
      "\n",
      "C:\\Users\\samud\\Bureau\\Python code\\Repo\\tsma\\analyses\\statistics.py:37: RuntimeWarning:\n",
      "\n",
      "Mean of empty slice\n",
      "\n",
      "C:\\Users\\samud\\anaconda3\\lib\\site-packages\\numpy\\lib\\nanfunctions.py:1545: RuntimeWarning:\n",
      "\n",
      "invalid value encountered in subtract\n",
      "\n",
      "C:\\Users\\samud\\Bureau\\Python code\\Repo\\tsma\\analyses\\statistics.py:38: RuntimeWarning:\n",
      "\n",
      "Degrees of freedom <= 0 for slice.\n",
      "\n"
     ]
    },
    {
     "name": "stdout",
     "output_type": "stream",
     "text": [
      "m2_v2_e2_k5_Gaussian_Mixture_c0_g0\n"
     ]
    },
    {
     "name": "stderr",
     "output_type": "stream",
     "text": [
      "C:\\Users\\samud\\Bureau\\Python code\\Repo\\tsma\\analyses\\statistics.py:37: RuntimeWarning:\n",
      "\n",
      "Mean of empty slice\n",
      "\n",
      "C:\\Users\\samud\\anaconda3\\lib\\site-packages\\numpy\\lib\\nanfunctions.py:1545: RuntimeWarning:\n",
      "\n",
      "invalid value encountered in subtract\n",
      "\n",
      "C:\\Users\\samud\\Bureau\\Python code\\Repo\\tsma\\analyses\\statistics.py:38: RuntimeWarning:\n",
      "\n",
      "Degrees of freedom <= 0 for slice.\n",
      "\n"
     ]
    },
    {
     "name": "stdout",
     "output_type": "stream",
     "text": [
      "m2_v2_e2_k5_Gaussian_Mixture_c0_g1\n"
     ]
    },
    {
     "name": "stderr",
     "output_type": "stream",
     "text": [
      "C:\\Users\\samud\\Bureau\\Python code\\Repo\\tsma\\analyses\\statistics.py:37: RuntimeWarning:\n",
      "\n",
      "Mean of empty slice\n",
      "\n",
      "C:\\Users\\samud\\anaconda3\\lib\\site-packages\\numpy\\lib\\nanfunctions.py:1545: RuntimeWarning:\n",
      "\n",
      "invalid value encountered in subtract\n",
      "\n",
      "C:\\Users\\samud\\Bureau\\Python code\\Repo\\tsma\\analyses\\statistics.py:38: RuntimeWarning:\n",
      "\n",
      "Degrees of freedom <= 0 for slice.\n",
      "\n"
     ]
    },
    {
     "name": "stdout",
     "output_type": "stream",
     "text": [
      "m2_v2_e2_k5_Gaussian_Mixture_c0_g2\n"
     ]
    },
    {
     "name": "stderr",
     "output_type": "stream",
     "text": [
      "C:\\Users\\samud\\Bureau\\Python code\\Repo\\tsma\\analyses\\statistics.py:37: RuntimeWarning:\n",
      "\n",
      "Mean of empty slice\n",
      "\n",
      "C:\\Users\\samud\\Bureau\\Python code\\Repo\\tsma\\analyses\\statistics.py:38: RuntimeWarning:\n",
      "\n",
      "Degrees of freedom <= 0 for slice.\n",
      "\n"
     ]
    },
    {
     "name": "stdout",
     "output_type": "stream",
     "text": [
      "m2_v2_e2_k5_Gaussian_Mixture_c0_g3\n"
     ]
    },
    {
     "name": "stderr",
     "output_type": "stream",
     "text": [
      "C:\\Users\\samud\\Bureau\\Python code\\Repo\\tsma\\analyses\\statistics.py:37: RuntimeWarning:\n",
      "\n",
      "Mean of empty slice\n",
      "\n",
      "C:\\Users\\samud\\anaconda3\\lib\\site-packages\\numpy\\lib\\nanfunctions.py:1545: RuntimeWarning:\n",
      "\n",
      "invalid value encountered in subtract\n",
      "\n",
      "C:\\Users\\samud\\Bureau\\Python code\\Repo\\tsma\\analyses\\statistics.py:38: RuntimeWarning:\n",
      "\n",
      "Degrees of freedom <= 0 for slice.\n",
      "\n"
     ]
    },
    {
     "name": "stdout",
     "output_type": "stream",
     "text": [
      "m2_v2_e2_k5_Gaussian_Mixture_c0_g4\n"
     ]
    },
    {
     "name": "stderr",
     "output_type": "stream",
     "text": [
      "C:\\Users\\samud\\Bureau\\Python code\\Repo\\tsma\\analyses\\statistics.py:37: RuntimeWarning:\n",
      "\n",
      "Mean of empty slice\n",
      "\n",
      "C:\\Users\\samud\\anaconda3\\lib\\site-packages\\numpy\\lib\\nanfunctions.py:1545: RuntimeWarning:\n",
      "\n",
      "invalid value encountered in subtract\n",
      "\n",
      "C:\\Users\\samud\\Bureau\\Python code\\Repo\\tsma\\analyses\\statistics.py:38: RuntimeWarning:\n",
      "\n",
      "Degrees of freedom <= 0 for slice.\n",
      "\n",
      "C:\\Users\\samud\\Bureau\\Python code\\Repo\\tsma\\analyses\\statistics.py:37: RuntimeWarning:\n",
      "\n",
      "Mean of empty slice\n",
      "\n",
      "C:\\Users\\samud\\anaconda3\\lib\\site-packages\\numpy\\lib\\nanfunctions.py:1545: RuntimeWarning:\n",
      "\n",
      "invalid value encountered in subtract\n",
      "\n",
      "C:\\Users\\samud\\Bureau\\Python code\\Repo\\tsma\\analyses\\statistics.py:38: RuntimeWarning:\n",
      "\n",
      "Degrees of freedom <= 0 for slice.\n",
      "\n"
     ]
    },
    {
     "name": "stdout",
     "output_type": "stream",
     "text": [
      "m2_v2_e1_k3_KMeans_c0_g0\n"
     ]
    },
    {
     "name": "stderr",
     "output_type": "stream",
     "text": [
      "C:\\Users\\samud\\Bureau\\Python code\\Repo\\tsma\\analyses\\statistics.py:37: RuntimeWarning:\n",
      "\n",
      "Mean of empty slice\n",
      "\n",
      "C:\\Users\\samud\\anaconda3\\lib\\site-packages\\numpy\\lib\\nanfunctions.py:1545: RuntimeWarning:\n",
      "\n",
      "invalid value encountered in subtract\n",
      "\n",
      "C:\\Users\\samud\\Bureau\\Python code\\Repo\\tsma\\analyses\\statistics.py:38: RuntimeWarning:\n",
      "\n",
      "Degrees of freedom <= 0 for slice.\n",
      "\n"
     ]
    },
    {
     "name": "stdout",
     "output_type": "stream",
     "text": [
      "m2_v2_e1_k3_KMeans_c0_g1\n"
     ]
    },
    {
     "name": "stderr",
     "output_type": "stream",
     "text": [
      "C:\\Users\\samud\\Bureau\\Python code\\Repo\\tsma\\analyses\\statistics.py:37: RuntimeWarning:\n",
      "\n",
      "Mean of empty slice\n",
      "\n",
      "C:\\Users\\samud\\anaconda3\\lib\\site-packages\\numpy\\lib\\nanfunctions.py:1545: RuntimeWarning:\n",
      "\n",
      "invalid value encountered in subtract\n",
      "\n",
      "C:\\Users\\samud\\Bureau\\Python code\\Repo\\tsma\\analyses\\statistics.py:38: RuntimeWarning:\n",
      "\n",
      "Degrees of freedom <= 0 for slice.\n",
      "\n"
     ]
    },
    {
     "name": "stdout",
     "output_type": "stream",
     "text": [
      "m2_v2_e1_k3_KMeans_c0_g2\n"
     ]
    },
    {
     "name": "stderr",
     "output_type": "stream",
     "text": [
      "C:\\Users\\samud\\Bureau\\Python code\\Repo\\tsma\\analyses\\statistics.py:37: RuntimeWarning:\n",
      "\n",
      "Mean of empty slice\n",
      "\n",
      "C:\\Users\\samud\\anaconda3\\lib\\site-packages\\numpy\\lib\\nanfunctions.py:1545: RuntimeWarning:\n",
      "\n",
      "invalid value encountered in subtract\n",
      "\n",
      "C:\\Users\\samud\\Bureau\\Python code\\Repo\\tsma\\analyses\\statistics.py:38: RuntimeWarning:\n",
      "\n",
      "Degrees of freedom <= 0 for slice.\n",
      "\n",
      "C:\\Users\\samud\\Bureau\\Python code\\Repo\\tsma\\analyses\\statistics.py:37: RuntimeWarning:\n",
      "\n",
      "Mean of empty slice\n",
      "\n",
      "C:\\Users\\samud\\anaconda3\\lib\\site-packages\\numpy\\lib\\nanfunctions.py:1545: RuntimeWarning:\n",
      "\n",
      "invalid value encountered in subtract\n",
      "\n",
      "C:\\Users\\samud\\Bureau\\Python code\\Repo\\tsma\\analyses\\statistics.py:38: RuntimeWarning:\n",
      "\n",
      "Degrees of freedom <= 0 for slice.\n",
      "\n"
     ]
    },
    {
     "name": "stdout",
     "output_type": "stream",
     "text": [
      "m2_v2_e1_k4_KMeans_c0_g0\n"
     ]
    },
    {
     "name": "stderr",
     "output_type": "stream",
     "text": [
      "C:\\Users\\samud\\Bureau\\Python code\\Repo\\tsma\\analyses\\statistics.py:37: RuntimeWarning:\n",
      "\n",
      "Mean of empty slice\n",
      "\n",
      "C:\\Users\\samud\\anaconda3\\lib\\site-packages\\numpy\\lib\\nanfunctions.py:1545: RuntimeWarning:\n",
      "\n",
      "invalid value encountered in subtract\n",
      "\n",
      "C:\\Users\\samud\\Bureau\\Python code\\Repo\\tsma\\analyses\\statistics.py:38: RuntimeWarning:\n",
      "\n",
      "Degrees of freedom <= 0 for slice.\n",
      "\n"
     ]
    },
    {
     "name": "stdout",
     "output_type": "stream",
     "text": [
      "m2_v2_e1_k4_KMeans_c0_g1\n"
     ]
    },
    {
     "name": "stderr",
     "output_type": "stream",
     "text": [
      "C:\\Users\\samud\\Bureau\\Python code\\Repo\\tsma\\analyses\\statistics.py:37: RuntimeWarning:\n",
      "\n",
      "Mean of empty slice\n",
      "\n",
      "C:\\Users\\samud\\anaconda3\\lib\\site-packages\\numpy\\lib\\nanfunctions.py:1545: RuntimeWarning:\n",
      "\n",
      "invalid value encountered in subtract\n",
      "\n",
      "C:\\Users\\samud\\Bureau\\Python code\\Repo\\tsma\\analyses\\statistics.py:38: RuntimeWarning:\n",
      "\n",
      "Degrees of freedom <= 0 for slice.\n",
      "\n"
     ]
    },
    {
     "name": "stdout",
     "output_type": "stream",
     "text": [
      "m2_v2_e1_k4_KMeans_c0_g2\n"
     ]
    },
    {
     "name": "stderr",
     "output_type": "stream",
     "text": [
      "C:\\Users\\samud\\Bureau\\Python code\\Repo\\tsma\\analyses\\statistics.py:37: RuntimeWarning:\n",
      "\n",
      "Mean of empty slice\n",
      "\n",
      "C:\\Users\\samud\\anaconda3\\lib\\site-packages\\numpy\\lib\\nanfunctions.py:1545: RuntimeWarning:\n",
      "\n",
      "invalid value encountered in subtract\n",
      "\n",
      "C:\\Users\\samud\\Bureau\\Python code\\Repo\\tsma\\analyses\\statistics.py:38: RuntimeWarning:\n",
      "\n",
      "Degrees of freedom <= 0 for slice.\n",
      "\n"
     ]
    },
    {
     "name": "stdout",
     "output_type": "stream",
     "text": [
      "m2_v2_e1_k4_KMeans_c0_g3\n"
     ]
    },
    {
     "name": "stderr",
     "output_type": "stream",
     "text": [
      "C:\\Users\\samud\\Bureau\\Python code\\Repo\\tsma\\analyses\\statistics.py:37: RuntimeWarning:\n",
      "\n",
      "Mean of empty slice\n",
      "\n",
      "C:\\Users\\samud\\Bureau\\Python code\\Repo\\tsma\\analyses\\statistics.py:38: RuntimeWarning:\n",
      "\n",
      "Degrees of freedom <= 0 for slice.\n",
      "\n",
      "C:\\Users\\samud\\Bureau\\Python code\\Repo\\tsma\\analyses\\statistics.py:37: RuntimeWarning:\n",
      "\n",
      "Mean of empty slice\n",
      "\n",
      "C:\\Users\\samud\\anaconda3\\lib\\site-packages\\numpy\\lib\\nanfunctions.py:1545: RuntimeWarning:\n",
      "\n",
      "invalid value encountered in subtract\n",
      "\n",
      "C:\\Users\\samud\\Bureau\\Python code\\Repo\\tsma\\analyses\\statistics.py:38: RuntimeWarning:\n",
      "\n",
      "Degrees of freedom <= 0 for slice.\n",
      "\n"
     ]
    },
    {
     "name": "stdout",
     "output_type": "stream",
     "text": [
      "m2_v2_e1_k5_KMeans_c0_g0\n"
     ]
    },
    {
     "name": "stderr",
     "output_type": "stream",
     "text": [
      "C:\\Users\\samud\\Bureau\\Python code\\Repo\\tsma\\analyses\\statistics.py:37: RuntimeWarning:\n",
      "\n",
      "Mean of empty slice\n",
      "\n",
      "C:\\Users\\samud\\anaconda3\\lib\\site-packages\\numpy\\lib\\nanfunctions.py:1545: RuntimeWarning:\n",
      "\n",
      "invalid value encountered in subtract\n",
      "\n",
      "C:\\Users\\samud\\Bureau\\Python code\\Repo\\tsma\\analyses\\statistics.py:38: RuntimeWarning:\n",
      "\n",
      "Degrees of freedom <= 0 for slice.\n",
      "\n"
     ]
    },
    {
     "name": "stdout",
     "output_type": "stream",
     "text": [
      "m2_v2_e1_k5_KMeans_c0_g1\n"
     ]
    },
    {
     "name": "stderr",
     "output_type": "stream",
     "text": [
      "C:\\Users\\samud\\Bureau\\Python code\\Repo\\tsma\\analyses\\statistics.py:37: RuntimeWarning:\n",
      "\n",
      "Mean of empty slice\n",
      "\n",
      "C:\\Users\\samud\\anaconda3\\lib\\site-packages\\numpy\\lib\\nanfunctions.py:1545: RuntimeWarning:\n",
      "\n",
      "invalid value encountered in subtract\n",
      "\n",
      "C:\\Users\\samud\\Bureau\\Python code\\Repo\\tsma\\analyses\\statistics.py:38: RuntimeWarning:\n",
      "\n",
      "Degrees of freedom <= 0 for slice.\n",
      "\n"
     ]
    },
    {
     "name": "stdout",
     "output_type": "stream",
     "text": [
      "m2_v2_e1_k5_KMeans_c0_g2\n"
     ]
    },
    {
     "name": "stderr",
     "output_type": "stream",
     "text": [
      "C:\\Users\\samud\\Bureau\\Python code\\Repo\\tsma\\analyses\\statistics.py:37: RuntimeWarning:\n",
      "\n",
      "Mean of empty slice\n",
      "\n",
      "C:\\Users\\samud\\anaconda3\\lib\\site-packages\\numpy\\lib\\nanfunctions.py:1545: RuntimeWarning:\n",
      "\n",
      "invalid value encountered in subtract\n",
      "\n",
      "C:\\Users\\samud\\Bureau\\Python code\\Repo\\tsma\\analyses\\statistics.py:38: RuntimeWarning:\n",
      "\n",
      "Degrees of freedom <= 0 for slice.\n",
      "\n"
     ]
    },
    {
     "name": "stdout",
     "output_type": "stream",
     "text": [
      "m2_v2_e1_k5_KMeans_c0_g3\n"
     ]
    },
    {
     "name": "stderr",
     "output_type": "stream",
     "text": [
      "C:\\Users\\samud\\Bureau\\Python code\\Repo\\tsma\\analyses\\statistics.py:37: RuntimeWarning:\n",
      "\n",
      "Mean of empty slice\n",
      "\n",
      "C:\\Users\\samud\\anaconda3\\lib\\site-packages\\numpy\\lib\\nanfunctions.py:1545: RuntimeWarning:\n",
      "\n",
      "invalid value encountered in subtract\n",
      "\n",
      "C:\\Users\\samud\\Bureau\\Python code\\Repo\\tsma\\analyses\\statistics.py:38: RuntimeWarning:\n",
      "\n",
      "Degrees of freedom <= 0 for slice.\n",
      "\n"
     ]
    },
    {
     "name": "stdout",
     "output_type": "stream",
     "text": [
      "m2_v2_e1_k5_KMeans_c0_g4\n"
     ]
    },
    {
     "name": "stderr",
     "output_type": "stream",
     "text": [
      "C:\\Users\\samud\\Bureau\\Python code\\Repo\\tsma\\analyses\\statistics.py:37: RuntimeWarning:\n",
      "\n",
      "Mean of empty slice\n",
      "\n",
      "C:\\Users\\samud\\anaconda3\\lib\\site-packages\\numpy\\lib\\nanfunctions.py:1545: RuntimeWarning:\n",
      "\n",
      "invalid value encountered in subtract\n",
      "\n",
      "C:\\Users\\samud\\Bureau\\Python code\\Repo\\tsma\\analyses\\statistics.py:38: RuntimeWarning:\n",
      "\n",
      "Degrees of freedom <= 0 for slice.\n",
      "\n",
      "C:\\Users\\samud\\Bureau\\Python code\\Repo\\tsma\\analyses\\statistics.py:37: RuntimeWarning:\n",
      "\n",
      "Mean of empty slice\n",
      "\n",
      "C:\\Users\\samud\\anaconda3\\lib\\site-packages\\numpy\\lib\\nanfunctions.py:1545: RuntimeWarning:\n",
      "\n",
      "invalid value encountered in subtract\n",
      "\n",
      "C:\\Users\\samud\\Bureau\\Python code\\Repo\\tsma\\analyses\\statistics.py:38: RuntimeWarning:\n",
      "\n",
      "Degrees of freedom <= 0 for slice.\n",
      "\n"
     ]
    },
    {
     "name": "stdout",
     "output_type": "stream",
     "text": [
      "m2_v2_e2_k3_KMeans_c0_g0\n"
     ]
    },
    {
     "name": "stderr",
     "output_type": "stream",
     "text": [
      "C:\\Users\\samud\\Bureau\\Python code\\Repo\\tsma\\analyses\\statistics.py:37: RuntimeWarning:\n",
      "\n",
      "Mean of empty slice\n",
      "\n",
      "C:\\Users\\samud\\Bureau\\Python code\\Repo\\tsma\\analyses\\statistics.py:38: RuntimeWarning:\n",
      "\n",
      "Degrees of freedom <= 0 for slice.\n",
      "\n"
     ]
    },
    {
     "name": "stdout",
     "output_type": "stream",
     "text": [
      "m2_v2_e2_k3_KMeans_c0_g1\n"
     ]
    },
    {
     "name": "stderr",
     "output_type": "stream",
     "text": [
      "C:\\Users\\samud\\Bureau\\Python code\\Repo\\tsma\\analyses\\statistics.py:37: RuntimeWarning:\n",
      "\n",
      "Mean of empty slice\n",
      "\n",
      "C:\\Users\\samud\\anaconda3\\lib\\site-packages\\numpy\\lib\\nanfunctions.py:1545: RuntimeWarning:\n",
      "\n",
      "invalid value encountered in subtract\n",
      "\n",
      "C:\\Users\\samud\\Bureau\\Python code\\Repo\\tsma\\analyses\\statistics.py:38: RuntimeWarning:\n",
      "\n",
      "Degrees of freedom <= 0 for slice.\n",
      "\n"
     ]
    },
    {
     "name": "stdout",
     "output_type": "stream",
     "text": [
      "m2_v2_e2_k3_KMeans_c0_g2\n"
     ]
    },
    {
     "name": "stderr",
     "output_type": "stream",
     "text": [
      "C:\\Users\\samud\\Bureau\\Python code\\Repo\\tsma\\analyses\\statistics.py:37: RuntimeWarning:\n",
      "\n",
      "Mean of empty slice\n",
      "\n",
      "C:\\Users\\samud\\anaconda3\\lib\\site-packages\\numpy\\lib\\nanfunctions.py:1545: RuntimeWarning:\n",
      "\n",
      "invalid value encountered in subtract\n",
      "\n",
      "C:\\Users\\samud\\Bureau\\Python code\\Repo\\tsma\\analyses\\statistics.py:38: RuntimeWarning:\n",
      "\n",
      "Degrees of freedom <= 0 for slice.\n",
      "\n",
      "C:\\Users\\samud\\Bureau\\Python code\\Repo\\tsma\\analyses\\statistics.py:37: RuntimeWarning:\n",
      "\n",
      "Mean of empty slice\n",
      "\n",
      "C:\\Users\\samud\\Bureau\\Python code\\Repo\\tsma\\analyses\\statistics.py:38: RuntimeWarning:\n",
      "\n",
      "Degrees of freedom <= 0 for slice.\n",
      "\n",
      "C:\\Users\\samud\\anaconda3\\lib\\site-packages\\numpy\\lib\\nanfunctions.py:1545: RuntimeWarning:\n",
      "\n",
      "invalid value encountered in subtract\n",
      "\n"
     ]
    },
    {
     "name": "stdout",
     "output_type": "stream",
     "text": [
      "m2_v2_e2_k4_KMeans_c0_g0\n"
     ]
    },
    {
     "name": "stderr",
     "output_type": "stream",
     "text": [
      "C:\\Users\\samud\\Bureau\\Python code\\Repo\\tsma\\analyses\\statistics.py:37: RuntimeWarning:\n",
      "\n",
      "Mean of empty slice\n",
      "\n",
      "C:\\Users\\samud\\anaconda3\\lib\\site-packages\\numpy\\lib\\nanfunctions.py:1545: RuntimeWarning:\n",
      "\n",
      "invalid value encountered in subtract\n",
      "\n",
      "C:\\Users\\samud\\Bureau\\Python code\\Repo\\tsma\\analyses\\statistics.py:38: RuntimeWarning:\n",
      "\n",
      "Degrees of freedom <= 0 for slice.\n",
      "\n"
     ]
    },
    {
     "name": "stdout",
     "output_type": "stream",
     "text": [
      "m2_v2_e2_k4_KMeans_c0_g1\n"
     ]
    },
    {
     "name": "stderr",
     "output_type": "stream",
     "text": [
      "C:\\Users\\samud\\Bureau\\Python code\\Repo\\tsma\\analyses\\statistics.py:37: RuntimeWarning:\n",
      "\n",
      "Mean of empty slice\n",
      "\n",
      "C:\\Users\\samud\\anaconda3\\lib\\site-packages\\numpy\\lib\\nanfunctions.py:1545: RuntimeWarning:\n",
      "\n",
      "invalid value encountered in subtract\n",
      "\n",
      "C:\\Users\\samud\\Bureau\\Python code\\Repo\\tsma\\analyses\\statistics.py:38: RuntimeWarning:\n",
      "\n",
      "Degrees of freedom <= 0 for slice.\n",
      "\n"
     ]
    },
    {
     "name": "stdout",
     "output_type": "stream",
     "text": [
      "m2_v2_e2_k4_KMeans_c0_g2\n"
     ]
    },
    {
     "name": "stderr",
     "output_type": "stream",
     "text": [
      "C:\\Users\\samud\\Bureau\\Python code\\Repo\\tsma\\analyses\\statistics.py:37: RuntimeWarning:\n",
      "\n",
      "Mean of empty slice\n",
      "\n",
      "C:\\Users\\samud\\Bureau\\Python code\\Repo\\tsma\\analyses\\statistics.py:38: RuntimeWarning:\n",
      "\n",
      "Degrees of freedom <= 0 for slice.\n",
      "\n"
     ]
    },
    {
     "name": "stdout",
     "output_type": "stream",
     "text": [
      "m2_v2_e2_k4_KMeans_c0_g3\n"
     ]
    },
    {
     "name": "stderr",
     "output_type": "stream",
     "text": [
      "C:\\Users\\samud\\Bureau\\Python code\\Repo\\tsma\\analyses\\statistics.py:37: RuntimeWarning:\n",
      "\n",
      "Mean of empty slice\n",
      "\n",
      "C:\\Users\\samud\\anaconda3\\lib\\site-packages\\numpy\\lib\\nanfunctions.py:1545: RuntimeWarning:\n",
      "\n",
      "invalid value encountered in subtract\n",
      "\n",
      "C:\\Users\\samud\\Bureau\\Python code\\Repo\\tsma\\analyses\\statistics.py:38: RuntimeWarning:\n",
      "\n",
      "Degrees of freedom <= 0 for slice.\n",
      "\n",
      "C:\\Users\\samud\\Bureau\\Python code\\Repo\\tsma\\analyses\\statistics.py:37: RuntimeWarning:\n",
      "\n",
      "Mean of empty slice\n",
      "\n",
      "C:\\Users\\samud\\anaconda3\\lib\\site-packages\\numpy\\lib\\nanfunctions.py:1545: RuntimeWarning:\n",
      "\n",
      "invalid value encountered in subtract\n",
      "\n",
      "C:\\Users\\samud\\Bureau\\Python code\\Repo\\tsma\\analyses\\statistics.py:38: RuntimeWarning:\n",
      "\n",
      "Degrees of freedom <= 0 for slice.\n",
      "\n"
     ]
    },
    {
     "name": "stdout",
     "output_type": "stream",
     "text": [
      "m2_v2_e2_k5_KMeans_c0_g0\n"
     ]
    },
    {
     "name": "stderr",
     "output_type": "stream",
     "text": [
      "C:\\Users\\samud\\Bureau\\Python code\\Repo\\tsma\\analyses\\statistics.py:37: RuntimeWarning:\n",
      "\n",
      "Mean of empty slice\n",
      "\n",
      "C:\\Users\\samud\\anaconda3\\lib\\site-packages\\numpy\\lib\\nanfunctions.py:1545: RuntimeWarning:\n",
      "\n",
      "invalid value encountered in subtract\n",
      "\n",
      "C:\\Users\\samud\\Bureau\\Python code\\Repo\\tsma\\analyses\\statistics.py:38: RuntimeWarning:\n",
      "\n",
      "Degrees of freedom <= 0 for slice.\n",
      "\n"
     ]
    },
    {
     "name": "stdout",
     "output_type": "stream",
     "text": [
      "m2_v2_e2_k5_KMeans_c0_g1\n"
     ]
    },
    {
     "name": "stderr",
     "output_type": "stream",
     "text": [
      "C:\\Users\\samud\\Bureau\\Python code\\Repo\\tsma\\analyses\\statistics.py:37: RuntimeWarning:\n",
      "\n",
      "Mean of empty slice\n",
      "\n",
      "C:\\Users\\samud\\anaconda3\\lib\\site-packages\\numpy\\lib\\nanfunctions.py:1545: RuntimeWarning:\n",
      "\n",
      "invalid value encountered in subtract\n",
      "\n",
      "C:\\Users\\samud\\Bureau\\Python code\\Repo\\tsma\\analyses\\statistics.py:38: RuntimeWarning:\n",
      "\n",
      "Degrees of freedom <= 0 for slice.\n",
      "\n"
     ]
    },
    {
     "name": "stdout",
     "output_type": "stream",
     "text": [
      "m2_v2_e2_k5_KMeans_c0_g2\n"
     ]
    },
    {
     "name": "stderr",
     "output_type": "stream",
     "text": [
      "C:\\Users\\samud\\Bureau\\Python code\\Repo\\tsma\\analyses\\statistics.py:37: RuntimeWarning:\n",
      "\n",
      "Mean of empty slice\n",
      "\n",
      "C:\\Users\\samud\\anaconda3\\lib\\site-packages\\numpy\\lib\\nanfunctions.py:1545: RuntimeWarning:\n",
      "\n",
      "invalid value encountered in subtract\n",
      "\n",
      "C:\\Users\\samud\\Bureau\\Python code\\Repo\\tsma\\analyses\\statistics.py:38: RuntimeWarning:\n",
      "\n",
      "Degrees of freedom <= 0 for slice.\n",
      "\n"
     ]
    },
    {
     "name": "stdout",
     "output_type": "stream",
     "text": [
      "m2_v2_e2_k5_KMeans_c0_g3\n"
     ]
    },
    {
     "name": "stderr",
     "output_type": "stream",
     "text": [
      "C:\\Users\\samud\\Bureau\\Python code\\Repo\\tsma\\analyses\\statistics.py:37: RuntimeWarning:\n",
      "\n",
      "Mean of empty slice\n",
      "\n",
      "C:\\Users\\samud\\Bureau\\Python code\\Repo\\tsma\\analyses\\statistics.py:38: RuntimeWarning:\n",
      "\n",
      "Degrees of freedom <= 0 for slice.\n",
      "\n"
     ]
    },
    {
     "name": "stdout",
     "output_type": "stream",
     "text": [
      "m2_v2_e2_k5_KMeans_c0_g4\n"
     ]
    },
    {
     "name": "stderr",
     "output_type": "stream",
     "text": [
      "C:\\Users\\samud\\Bureau\\Python code\\Repo\\tsma\\analyses\\statistics.py:37: RuntimeWarning:\n",
      "\n",
      "Mean of empty slice\n",
      "\n",
      "C:\\Users\\samud\\anaconda3\\lib\\site-packages\\numpy\\lib\\nanfunctions.py:1545: RuntimeWarning:\n",
      "\n",
      "invalid value encountered in subtract\n",
      "\n",
      "C:\\Users\\samud\\Bureau\\Python code\\Repo\\tsma\\analyses\\statistics.py:38: RuntimeWarning:\n",
      "\n",
      "Degrees of freedom <= 0 for slice.\n",
      "\n",
      "C:\\Users\\samud\\Bureau\\Python code\\Repo\\tsma\\analyses\\statistics.py:37: RuntimeWarning:\n",
      "\n",
      "Mean of empty slice\n",
      "\n",
      "C:\\Users\\samud\\anaconda3\\lib\\site-packages\\numpy\\lib\\nanfunctions.py:1545: RuntimeWarning:\n",
      "\n",
      "invalid value encountered in subtract\n",
      "\n",
      "C:\\Users\\samud\\Bureau\\Python code\\Repo\\tsma\\analyses\\statistics.py:38: RuntimeWarning:\n",
      "\n",
      "Degrees of freedom <= 0 for slice.\n",
      "\n"
     ]
    },
    {
     "name": "stdout",
     "output_type": "stream",
     "text": [
      "m2_v2_e1_k3_MiniBatch_KMeans_c0_g0\n"
     ]
    },
    {
     "name": "stderr",
     "output_type": "stream",
     "text": [
      "C:\\Users\\samud\\Bureau\\Python code\\Repo\\tsma\\analyses\\statistics.py:37: RuntimeWarning:\n",
      "\n",
      "Mean of empty slice\n",
      "\n",
      "C:\\Users\\samud\\anaconda3\\lib\\site-packages\\numpy\\lib\\nanfunctions.py:1545: RuntimeWarning:\n",
      "\n",
      "invalid value encountered in subtract\n",
      "\n",
      "C:\\Users\\samud\\Bureau\\Python code\\Repo\\tsma\\analyses\\statistics.py:38: RuntimeWarning:\n",
      "\n",
      "Degrees of freedom <= 0 for slice.\n",
      "\n"
     ]
    },
    {
     "name": "stdout",
     "output_type": "stream",
     "text": [
      "m2_v2_e1_k3_MiniBatch_KMeans_c0_g1\n"
     ]
    },
    {
     "name": "stderr",
     "output_type": "stream",
     "text": [
      "C:\\Users\\samud\\Bureau\\Python code\\Repo\\tsma\\analyses\\statistics.py:37: RuntimeWarning:\n",
      "\n",
      "Mean of empty slice\n",
      "\n",
      "C:\\Users\\samud\\anaconda3\\lib\\site-packages\\numpy\\lib\\nanfunctions.py:1545: RuntimeWarning:\n",
      "\n",
      "invalid value encountered in subtract\n",
      "\n",
      "C:\\Users\\samud\\Bureau\\Python code\\Repo\\tsma\\analyses\\statistics.py:38: RuntimeWarning:\n",
      "\n",
      "Degrees of freedom <= 0 for slice.\n",
      "\n"
     ]
    },
    {
     "name": "stdout",
     "output_type": "stream",
     "text": [
      "m2_v2_e1_k3_MiniBatch_KMeans_c0_g2\n"
     ]
    },
    {
     "name": "stderr",
     "output_type": "stream",
     "text": [
      "C:\\Users\\samud\\Bureau\\Python code\\Repo\\tsma\\analyses\\statistics.py:37: RuntimeWarning:\n",
      "\n",
      "Mean of empty slice\n",
      "\n",
      "C:\\Users\\samud\\anaconda3\\lib\\site-packages\\numpy\\lib\\nanfunctions.py:1545: RuntimeWarning:\n",
      "\n",
      "invalid value encountered in subtract\n",
      "\n",
      "C:\\Users\\samud\\Bureau\\Python code\\Repo\\tsma\\analyses\\statistics.py:38: RuntimeWarning:\n",
      "\n",
      "Degrees of freedom <= 0 for slice.\n",
      "\n",
      "C:\\Users\\samud\\Bureau\\Python code\\Repo\\tsma\\analyses\\statistics.py:37: RuntimeWarning:\n",
      "\n",
      "Mean of empty slice\n",
      "\n",
      "C:\\Users\\samud\\anaconda3\\lib\\site-packages\\numpy\\lib\\nanfunctions.py:1545: RuntimeWarning:\n",
      "\n",
      "invalid value encountered in subtract\n",
      "\n",
      "C:\\Users\\samud\\Bureau\\Python code\\Repo\\tsma\\analyses\\statistics.py:38: RuntimeWarning:\n",
      "\n",
      "Degrees of freedom <= 0 for slice.\n",
      "\n"
     ]
    },
    {
     "name": "stdout",
     "output_type": "stream",
     "text": [
      "m2_v2_e1_k4_MiniBatch_KMeans_c0_g0\n"
     ]
    },
    {
     "name": "stderr",
     "output_type": "stream",
     "text": [
      "C:\\Users\\samud\\Bureau\\Python code\\Repo\\tsma\\analyses\\statistics.py:37: RuntimeWarning:\n",
      "\n",
      "Mean of empty slice\n",
      "\n",
      "C:\\Users\\samud\\anaconda3\\lib\\site-packages\\numpy\\lib\\nanfunctions.py:1545: RuntimeWarning:\n",
      "\n",
      "invalid value encountered in subtract\n",
      "\n",
      "C:\\Users\\samud\\Bureau\\Python code\\Repo\\tsma\\analyses\\statistics.py:38: RuntimeWarning:\n",
      "\n",
      "Degrees of freedom <= 0 for slice.\n",
      "\n"
     ]
    },
    {
     "name": "stdout",
     "output_type": "stream",
     "text": [
      "m2_v2_e1_k4_MiniBatch_KMeans_c0_g1\n"
     ]
    },
    {
     "name": "stderr",
     "output_type": "stream",
     "text": [
      "C:\\Users\\samud\\Bureau\\Python code\\Repo\\tsma\\analyses\\statistics.py:37: RuntimeWarning:\n",
      "\n",
      "Mean of empty slice\n",
      "\n",
      "C:\\Users\\samud\\anaconda3\\lib\\site-packages\\numpy\\lib\\nanfunctions.py:1545: RuntimeWarning:\n",
      "\n",
      "invalid value encountered in subtract\n",
      "\n",
      "C:\\Users\\samud\\Bureau\\Python code\\Repo\\tsma\\analyses\\statistics.py:38: RuntimeWarning:\n",
      "\n",
      "Degrees of freedom <= 0 for slice.\n",
      "\n"
     ]
    },
    {
     "name": "stdout",
     "output_type": "stream",
     "text": [
      "m2_v2_e1_k4_MiniBatch_KMeans_c0_g2\n"
     ]
    },
    {
     "name": "stderr",
     "output_type": "stream",
     "text": [
      "C:\\Users\\samud\\Bureau\\Python code\\Repo\\tsma\\analyses\\statistics.py:37: RuntimeWarning:\n",
      "\n",
      "Mean of empty slice\n",
      "\n",
      "C:\\Users\\samud\\Bureau\\Python code\\Repo\\tsma\\analyses\\statistics.py:38: RuntimeWarning:\n",
      "\n",
      "Degrees of freedom <= 0 for slice.\n",
      "\n"
     ]
    },
    {
     "name": "stdout",
     "output_type": "stream",
     "text": [
      "m2_v2_e1_k4_MiniBatch_KMeans_c0_g3\n"
     ]
    },
    {
     "name": "stderr",
     "output_type": "stream",
     "text": [
      "C:\\Users\\samud\\Bureau\\Python code\\Repo\\tsma\\analyses\\statistics.py:37: RuntimeWarning:\n",
      "\n",
      "Mean of empty slice\n",
      "\n",
      "C:\\Users\\samud\\anaconda3\\lib\\site-packages\\numpy\\lib\\nanfunctions.py:1545: RuntimeWarning:\n",
      "\n",
      "invalid value encountered in subtract\n",
      "\n",
      "C:\\Users\\samud\\Bureau\\Python code\\Repo\\tsma\\analyses\\statistics.py:38: RuntimeWarning:\n",
      "\n",
      "Degrees of freedom <= 0 for slice.\n",
      "\n",
      "C:\\Users\\samud\\Bureau\\Python code\\Repo\\tsma\\analyses\\statistics.py:37: RuntimeWarning:\n",
      "\n",
      "Mean of empty slice\n",
      "\n",
      "C:\\Users\\samud\\anaconda3\\lib\\site-packages\\numpy\\lib\\nanfunctions.py:1545: RuntimeWarning:\n",
      "\n",
      "invalid value encountered in subtract\n",
      "\n",
      "C:\\Users\\samud\\Bureau\\Python code\\Repo\\tsma\\analyses\\statistics.py:38: RuntimeWarning:\n",
      "\n",
      "Degrees of freedom <= 0 for slice.\n",
      "\n"
     ]
    },
    {
     "name": "stdout",
     "output_type": "stream",
     "text": [
      "m2_v2_e1_k5_MiniBatch_KMeans_c0_g0\n"
     ]
    },
    {
     "name": "stderr",
     "output_type": "stream",
     "text": [
      "C:\\Users\\samud\\Bureau\\Python code\\Repo\\tsma\\analyses\\statistics.py:37: RuntimeWarning:\n",
      "\n",
      "Mean of empty slice\n",
      "\n",
      "C:\\Users\\samud\\anaconda3\\lib\\site-packages\\numpy\\lib\\nanfunctions.py:1545: RuntimeWarning:\n",
      "\n",
      "invalid value encountered in subtract\n",
      "\n",
      "C:\\Users\\samud\\Bureau\\Python code\\Repo\\tsma\\analyses\\statistics.py:38: RuntimeWarning:\n",
      "\n",
      "Degrees of freedom <= 0 for slice.\n",
      "\n"
     ]
    },
    {
     "name": "stdout",
     "output_type": "stream",
     "text": [
      "m2_v2_e1_k5_MiniBatch_KMeans_c0_g1\n"
     ]
    },
    {
     "name": "stderr",
     "output_type": "stream",
     "text": [
      "C:\\Users\\samud\\Bureau\\Python code\\Repo\\tsma\\analyses\\statistics.py:37: RuntimeWarning:\n",
      "\n",
      "Mean of empty slice\n",
      "\n",
      "C:\\Users\\samud\\anaconda3\\lib\\site-packages\\numpy\\lib\\nanfunctions.py:1545: RuntimeWarning:\n",
      "\n",
      "invalid value encountered in subtract\n",
      "\n",
      "C:\\Users\\samud\\Bureau\\Python code\\Repo\\tsma\\analyses\\statistics.py:38: RuntimeWarning:\n",
      "\n",
      "Degrees of freedom <= 0 for slice.\n",
      "\n"
     ]
    },
    {
     "name": "stdout",
     "output_type": "stream",
     "text": [
      "m2_v2_e1_k5_MiniBatch_KMeans_c0_g2\n"
     ]
    },
    {
     "name": "stderr",
     "output_type": "stream",
     "text": [
      "C:\\Users\\samud\\Bureau\\Python code\\Repo\\tsma\\analyses\\statistics.py:37: RuntimeWarning:\n",
      "\n",
      "Mean of empty slice\n",
      "\n",
      "C:\\Users\\samud\\anaconda3\\lib\\site-packages\\numpy\\lib\\nanfunctions.py:1545: RuntimeWarning:\n",
      "\n",
      "invalid value encountered in subtract\n",
      "\n",
      "C:\\Users\\samud\\Bureau\\Python code\\Repo\\tsma\\analyses\\statistics.py:38: RuntimeWarning:\n",
      "\n",
      "Degrees of freedom <= 0 for slice.\n",
      "\n"
     ]
    },
    {
     "name": "stdout",
     "output_type": "stream",
     "text": [
      "m2_v2_e1_k5_MiniBatch_KMeans_c0_g3\n"
     ]
    },
    {
     "name": "stderr",
     "output_type": "stream",
     "text": [
      "C:\\Users\\samud\\Bureau\\Python code\\Repo\\tsma\\analyses\\statistics.py:37: RuntimeWarning:\n",
      "\n",
      "Mean of empty slice\n",
      "\n",
      "C:\\Users\\samud\\anaconda3\\lib\\site-packages\\numpy\\lib\\nanfunctions.py:1545: RuntimeWarning:\n",
      "\n",
      "invalid value encountered in subtract\n",
      "\n",
      "C:\\Users\\samud\\Bureau\\Python code\\Repo\\tsma\\analyses\\statistics.py:38: RuntimeWarning:\n",
      "\n",
      "Degrees of freedom <= 0 for slice.\n",
      "\n"
     ]
    },
    {
     "name": "stdout",
     "output_type": "stream",
     "text": [
      "m2_v2_e1_k5_MiniBatch_KMeans_c0_g4\n"
     ]
    },
    {
     "name": "stderr",
     "output_type": "stream",
     "text": [
      "C:\\Users\\samud\\Bureau\\Python code\\Repo\\tsma\\analyses\\statistics.py:37: RuntimeWarning:\n",
      "\n",
      "Mean of empty slice\n",
      "\n",
      "C:\\Users\\samud\\anaconda3\\lib\\site-packages\\numpy\\lib\\nanfunctions.py:1545: RuntimeWarning:\n",
      "\n",
      "invalid value encountered in subtract\n",
      "\n",
      "C:\\Users\\samud\\Bureau\\Python code\\Repo\\tsma\\analyses\\statistics.py:38: RuntimeWarning:\n",
      "\n",
      "Degrees of freedom <= 0 for slice.\n",
      "\n",
      "C:\\Users\\samud\\Bureau\\Python code\\Repo\\tsma\\analyses\\statistics.py:37: RuntimeWarning:\n",
      "\n",
      "Mean of empty slice\n",
      "\n",
      "C:\\Users\\samud\\anaconda3\\lib\\site-packages\\numpy\\lib\\nanfunctions.py:1545: RuntimeWarning:\n",
      "\n",
      "invalid value encountered in subtract\n",
      "\n",
      "C:\\Users\\samud\\Bureau\\Python code\\Repo\\tsma\\analyses\\statistics.py:38: RuntimeWarning:\n",
      "\n",
      "Degrees of freedom <= 0 for slice.\n",
      "\n"
     ]
    },
    {
     "name": "stdout",
     "output_type": "stream",
     "text": [
      "m2_v2_e2_k3_MiniBatch_KMeans_c0_g0\n"
     ]
    },
    {
     "name": "stderr",
     "output_type": "stream",
     "text": [
      "C:\\Users\\samud\\Bureau\\Python code\\Repo\\tsma\\analyses\\statistics.py:37: RuntimeWarning:\n",
      "\n",
      "Mean of empty slice\n",
      "\n",
      "C:\\Users\\samud\\anaconda3\\lib\\site-packages\\numpy\\lib\\nanfunctions.py:1545: RuntimeWarning:\n",
      "\n",
      "invalid value encountered in subtract\n",
      "\n",
      "C:\\Users\\samud\\Bureau\\Python code\\Repo\\tsma\\analyses\\statistics.py:38: RuntimeWarning:\n",
      "\n",
      "Degrees of freedom <= 0 for slice.\n",
      "\n"
     ]
    },
    {
     "name": "stdout",
     "output_type": "stream",
     "text": [
      "m2_v2_e2_k3_MiniBatch_KMeans_c0_g1\n"
     ]
    },
    {
     "name": "stderr",
     "output_type": "stream",
     "text": [
      "C:\\Users\\samud\\Bureau\\Python code\\Repo\\tsma\\analyses\\statistics.py:37: RuntimeWarning:\n",
      "\n",
      "Mean of empty slice\n",
      "\n",
      "C:\\Users\\samud\\anaconda3\\lib\\site-packages\\numpy\\lib\\nanfunctions.py:1545: RuntimeWarning:\n",
      "\n",
      "invalid value encountered in subtract\n",
      "\n",
      "C:\\Users\\samud\\Bureau\\Python code\\Repo\\tsma\\analyses\\statistics.py:38: RuntimeWarning:\n",
      "\n",
      "Degrees of freedom <= 0 for slice.\n",
      "\n"
     ]
    },
    {
     "name": "stdout",
     "output_type": "stream",
     "text": [
      "m2_v2_e2_k3_MiniBatch_KMeans_c0_g2\n"
     ]
    },
    {
     "name": "stderr",
     "output_type": "stream",
     "text": [
      "C:\\Users\\samud\\Bureau\\Python code\\Repo\\tsma\\analyses\\statistics.py:37: RuntimeWarning:\n",
      "\n",
      "Mean of empty slice\n",
      "\n",
      "C:\\Users\\samud\\anaconda3\\lib\\site-packages\\numpy\\lib\\nanfunctions.py:1545: RuntimeWarning:\n",
      "\n",
      "invalid value encountered in subtract\n",
      "\n",
      "C:\\Users\\samud\\Bureau\\Python code\\Repo\\tsma\\analyses\\statistics.py:38: RuntimeWarning:\n",
      "\n",
      "Degrees of freedom <= 0 for slice.\n",
      "\n",
      "C:\\Users\\samud\\Bureau\\Python code\\Repo\\tsma\\analyses\\statistics.py:37: RuntimeWarning:\n",
      "\n",
      "Mean of empty slice\n",
      "\n",
      "C:\\Users\\samud\\anaconda3\\lib\\site-packages\\numpy\\lib\\nanfunctions.py:1545: RuntimeWarning:\n",
      "\n",
      "invalid value encountered in subtract\n",
      "\n",
      "C:\\Users\\samud\\Bureau\\Python code\\Repo\\tsma\\analyses\\statistics.py:38: RuntimeWarning:\n",
      "\n",
      "Degrees of freedom <= 0 for slice.\n",
      "\n"
     ]
    },
    {
     "name": "stdout",
     "output_type": "stream",
     "text": [
      "m2_v2_e2_k4_MiniBatch_KMeans_c0_g0\n"
     ]
    },
    {
     "name": "stderr",
     "output_type": "stream",
     "text": [
      "C:\\Users\\samud\\Bureau\\Python code\\Repo\\tsma\\analyses\\statistics.py:37: RuntimeWarning:\n",
      "\n",
      "Mean of empty slice\n",
      "\n",
      "C:\\Users\\samud\\anaconda3\\lib\\site-packages\\numpy\\lib\\nanfunctions.py:1545: RuntimeWarning:\n",
      "\n",
      "invalid value encountered in subtract\n",
      "\n",
      "C:\\Users\\samud\\Bureau\\Python code\\Repo\\tsma\\analyses\\statistics.py:38: RuntimeWarning:\n",
      "\n",
      "Degrees of freedom <= 0 for slice.\n",
      "\n"
     ]
    },
    {
     "name": "stdout",
     "output_type": "stream",
     "text": [
      "m2_v2_e2_k4_MiniBatch_KMeans_c0_g1\n"
     ]
    },
    {
     "name": "stderr",
     "output_type": "stream",
     "text": [
      "C:\\Users\\samud\\Bureau\\Python code\\Repo\\tsma\\analyses\\statistics.py:37: RuntimeWarning:\n",
      "\n",
      "Mean of empty slice\n",
      "\n",
      "C:\\Users\\samud\\anaconda3\\lib\\site-packages\\numpy\\lib\\nanfunctions.py:1545: RuntimeWarning:\n",
      "\n",
      "invalid value encountered in subtract\n",
      "\n",
      "C:\\Users\\samud\\Bureau\\Python code\\Repo\\tsma\\analyses\\statistics.py:38: RuntimeWarning:\n",
      "\n",
      "Degrees of freedom <= 0 for slice.\n",
      "\n"
     ]
    },
    {
     "name": "stdout",
     "output_type": "stream",
     "text": [
      "m2_v2_e2_k4_MiniBatch_KMeans_c0_g2\n"
     ]
    },
    {
     "name": "stderr",
     "output_type": "stream",
     "text": [
      "C:\\Users\\samud\\Bureau\\Python code\\Repo\\tsma\\analyses\\statistics.py:37: RuntimeWarning:\n",
      "\n",
      "Mean of empty slice\n",
      "\n",
      "C:\\Users\\samud\\Bureau\\Python code\\Repo\\tsma\\analyses\\statistics.py:38: RuntimeWarning:\n",
      "\n",
      "Degrees of freedom <= 0 for slice.\n",
      "\n"
     ]
    },
    {
     "name": "stdout",
     "output_type": "stream",
     "text": [
      "m2_v2_e2_k4_MiniBatch_KMeans_c0_g3\n"
     ]
    },
    {
     "name": "stderr",
     "output_type": "stream",
     "text": [
      "C:\\Users\\samud\\Bureau\\Python code\\Repo\\tsma\\analyses\\statistics.py:37: RuntimeWarning:\n",
      "\n",
      "Mean of empty slice\n",
      "\n",
      "C:\\Users\\samud\\Bureau\\Python code\\Repo\\tsma\\analyses\\statistics.py:38: RuntimeWarning:\n",
      "\n",
      "Degrees of freedom <= 0 for slice.\n",
      "\n",
      "C:\\Users\\samud\\Bureau\\Python code\\Repo\\tsma\\analyses\\statistics.py:37: RuntimeWarning:\n",
      "\n",
      "Mean of empty slice\n",
      "\n",
      "C:\\Users\\samud\\anaconda3\\lib\\site-packages\\numpy\\lib\\nanfunctions.py:1545: RuntimeWarning:\n",
      "\n",
      "invalid value encountered in subtract\n",
      "\n",
      "C:\\Users\\samud\\Bureau\\Python code\\Repo\\tsma\\analyses\\statistics.py:38: RuntimeWarning:\n",
      "\n",
      "Degrees of freedom <= 0 for slice.\n",
      "\n"
     ]
    },
    {
     "name": "stdout",
     "output_type": "stream",
     "text": [
      "m2_v2_e2_k5_MiniBatch_KMeans_c0_g0\n"
     ]
    },
    {
     "name": "stderr",
     "output_type": "stream",
     "text": [
      "C:\\Users\\samud\\Bureau\\Python code\\Repo\\tsma\\analyses\\statistics.py:37: RuntimeWarning:\n",
      "\n",
      "Mean of empty slice\n",
      "\n",
      "C:\\Users\\samud\\Bureau\\Python code\\Repo\\tsma\\analyses\\statistics.py:38: RuntimeWarning:\n",
      "\n",
      "Degrees of freedom <= 0 for slice.\n",
      "\n"
     ]
    },
    {
     "name": "stdout",
     "output_type": "stream",
     "text": [
      "m2_v2_e2_k5_MiniBatch_KMeans_c0_g1\n"
     ]
    },
    {
     "name": "stderr",
     "output_type": "stream",
     "text": [
      "C:\\Users\\samud\\Bureau\\Python code\\Repo\\tsma\\analyses\\statistics.py:37: RuntimeWarning:\n",
      "\n",
      "Mean of empty slice\n",
      "\n",
      "C:\\Users\\samud\\anaconda3\\lib\\site-packages\\numpy\\lib\\nanfunctions.py:1545: RuntimeWarning:\n",
      "\n",
      "invalid value encountered in subtract\n",
      "\n",
      "C:\\Users\\samud\\Bureau\\Python code\\Repo\\tsma\\analyses\\statistics.py:38: RuntimeWarning:\n",
      "\n",
      "Degrees of freedom <= 0 for slice.\n",
      "\n"
     ]
    },
    {
     "name": "stdout",
     "output_type": "stream",
     "text": [
      "m2_v2_e2_k5_MiniBatch_KMeans_c0_g2\n"
     ]
    },
    {
     "name": "stderr",
     "output_type": "stream",
     "text": [
      "C:\\Users\\samud\\Bureau\\Python code\\Repo\\tsma\\analyses\\statistics.py:37: RuntimeWarning:\n",
      "\n",
      "Mean of empty slice\n",
      "\n",
      "C:\\Users\\samud\\anaconda3\\lib\\site-packages\\numpy\\lib\\nanfunctions.py:1545: RuntimeWarning:\n",
      "\n",
      "invalid value encountered in subtract\n",
      "\n",
      "C:\\Users\\samud\\Bureau\\Python code\\Repo\\tsma\\analyses\\statistics.py:38: RuntimeWarning:\n",
      "\n",
      "Degrees of freedom <= 0 for slice.\n",
      "\n"
     ]
    },
    {
     "name": "stdout",
     "output_type": "stream",
     "text": [
      "m2_v2_e2_k5_MiniBatch_KMeans_c0_g3\n"
     ]
    },
    {
     "name": "stderr",
     "output_type": "stream",
     "text": [
      "C:\\Users\\samud\\Bureau\\Python code\\Repo\\tsma\\analyses\\statistics.py:37: RuntimeWarning:\n",
      "\n",
      "Mean of empty slice\n",
      "\n",
      "C:\\Users\\samud\\anaconda3\\lib\\site-packages\\numpy\\lib\\nanfunctions.py:1545: RuntimeWarning:\n",
      "\n",
      "invalid value encountered in subtract\n",
      "\n",
      "C:\\Users\\samud\\Bureau\\Python code\\Repo\\tsma\\analyses\\statistics.py:38: RuntimeWarning:\n",
      "\n",
      "Degrees of freedom <= 0 for slice.\n",
      "\n"
     ]
    },
    {
     "name": "stdout",
     "output_type": "stream",
     "text": [
      "m2_v2_e2_k5_MiniBatch_KMeans_c0_g4\n"
     ]
    },
    {
     "name": "stderr",
     "output_type": "stream",
     "text": [
      "C:\\Users\\samud\\Bureau\\Python code\\Repo\\tsma\\analyses\\statistics.py:37: RuntimeWarning:\n",
      "\n",
      "Mean of empty slice\n",
      "\n",
      "C:\\Users\\samud\\anaconda3\\lib\\site-packages\\numpy\\lib\\nanfunctions.py:1545: RuntimeWarning:\n",
      "\n",
      "invalid value encountered in subtract\n",
      "\n",
      "C:\\Users\\samud\\Bureau\\Python code\\Repo\\tsma\\analyses\\statistics.py:38: RuntimeWarning:\n",
      "\n",
      "Degrees of freedom <= 0 for slice.\n",
      "\n",
      "C:\\Users\\samud\\Bureau\\Python code\\Repo\\tsma\\analyses\\statistics.py:37: RuntimeWarning:\n",
      "\n",
      "Mean of empty slice\n",
      "\n",
      "C:\\Users\\samud\\Bureau\\Python code\\Repo\\tsma\\analyses\\statistics.py:38: RuntimeWarning:\n",
      "\n",
      "Degrees of freedom <= 0 for slice.\n",
      "\n",
      "C:\\Users\\samud\\anaconda3\\lib\\site-packages\\numpy\\lib\\nanfunctions.py:1545: RuntimeWarning:\n",
      "\n",
      "invalid value encountered in subtract\n",
      "\n"
     ]
    }
   ],
   "source": [
    "from tsma.visuals.fig_management import save_cluster_ts_analyses\n",
    "\n",
    "save_cluster_ts_analyses(\n",
    "    outputs0,\n",
    "    varnames,\n",
    "    path_figures,\n",
    "    df_clusters2,\n",
    "    df_params,\n",
    "    nsim_clust=4,\n",
    "    onesim=True,\n",
    "    nsim=True,\n",
    "    ci=True,\n",
    "    ci_clust=True,\n",
    ")"
   ]
  },
  {
   "cell_type": "markdown",
   "id": "9e5c63df",
   "metadata": {},
   "source": [
    "## 2 clusters network"
   ]
  },
  {
   "cell_type": "markdown",
   "id": "24a11409",
   "metadata": {},
   "source": [
    "### Jaccard coefficient computation"
   ]
  },
  {
   "cell_type": "code",
   "execution_count": 20,
   "id": "a74ec304",
   "metadata": {},
   "outputs": [
    {
     "data": {
      "image/png": "[encoded data removed]",
      "text/plain": [
       "<Figure size 2160x2160 with 2 Axes>"
      ]
     },
     "metadata": {},
     "output_type": "display_data"
    }
   ],
   "source": [
    "from tsma.analyses.clustering import get_jaccard_dfs\n",
    "\n",
    "df_jaccard, df_jaccdist = get_jaccard_dfs(df_clusters2, size = 30, heatmap = True)"
   ]
  },
  {
   "cell_type": "markdown",
   "id": "16863645",
   "metadata": {},
   "source": [
    "**Temporary savings**"
   ]
  },
  {
   "cell_type": "code",
   "execution_count": 21,
   "id": "a7843615",
   "metadata": {},
   "outputs": [],
   "source": [
    "from collect.output_management import save_jaccard\n",
    "save_jaccard(m, df_jaccard, df_jaccdist, name = \"temp\")"
   ]
  },
  {
   "cell_type": "code",
   "execution_count": 2,
   "id": "5f823403",
   "metadata": {},
   "outputs": [],
   "source": [
    "from collect.output_management import load_jaccard\n",
    "df_jaccard, df_jaccdist = load_jaccard(m, name = \"temp\")"
   ]
  },
  {
   "cell_type": "markdown",
   "id": "342814c6",
   "metadata": {},
   "source": [
    "### Dendrograms\n",
    "\n",
    "Save dendrograms for hierarchical clustering."
   ]
  },
  {
   "cell_type": "code",
   "execution_count": 6,
   "id": "19ce8dce",
   "metadata": {},
   "outputs": [
    {
     "ename": "NameError",
     "evalue": "name 'df_clusters2' is not defined",
     "output_type": "error",
     "traceback": [
      "\u001b[1;31m---------------------------------------------------------------------------\u001b[0m",
      "\u001b[1;31mNameError\u001b[0m                                 Traceback (most recent call last)",
      "\u001b[1;32m~\\AppData\\Local\\Temp\\ipykernel_11736\\1124361603.py\u001b[0m in \u001b[0;36m<module>\u001b[1;34m\u001b[0m\n\u001b[0;32m      1\u001b[0m \u001b[1;32mfrom\u001b[0m \u001b[0mvisuals\u001b[0m\u001b[1;33m.\u001b[0m\u001b[0mfig_management\u001b[0m \u001b[1;32mimport\u001b[0m \u001b[0msave_cluster_dendrogram\u001b[0m\u001b[1;33m\u001b[0m\u001b[1;33m\u001b[0m\u001b[0m\n\u001b[1;32m----> 2\u001b[1;33m \u001b[0msave_cluster_dendrogram\u001b[0m\u001b[1;33m(\u001b[0m\u001b[0mdf_clusters2\u001b[0m\u001b[1;33m,\u001b[0m \u001b[0mdf_jaccdist\u001b[0m\u001b[1;33m,\u001b[0m \u001b[0mpath_figure\u001b[0m\u001b[1;33m,\u001b[0m \u001b[0mthreshold\u001b[0m \u001b[1;33m=\u001b[0m \u001b[1;36m0.8\u001b[0m\u001b[1;33m)\u001b[0m\u001b[1;33m\u001b[0m\u001b[1;33m\u001b[0m\u001b[0m\n\u001b[0m",
      "\u001b[1;31mNameError\u001b[0m: name 'df_clusters2' is not defined"
     ]
    }
   ],
   "source": [
    "from tsma.visuals.fig_management import save_cluster_dendrogram\n",
    "save_cluster_dendrogram(df_clusters2, df_jaccdist, path_figure, threshold = 0.8)"
   ]
  },
  {
   "cell_type": "markdown",
   "id": "ccb4c102",
   "metadata": {},
   "source": [
    "### Clusters network visualizations\n",
    "\n",
    "The jaccard matrix is first converted into a network"
   ]
  },
  {
   "cell_type": "code",
   "execution_count": 3,
   "id": "4b080e80",
   "metadata": {},
   "outputs": [],
   "source": [
    "from tsma.analyses.clustering import jacc_net\n",
    "net = jacc_net(df_jaccard)"
   ]
  },
  {
   "cell_type": "markdown",
   "id": "93e901c2",
   "metadata": {},
   "source": [
    "Then nodes style for plotting is built based on labels information."
   ]
  },
  {
   "cell_type": "code",
   "execution_count": 4,
   "id": "bde56f0f",
   "metadata": {},
   "outputs": [
    {
     "data": {
      "text/html": [
       "<div>\n",
       "<style scoped>\n",
       "    .dataframe tbody tr th:only-of-type {\n",
       "        vertical-align: middle;\n",
       "    }\n",
       "\n",
       "    .dataframe tbody tr th {\n",
       "        vertical-align: top;\n",
       "    }\n",
       "\n",
       "    .dataframe thead th {\n",
       "        text-align: right;\n",
       "    }\n",
       "</style>\n",
       "<table border=\"1\" class=\"dataframe\">\n",
       "  <thead>\n",
       "    <tr style=\"text-align: right;\">\n",
       "      <th></th>\n",
       "      <th>algo</th>\n",
       "      <th>m</th>\n",
       "      <th>v</th>\n",
       "      <th>e</th>\n",
       "      <th>k</th>\n",
       "    </tr>\n",
       "  </thead>\n",
       "  <tbody>\n",
       "    <tr>\n",
       "      <th>$Ts_{1,1,1}^{0:3}$</th>\n",
       "      <td>Ts</td>\n",
       "      <td>1</td>\n",
       "      <td>1</td>\n",
       "      <td>1</td>\n",
       "      <td>3</td>\n",
       "    </tr>\n",
       "    <tr>\n",
       "      <th>$Ts_{1,1,1}^{1:3}$</th>\n",
       "      <td>Ts</td>\n",
       "      <td>1</td>\n",
       "      <td>1</td>\n",
       "      <td>1</td>\n",
       "      <td>3</td>\n",
       "    </tr>\n",
       "    <tr>\n",
       "      <th>$Ts_{1,1,1}^{2:3}$</th>\n",
       "      <td>Ts</td>\n",
       "      <td>1</td>\n",
       "      <td>1</td>\n",
       "      <td>1</td>\n",
       "      <td>3</td>\n",
       "    </tr>\n",
       "    <tr>\n",
       "      <th>$Ts_{1,1,1}^{0:4}$</th>\n",
       "      <td>Ts</td>\n",
       "      <td>1</td>\n",
       "      <td>1</td>\n",
       "      <td>1</td>\n",
       "      <td>4</td>\n",
       "    </tr>\n",
       "    <tr>\n",
       "      <th>$Ts_{1,1,1}^{1:4}$</th>\n",
       "      <td>Ts</td>\n",
       "      <td>1</td>\n",
       "      <td>1</td>\n",
       "      <td>1</td>\n",
       "      <td>4</td>\n",
       "    </tr>\n",
       "  </tbody>\n",
       "</table>\n",
       "</div>"
      ],
      "text/plain": [
       "                   algo  m  v  e  k\n",
       "$Ts_{1,1,1}^{0:3}$   Ts  1  1  1  3\n",
       "$Ts_{1,1,1}^{1:3}$   Ts  1  1  1  3\n",
       "$Ts_{1,1,1}^{2:3}$   Ts  1  1  1  3\n",
       "$Ts_{1,1,1}^{0:4}$   Ts  1  1  1  4\n",
       "$Ts_{1,1,1}^{1:4}$   Ts  1  1  1  4"
      ]
     },
     "execution_count": 4,
     "metadata": {},
     "output_type": "execute_result"
    }
   ],
   "source": [
    "from tsma.analyses.clustering import get_df_labels\n",
    "df_labels = get_df_labels(net)\n",
    "df_labels.head()"
   ]
  },
  {
   "cell_type": "code",
   "execution_count": 5,
   "id": "955120a3",
   "metadata": {},
   "outputs": [
    {
     "data": {
      "text/html": [
       "<div>\n",
       "<style scoped>\n",
       "    .dataframe tbody tr th:only-of-type {\n",
       "        vertical-align: middle;\n",
       "    }\n",
       "\n",
       "    .dataframe tbody tr th {\n",
       "        vertical-align: top;\n",
       "    }\n",
       "\n",
       "    .dataframe thead th {\n",
       "        text-align: right;\n",
       "    }\n",
       "</style>\n",
       "<table border=\"1\" class=\"dataframe\">\n",
       "  <thead>\n",
       "    <tr style=\"text-align: right;\">\n",
       "      <th></th>\n",
       "      <th>algo</th>\n",
       "      <th>m</th>\n",
       "      <th>v</th>\n",
       "      <th>e</th>\n",
       "      <th>k</th>\n",
       "      <th>label</th>\n",
       "      <th>node_color</th>\n",
       "      <th>edgecolors</th>\n",
       "      <th>node_shape</th>\n",
       "    </tr>\n",
       "    <tr>\n",
       "      <th>label</th>\n",
       "      <th></th>\n",
       "      <th></th>\n",
       "      <th></th>\n",
       "      <th></th>\n",
       "      <th></th>\n",
       "      <th></th>\n",
       "      <th></th>\n",
       "      <th></th>\n",
       "      <th></th>\n",
       "    </tr>\n",
       "  </thead>\n",
       "  <tbody>\n",
       "    <tr>\n",
       "      <th>$Ts_{1,1,1}^{0:3}$</th>\n",
       "      <td>Ts</td>\n",
       "      <td>1</td>\n",
       "      <td>1</td>\n",
       "      <td>1</td>\n",
       "      <td>3</td>\n",
       "      <td>$Ts_{1,1,1}^{0:3}$</td>\n",
       "      <td>#f46d43</td>\n",
       "      <td>#721f81</td>\n",
       "      <td>s</td>\n",
       "    </tr>\n",
       "    <tr>\n",
       "      <th>$Ts_{1,1,1}^{1:3}$</th>\n",
       "      <td>Ts</td>\n",
       "      <td>1</td>\n",
       "      <td>1</td>\n",
       "      <td>1</td>\n",
       "      <td>3</td>\n",
       "      <td>$Ts_{1,1,1}^{1:3}$</td>\n",
       "      <td>#f46d43</td>\n",
       "      <td>#721f81</td>\n",
       "      <td>s</td>\n",
       "    </tr>\n",
       "    <tr>\n",
       "      <th>$Ts_{1,1,1}^{2:3}$</th>\n",
       "      <td>Ts</td>\n",
       "      <td>1</td>\n",
       "      <td>1</td>\n",
       "      <td>1</td>\n",
       "      <td>3</td>\n",
       "      <td>$Ts_{1,1,1}^{2:3}$</td>\n",
       "      <td>#f46d43</td>\n",
       "      <td>#721f81</td>\n",
       "      <td>s</td>\n",
       "    </tr>\n",
       "    <tr>\n",
       "      <th>$Ts_{1,1,1}^{0:4}$</th>\n",
       "      <td>Ts</td>\n",
       "      <td>1</td>\n",
       "      <td>1</td>\n",
       "      <td>1</td>\n",
       "      <td>4</td>\n",
       "      <td>$Ts_{1,1,1}^{0:4}$</td>\n",
       "      <td>#f46d43</td>\n",
       "      <td>#721f81</td>\n",
       "      <td>s</td>\n",
       "    </tr>\n",
       "    <tr>\n",
       "      <th>$Ts_{1,1,1}^{1:4}$</th>\n",
       "      <td>Ts</td>\n",
       "      <td>1</td>\n",
       "      <td>1</td>\n",
       "      <td>1</td>\n",
       "      <td>4</td>\n",
       "      <td>$Ts_{1,1,1}^{1:4}$</td>\n",
       "      <td>#f46d43</td>\n",
       "      <td>#721f81</td>\n",
       "      <td>s</td>\n",
       "    </tr>\n",
       "  </tbody>\n",
       "</table>\n",
       "</div>"
      ],
      "text/plain": [
       "                   algo  m  v  e  k               label node_color edgecolors  \\\n",
       "label                                                                           \n",
       "$Ts_{1,1,1}^{0:3}$   Ts  1  1  1  3  $Ts_{1,1,1}^{0:3}$    #f46d43    #721f81   \n",
       "$Ts_{1,1,1}^{1:3}$   Ts  1  1  1  3  $Ts_{1,1,1}^{1:3}$    #f46d43    #721f81   \n",
       "$Ts_{1,1,1}^{2:3}$   Ts  1  1  1  3  $Ts_{1,1,1}^{2:3}$    #f46d43    #721f81   \n",
       "$Ts_{1,1,1}^{0:4}$   Ts  1  1  1  4  $Ts_{1,1,1}^{0:4}$    #f46d43    #721f81   \n",
       "$Ts_{1,1,1}^{1:4}$   Ts  1  1  1  4  $Ts_{1,1,1}^{1:4}$    #f46d43    #721f81   \n",
       "\n",
       "                   node_shape  \n",
       "label                          \n",
       "$Ts_{1,1,1}^{0:3}$          s  \n",
       "$Ts_{1,1,1}^{1:3}$          s  \n",
       "$Ts_{1,1,1}^{2:3}$          s  \n",
       "$Ts_{1,1,1}^{0:4}$          s  \n",
       "$Ts_{1,1,1}^{1:4}$          s  "
      ]
     },
     "execution_count": 5,
     "metadata": {},
     "output_type": "execute_result"
    }
   ],
   "source": [
    "from tsma.analyses.clustering import add_nodes_styles\n",
    "df_labels2 = add_nodes_styles(df_labels)\n",
    "df_labels2.head()"
   ]
  },
  {
   "cell_type": "markdown",
   "id": "0de76581",
   "metadata": {},
   "source": [
    "Finally the graph can be visualized with different thresholds on Jaccard coefficient to consider a connection between two clusters.\n",
    "Here are the visualizations currently implemented:\n",
    "- **save_kamada_kawai**: Kamada Kawai algorithm\n",
    "- **save_spring**: 'anti-gravity force'\n",
    "- **save_spectral**: unnormalized Laplacian\n",
    "- **save_shell**\n",
    "- **save_circular**"
   ]
  },
  {
   "cell_type": "code",
   "execution_count": null,
   "id": "4dfc72eb",
   "metadata": {},
   "outputs": [],
   "source": [
    "from tsma.visuals.fig_management import save_kamada_kawai, save_spring\n",
    "\n",
    "save_kamada_kawai(\n",
    "    net, df_labels2, path_figure, thresholds=[0.1, 0.6, 0.9]\n",
    ")\n",
    "\n",
    "save_spring(\n",
    "    net, df_labels2, path_figure, thresholds=[0.1, 0.6, 0.9]\n",
    ")\n",
    "\n",
    "save_shell(\n",
    "    net, df_labels2, path_figure, thresholds=[0.1, 0.6, 0.9]\n",
    ")"
   ]
  }
 ],
 "metadata": {
  "kernelspec": {
   "display_name": "Python 3 (ipykernel)",
   "language": "python",
   "name": "python3"
  },
  "language_info": {
   "codemirror_mode": {
    "name": "ipython",
    "version": 3
   },
   "file_extension": ".py",
   "mimetype": "text/x-python",
   "name": "python",
   "nbconvert_exporter": "python",
   "pygments_lexer": "ipython3",
   "version": "3.9.12"
  }
 },
 "nbformat": 4,
 "nbformat_minor": 5
}
