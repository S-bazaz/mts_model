{
 "cells": [
  {
   "cell_type": "markdown",
   "id": "8828ba07",
   "metadata": {},
   "source": [
    "# tsma 3: Vandin & al statistical analyses and data collection\n",
    "All the examples are done with an implementation of Gross's model (2022) : https://doi.org/10.1016/j.ecolecon.2010.03.021\n",
    "\n",
    "The different statistical analyses presented here are taken from Vandin & al (2021) : http://arxiv.org/abs/2102.05405\n",
    "\n",
    "### requirements"
   ]
  },
  {
   "cell_type": "code",
   "execution_count": 1,
   "id": "ea09c0ef",
   "metadata": {},
   "outputs": [
    {
     "name": "stderr",
     "output_type": "stream",
     "text": [
      "100%|██████████| 9/9 [00:00<00:00, 39.41it/s]\n"
     ]
    }
   ],
   "source": [
    "from tsma.models.gross2022 import Gross2022 as model\n",
    "from tsma.collect.output_management import query_nparameters, query_simulations\n",
    "\n",
    "parameters = {\n",
    "    \"b_margin\": 0.05,\n",
    "    \"hh_cons_propensity\": 1,\n",
    "    \"norisk_interest\": 0,\n",
    "    \"tgt_capital_ratio\": 0.1,\n",
    "    \"smooth_interest\": 15,\n",
    "    \"beta\": 1, \n",
    "}\n",
    "\n",
    "hyper_parameters = {\"f_n\": 200, \"hh_n\": 20000, \"t_end\": 40, \"seed\": 33}\n",
    "\n",
    "initial_values = {\n",
    "    \"wages_0\": 1,\n",
    "    \"wages_1\": 1,\n",
    "    \"prices_0\": 1.01,\n",
    "    \"prices_1\": 1,\n",
    "}\n",
    "\n",
    "m = model(parameters, hyper_parameters, initial_values)\n",
    "output = m.simulate(t_end = 40, seed = 10, save = True, overwrite = False)\n",
    "\n",
    "dct_groups = {\n",
    "    \"Active Firms\": [\"n_active\"],\n",
    "    \"Nominal GDP Growth\": [\"GDP_growth\", \"unemployment_rate\"],\n",
    "    \"Debt to GDP\": [\"Debt_to_GDP\"],\n",
    "    \"Nominal loan Growth\": [\"loans_growth\"],\n",
    "    \"Wage Inflation at Firms\": [\"mean_wage_inflation\"],\n",
    "    \"Price Inflation at Firms\": [\"mean_inflation\"],\n",
    "    \"Firm Profit share in GDP\": [\"f_profit_share_GDP\"],\n",
    "    \"Wage Share in GDP\": [\"w_share_GDP\"],\n",
    "    \"Firm's Interest Coverage\": [\"firms_interest_coverage\"],\n",
    "    \"Firms Default Rate\": [\"default_rate\"],\n",
    "    \"Loss Given Default\": [\"sLGD\"],\n",
    "    \"Loan Interest rate\": [\"interest\"],\n",
    "    \"Full debt service and Rollover\": [\"full_debt_service\", \"rollover\"],\n",
    "    \"New Loans and Top-up\": [\"count_newloans\", \"count_topups\"],\n",
    "    \"Firms' and Banks' Capital Ratios\": [\"capital_ratio\", \"mean_f_capr\"],\n",
    "    # ----\n",
    "    \"Inflation\": [\"inflation\"],\n",
    "    \"Wage Inflation\": [\"wage_inflation\"],\n",
    "    \"Real Wage\": [\"real_wage\"],\n",
    "    \"GDP\": [\"GDP\"],\n",
    "    \"Real GDP\": [\"real_GDP\"],\n",
    "    \"Real GDP Growth\": [\"real_GDP_growth\"],\n",
    "    \"Loans and interest expenses\": [\"loans\", \"interest_expenses\"],\n",
    "    \"Default proba\": [\"sPD\"],\n",
    "    \"Banks' networth and losses\": [\"b_lossnet\", \"b_networth\"],\n",
    "    \"Dividends and HH cash\": [\"dividends\", \"sum_hh_cash\"],\n",
    "    \"HH earnings and savings\": [\"mean_wage\", \"mean_hh_cash\"],\n",
    "    \"Demande and Price level\": [\"mean_price\", \"mean_demand\"],\n",
    "    \"Firms Payements and Cash\": [\"sum_wage\", \"sum_f_cash\"],\n",
    "    \"Firms cash and loan\": [\"mean_loan\", \"mean_f_cash\"],\n",
    "    \"std earnings and savings\": [\"std_wage\", \"std_hh_cash\"],\n",
    "    \"std Demande and Price\": [\"std_price\", \"std_demand\"],\n",
    "    \"std Firms Cash and Loan\": [\"std_loan\", \"std_f_cash\"],\n",
    "\n",
    "}\n",
    "\n",
    "sim_ids =  query_nparameters(m, nsim = 10, sim_id0 = 0, step = 1, t_end = 40)[\"sim_id\"]\n",
    "outputs = query_simulations(m, sim_ids)"
   ]
  },
  {
   "cell_type": "markdown",
   "id": "e8fa91d5",
   "metadata": {},
   "source": [
    "## 1 Transient Analysis\n",
    "\n",
    "Transient analysis is the visualization of confidence intervals for a specific variable at a specific time, calculated using multiple simulations with different seeds (simulations generated using the same set of parameters but different seeds are considered mutually independent).\\\n",
    "\n",
    "**mosaique_transient**, **adapted_mosaique_transient** can be used to show these confidence intervals of significance **sign**.\n",
    "\n",
    "However the variables' names are needed"
   ]
  },
  {
   "cell_type": "code",
   "execution_count": 2,
   "id": "b51ced4f",
   "metadata": {},
   "outputs": [
    {
     "name": "stderr",
     "output_type": "stream",
     "text": [
      "C:\\Users\\samud\\anaconda3\\lib\\site-packages\\tsma\\analyses\\statistics.py:37: RuntimeWarning:\n",
      "\n",
      "Mean of empty slice\n",
      "\n",
      "C:\\Users\\samud\\anaconda3\\lib\\site-packages\\tsma\\analyses\\statistics.py:38: RuntimeWarning:\n",
      "\n",
      "Degrees of freedom <= 0 for slice.\n",
      "\n"
     ]
    }
   ],
   "source": [
    "from tsma.visuals.figures import mosaique_transient, adapted_mosaique_transient\n",
    "\n",
    "varnames = list(output)\n",
    "\n",
    "title = \"<b> transient </b> <br>\"\n",
    "fig = mosaique_transient(outputs,  sign = 0.01, ncol = 5, title = title , varnames = varnames )\n",
    "fig.show()\n",
    "\n",
    "title = \"<b> transient adapted</b> <br>\"\n",
    "fig = adapted_mosaique_transient(outputs, title, varnames, dct_groups,  sign = 0.01, ncol = 3)\n",
    "fig.show()\n"
   ]
  },
  {
   "cell_type": "markdown",
   "id": "cc021158",
   "metadata": {},
   "source": [
    "## 2 Asymptotical Analysis\n",
    "\n",
    "For the second analysis, the questions to answer are :\n",
    "Does a steady state reached ? If this is the case, what are the steady states values ?"
   ]
  },
  {
   "cell_type": "markdown",
   "id": "0d70aaca",
   "metadata": {},
   "source": [
    "### The relaxation time\n",
    "\n",
    "A relaxation time has to be detected in order to estimate steady stats values. \\\n",
    "To do so, a relaxation time has to be detected first with **get_relaxation_time** and a stationary test, \\\n",
    "such as **kolmogorov_smirnov_test** and **batch_test**.\n",
    "\n",
    "#### kolmogorov_smirnov_test \n",
    "\n",
    "use a minimum pvalue to reject the stationarity hypothesis and an autocorrelation threshold."
   ]
  },
  {
   "cell_type": "code",
   "execution_count": 3,
   "id": "4798c712",
   "metadata": {},
   "outputs": [
    {
     "name": "stderr",
     "output_type": "stream",
     "text": [
      "100%|██████████| 23/23 [00:01<00:00, 22.77it/s]\n",
      "C:\\Users\\samud\\anaconda3\\lib\\site-packages\\statsmodels\\tsa\\stattools.py:681: RuntimeWarning:\n",
      "\n",
      "invalid value encountered in true_divide\n",
      "\n"
     ]
    },
    {
     "name": "stdout",
     "output_type": "stream",
     "text": [
      "distribution min pval:3.8459319595673946e-05, autocorrelation:0.3283184098966204\n"
     ]
    },
    {
     "name": "stderr",
     "output_type": "stream",
     "text": [
      "100%|██████████| 48/48 [00:01<00:00, 25.15it/s]\n",
      "C:\\Users\\samud\\anaconda3\\lib\\site-packages\\statsmodels\\tsa\\stattools.py:681: RuntimeWarning:\n",
      "\n",
      "invalid value encountered in true_divide\n",
      "\n"
     ]
    },
    {
     "name": "stdout",
     "output_type": "stream",
     "text": [
      "distribution min pval:1.5821457204897232e-12, autocorrelation:0.20236732301873167\n"
     ]
    },
    {
     "name": "stderr",
     "output_type": "stream",
     "text": [
      "100%|██████████| 98/98 [00:03<00:00, 27.02it/s]\n"
     ]
    },
    {
     "name": "stdout",
     "output_type": "stream",
     "text": [
      "distribution min pval:1.9823306042836677e-27, autocorrelation:0.43934809383102064\n"
     ]
    },
    {
     "name": "stderr",
     "output_type": "stream",
     "text": [
      "100%|██████████| 198/198 [00:07<00:00, 27.63it/s]\n"
     ]
    },
    {
     "name": "stdout",
     "output_type": "stream",
     "text": [
      "distribution min pval:2.2087606931995053e-57, autocorrelation:0.3805736589227224\n"
     ]
    },
    {
     "name": "stderr",
     "output_type": "stream",
     "text": [
      "100%|██████████| 398/398 [00:15<00:00, 25.99it/s]\n"
     ]
    },
    {
     "name": "stdout",
     "output_type": "stream",
     "text": [
      "distribution min pval:1.9426434495222354e-117, autocorrelation:0.826461292801743\n"
     ]
    },
    {
     "name": "stderr",
     "output_type": "stream",
     "text": [
      "100%|██████████| 798/798 [00:29<00:00, 26.95it/s]\n"
     ]
    },
    {
     "name": "stdout",
     "output_type": "stream",
     "text": [
      "distribution min pval:1.0635896769518578e-237, autocorrelation:0.8167744714853588\n",
      "None\n"
     ]
    }
   ],
   "source": [
    "import numpy as np\n",
    "from tsma.analyses.statistics import kolmogorov_smirnov_test\n",
    "from tsma.analyses.vandin import get_relaxation_time\n",
    "\n",
    "lst_var = np.arange(16)\n",
    "print(\n",
    "get_relaxation_time(\n",
    "    m,\n",
    "    lst_thrs = [5, 0.5],\n",
    "    f_test = kolmogorov_smirnov_test,\n",
    "    lst_vars=lst_var,\n",
    "    b = 1,\n",
    "    bs0 = 5,\n",
    "    n_batch = 5,\n",
    "    max_count = 5,\n",
    "))"
   ]
  },
  {
   "cell_type": "markdown",
   "id": "8332a1b7",
   "metadata": {},
   "source": [
    "Here there is no relaxation time. Indeed Gross model has an out of equilibrium dynamic.\n",
    "\n",
    "#### batch_test\n",
    "\n",
    "This test is taken from the paper, and is more sensitive at the distribution tails but less at the median than the previous test."
   ]
  },
  {
   "cell_type": "code",
   "execution_count": 3,
   "id": "4535738e",
   "metadata": {},
   "outputs": [
    {
     "name": "stderr",
     "output_type": "stream",
     "text": [
      "100%|██████████| 23/23 [00:00<00:00, 96.89it/s] \n",
      "C:\\Users\\samud\\anaconda3\\lib\\site-packages\\scipy\\stats\\_morestats.py:1903: RuntimeWarning: invalid value encountered in true_divide\n",
      "  w = (y - xbar) / s\n",
      "C:\\Users\\samud\\anaconda3\\lib\\site-packages\\statsmodels\\tsa\\stattools.py:681: RuntimeWarning: invalid value encountered in true_divide\n",
      "  acf = avf[: nlags + 1] / avf[0]\n"
     ]
    },
    {
     "name": "stdout",
     "output_type": "stream",
     "text": [
      "normality statistic:1.0531136154679013, autocorrelation:0.3283184098966204\n"
     ]
    },
    {
     "name": "stderr",
     "output_type": "stream",
     "text": [
      "100%|██████████| 48/48 [00:00<00:00, 95.69it/s] \n",
      "C:\\Users\\samud\\anaconda3\\lib\\site-packages\\scipy\\stats\\_morestats.py:1903: RuntimeWarning: invalid value encountered in true_divide\n",
      "  w = (y - xbar) / s\n",
      "C:\\Users\\samud\\anaconda3\\lib\\site-packages\\statsmodels\\tsa\\stattools.py:681: RuntimeWarning: invalid value encountered in true_divide\n",
      "  acf = avf[: nlags + 1] / avf[0]\n"
     ]
    },
    {
     "name": "stdout",
     "output_type": "stream",
     "text": [
      "normality statistic:1.056585937382418, autocorrelation:0.20236732301873167\n",
      "normality statistic:1.000230709904045, autocorrelation:0.43934809383102064\n"
     ]
    },
    {
     "name": "stderr",
     "output_type": "stream",
     "text": [
      "100%|██████████| 198/198 [00:02<00:00, 91.74it/s]\n"
     ]
    },
    {
     "name": "stdout",
     "output_type": "stream",
     "text": [
      "normality statistic:1.1978023574445587, autocorrelation:0.3805736589227224\n"
     ]
    },
    {
     "name": "stderr",
     "output_type": "stream",
     "text": [
      "100%|██████████| 398/398 [00:04<00:00, 93.28it/s]\n"
     ]
    },
    {
     "name": "stdout",
     "output_type": "stream",
     "text": [
      "normality statistic:1.2043175585072898, autocorrelation:0.826461292801743\n"
     ]
    },
    {
     "name": "stderr",
     "output_type": "stream",
     "text": [
      "100%|██████████| 798/798 [00:08<00:00, 93.22it/s] "
     ]
    },
    {
     "name": "stdout",
     "output_type": "stream",
     "text": [
      "normality statistic:1.2047103897744114, autocorrelation:0.8167744714853588\n",
      "None\n"
     ]
    },
    {
     "name": "stderr",
     "output_type": "stream",
     "text": [
      "\n"
     ]
    }
   ],
   "source": [
    "import numpy as np\n",
    "from analyses.statistics import batch_test\n",
    "from analyses.vandin import get_relaxation_time\n",
    "\n",
    "lst_var = np.arange(16)\n",
    "print(\n",
    "get_relaxation_time(\n",
    "    m,\n",
    "    lst_thrs = [5, 0.5],\n",
    "    f_test = batch_test,\n",
    "    lst_vars=lst_var,\n",
    "    b = 1,\n",
    "    bs0 = 5,\n",
    "    n_batch = 5,\n",
    "    max_count = 5,\n",
    "))"
   ]
  },
  {
   "cell_type": "markdown",
   "id": "514a235c",
   "metadata": {},
   "source": [
    "### The asymptotical analysis\n",
    "\n",
    "The steady stat values can be estimated as mean of the time series after the relaxation time.\\\n",
    "Assuming that the relaxation time is 15, here is how to compute the asymptotical analysis. "
   ]
  },
  {
   "cell_type": "code",
   "execution_count": 4,
   "id": "870b7123",
   "metadata": {},
   "outputs": [
    {
     "data": {
      "text/plain": [
       "mean_wage                  2.004267e+01\n",
       "wage_inflation             1.186340e-01\n",
       "mean_price                 2.105731e+01\n",
       "inflation                  1.194860e-01\n",
       "loans                      7.272908e+05\n",
       "b_lossnet                  0.000000e+00\n",
       "PD                         0.000000e+00\n",
       "LGD                        0.000000e+00\n",
       "interest                   5.000000e-02\n",
       "b_networth                 9.586771e+04\n",
       "capital_ratio              1.314926e-01\n",
       "dividends                  2.313863e+04\n",
       "interest_expenses          3.636454e+04\n",
       "b_lossgross                0.000000e+00\n",
       "sPD                        0.000000e+00\n",
       "sLGD                       0.000000e+00\n",
       "unemployment_rate          0.000000e+00\n",
       "n_active                   2.000000e+02\n",
       "default_rate               0.000000e+00\n",
       "rollover                   9.240000e+01\n",
       "full_debt_service          1.076000e+02\n",
       "GDP                        4.211462e+05\n",
       "GDP_growth                 1.119486e+00\n",
       "Debt_to_GDP                1.574338e+00\n",
       "loans_growth               1.407726e-01\n",
       "sum_wage                   4.008533e+05\n",
       "f_profit_share_GDP         4.353423e-02\n",
       "w_share_GDP                9.564658e-01\n",
       "sum_f_cash                 5.712813e+05\n",
       "firms_interest_coverage    7.130017e+00\n",
       "mean_inflation             1.320119e-01\n",
       "mean_wage_inflation        1.266313e-01\n",
       "count_newloans             1.208800e+02\n",
       "count_topups               9.240000e+01\n",
       "mean_demand                2.105731e+03\n",
       "std_demand                 2.215546e+02\n",
       "std_price                  2.215546e+00\n",
       "std_wage                   6.980002e+00\n",
       "mean_f_cash                2.856406e+03\n",
       "std_f_cash                 1.838491e+03\n",
       "mean_loan                  3.517568e+03\n",
       "std_loan                   5.479937e+03\n",
       "mean_f_capr               -6.179502e-01\n",
       "mean_hh_cash               1.156932e+00\n",
       "std_hh_cash                2.664535e-16\n",
       "sum_hh_cash                2.313863e+04\n",
       "real_GDP                   2.000000e+04\n",
       "real_wage                  9.564658e-01\n",
       "real_GDP_growth            0.000000e+00\n",
       "unemployment_change        0.000000e+00\n",
       "dtype: float64"
      ]
     },
     "execution_count": 4,
     "metadata": {},
     "output_type": "execute_result"
    }
   ],
   "source": [
    "from analyses.vandin import asymptotical_analysis\n",
    "\n",
    "asymptotical_analysis(15, output)"
   ]
  },
  {
   "cell_type": "markdown",
   "id": "e16bb24f",
   "metadata": {},
   "source": [
    "## 3 Data collection\n",
    "\n",
    "Finally, a parameters exploration can be done automaticaly with **para_exploration**.\n",
    "- **para_ranges** define the ranges to explore\n",
    "- **f_save** the figures to save for a given set of parameters. By default, it computes the transient analysis."
   ]
  },
  {
   "cell_type": "code",
   "execution_count": 2,
   "id": "b228c6df",
   "metadata": {},
   "outputs": [],
   "source": [
    "m.hyper_parameters[\"t_end\"] = 40"
   ]
  },
  {
   "cell_type": "code",
   "execution_count": 3,
   "id": "b66cd7b9",
   "metadata": {},
   "outputs": [
    {
     "name": "stderr",
     "output_type": "stream",
     "text": [
      "100%|██████████| 38/38 [00:01<00:00, 25.92it/s]\n"
     ]
    },
    {
     "name": "stdout",
     "output_type": "stream",
     "text": [
      "number of cores used 10\n",
      "number of pools 1\n"
     ]
    },
    {
     "name": "stderr",
     "output_type": "stream",
     "text": [
      "100%|██████████| 1/1 [00:09<00:00,  9.64s/it]\n"
     ]
    },
    {
     "name": "stdout",
     "output_type": "stream",
     "text": [
      "\n",
      "shape of the pool outputs: (10, 40, 50)\n",
      "targeted shape: (10, 40, 50)\n",
      "----------------------------------------------------------------------\n",
      "number of sets of parameters 2\n",
      "----------------------------------------------------------------------\n"
     ]
    },
    {
     "name": "stderr",
     "output_type": "stream",
     "text": [
      "  0%|          | 0/2 [00:00<?, ?it/s]\n",
      "  0%|          | 0/38 [00:00<?, ?it/s]\u001b[A\n",
      "  8%|▊         | 3/38 [00:00<00:01, 24.06it/s]\u001b[A\n",
      " 16%|█▌        | 6/38 [00:00<00:01, 23.51it/s]\u001b[A\n",
      " 24%|██▎       | 9/38 [00:00<00:01, 23.93it/s]\u001b[A\n",
      " 32%|███▏      | 12/38 [00:00<00:01, 24.14it/s]\u001b[A\n",
      " 39%|███▉      | 15/38 [00:00<00:00, 24.90it/s]\u001b[A\n",
      " 47%|████▋     | 18/38 [00:00<00:00, 25.46it/s]\u001b[A\n",
      " 55%|█████▌    | 21/38 [00:00<00:00, 25.76it/s]\u001b[A\n",
      " 63%|██████▎   | 24/38 [00:00<00:00, 25.81it/s]\u001b[A\n",
      " 74%|███████▎  | 28/38 [00:01<00:00, 27.52it/s]\u001b[A\n",
      " 82%|████████▏ | 31/38 [00:01<00:00, 27.33it/s]\u001b[AC:\\Users\\samud\\anaconda3\\lib\\site-packages\\numpy\\lib\\nanfunctions.py:1117: RuntimeWarning:\n",
      "\n",
      "Mean of empty slice\n",
      "\n",
      "\n",
      " 89%|████████▉ | 34/38 [00:01<00:00, 27.05it/s]\u001b[A\n",
      "100%|██████████| 38/38 [00:01<00:00, 25.98it/s]\u001b[A\n"
     ]
    },
    {
     "name": "stdout",
     "output_type": "stream",
     "text": [
      "number of cores used 10\n",
      "number of pools 1\n"
     ]
    },
    {
     "name": "stderr",
     "output_type": "stream",
     "text": [
      "\n",
      "  0%|          | 0/1 [00:00<?, ?it/s]\u001b[A\n",
      "100%|██████████| 1/1 [00:08<00:00,  8.60s/it]\u001b[A"
     ]
    },
    {
     "name": "stdout",
     "output_type": "stream",
     "text": [
      "\n",
      "shape of the pool outputs: (10, 40, 50)\n",
      "targeted shape: (10, 40, 50)\n"
     ]
    },
    {
     "name": "stderr",
     "output_type": "stream",
     "text": [
      "\n",
      "C:\\Users\\samud\\anaconda3\\lib\\site-packages\\tsma\\analyses\\statistics.py:37: RuntimeWarning:\n",
      "\n",
      "Mean of empty slice\n",
      "\n",
      "C:\\Users\\samud\\anaconda3\\lib\\site-packages\\numpy\\lib\\nanfunctions.py:1545: RuntimeWarning:\n",
      "\n",
      "invalid value encountered in subtract\n",
      "\n",
      "C:\\Users\\samud\\anaconda3\\lib\\site-packages\\tsma\\analyses\\statistics.py:38: RuntimeWarning:\n",
      "\n",
      "Degrees of freedom <= 0 for slice.\n",
      "\n",
      " 50%|█████     | 1/2 [00:21<00:21, 21.00s/it]\n",
      "  0%|          | 0/38 [00:00<?, ?it/s]\u001b[A\n",
      "  3%|▎         | 1/38 [00:00<00:10,  3.65it/s]\u001b[A\n",
      "  5%|▌         | 2/38 [00:00<00:10,  3.35it/s]\u001b[A\n",
      "  8%|▊         | 3/38 [00:00<00:10,  3.37it/s]\u001b[A\n",
      " 11%|█         | 4/38 [00:01<00:09,  3.46it/s]\u001b[A\n",
      " 13%|█▎        | 5/38 [00:01<00:09,  3.45it/s]\u001b[A\n",
      " 16%|█▌        | 6/38 [00:01<00:09,  3.41it/s]\u001b[A\n",
      " 18%|█▊        | 7/38 [00:02<00:09,  3.42it/s]\u001b[A\n",
      " 21%|██        | 8/38 [00:02<00:08,  3.41it/s]\u001b[A\n",
      " 24%|██▎       | 9/38 [00:02<00:08,  3.36it/s]\u001b[A\n",
      " 26%|██▋       | 10/38 [00:02<00:08,  3.40it/s]\u001b[A\n",
      " 29%|██▉       | 11/38 [00:03<00:07,  3.40it/s]\u001b[A\n",
      " 32%|███▏      | 12/38 [00:03<00:07,  3.29it/s]\u001b[AC:\\Users\\samud\\anaconda3\\lib\\site-packages\\numpy\\lib\\nanfunctions.py:1117: RuntimeWarning:\n",
      "\n",
      "Mean of empty slice\n",
      "\n",
      "\n",
      " 34%|███▍      | 13/38 [00:03<00:07,  3.27it/s]\u001b[A\n",
      " 37%|███▋      | 14/38 [00:04<00:07,  3.25it/s]\u001b[A\n",
      " 39%|███▉      | 15/38 [00:04<00:07,  3.25it/s]\u001b[A\n",
      " 42%|████▏     | 16/38 [00:04<00:06,  3.26it/s]\u001b[A\n",
      " 45%|████▍     | 17/38 [00:05<00:06,  3.29it/s]\u001b[AC:\\Users\\samud\\anaconda3\\lib\\site-packages\\tsma\\models\\gross2022.py:647: RuntimeWarning:\n",
      "\n",
      "Mean of empty slice\n",
      "\n",
      "C:\\Users\\samud\\anaconda3\\lib\\site-packages\\tsma\\models\\gross2022.py:835: RuntimeWarning:\n",
      "\n",
      "Mean of empty slice\n",
      "\n",
      "C:\\Users\\samud\\anaconda3\\lib\\site-packages\\tsma\\models\\gross2022.py:434: RuntimeWarning:\n",
      "\n",
      "Mean of empty slice\n",
      "\n",
      "C:\\Users\\samud\\anaconda3\\lib\\site-packages\\tsma\\models\\gross2022.py:436: RuntimeWarning:\n",
      "\n",
      "Mean of empty slice\n",
      "\n",
      "C:\\Users\\samud\\anaconda3\\lib\\site-packages\\tsma\\models\\gross2022.py:442: RuntimeWarning:\n",
      "\n",
      "Mean of empty slice\n",
      "\n",
      "C:\\Users\\samud\\anaconda3\\lib\\site-packages\\numpy\\lib\\nanfunctions.py:1670: RuntimeWarning:\n",
      "\n",
      "Degrees of freedom <= 0 for slice.\n",
      "\n",
      "C:\\Users\\samud\\anaconda3\\lib\\site-packages\\tsma\\models\\gross2022.py:450: RuntimeWarning:\n",
      "\n",
      "Mean of empty slice\n",
      "\n",
      "C:\\Users\\samud\\anaconda3\\lib\\site-packages\\tsma\\models\\gross2022.py:454: RuntimeWarning:\n",
      "\n",
      "Mean of empty slice\n",
      "\n",
      "C:\\Users\\samud\\anaconda3\\lib\\site-packages\\tsma\\models\\gross2022.py:469: RuntimeWarning:\n",
      "\n",
      "invalid value encountered in double_scalars\n",
      "\n",
      "C:\\Users\\samud\\anaconda3\\lib\\site-packages\\tsma\\models\\gross2022.py:459: RuntimeWarning:\n",
      "\n",
      "Mean of empty slice\n",
      "\n",
      "C:\\Users\\samud\\anaconda3\\lib\\site-packages\\tsma\\models\\gross2022.py:479: RuntimeWarning:\n",
      "\n",
      "invalid value encountered in double_scalars\n",
      "\n",
      "C:\\Users\\samud\\anaconda3\\lib\\site-packages\\tsma\\models\\gross2022.py:482: RuntimeWarning:\n",
      "\n",
      "invalid value encountered in double_scalars\n",
      "\n",
      "C:\\Users\\samud\\anaconda3\\lib\\site-packages\\tsma\\models\\gross2022.py:485: RuntimeWarning:\n",
      "\n",
      "divide by zero encountered in double_scalars\n",
      "\n",
      "\n",
      " 50%|█████     | 19/38 [00:05<00:04,  4.15it/s]\u001b[A\n",
      " 53%|█████▎    | 20/38 [00:05<00:04,  3.86it/s]\u001b[A\n",
      " 55%|█████▌    | 21/38 [00:06<00:04,  3.70it/s]\u001b[A\n",
      " 58%|█████▊    | 22/38 [00:06<00:04,  3.61it/s]\u001b[A\n",
      " 61%|██████    | 23/38 [00:06<00:04,  3.49it/s]\u001b[A\n",
      " 63%|██████▎   | 24/38 [00:06<00:04,  3.47it/s]\u001b[A\n",
      " 66%|██████▌   | 25/38 [00:07<00:03,  3.42it/s]\u001b[A\n",
      " 68%|██████▊   | 26/38 [00:07<00:03,  3.38it/s]\u001b[A\n",
      " 71%|███████   | 27/38 [00:07<00:03,  3.36it/s]\u001b[A\n",
      " 74%|███████▎  | 28/38 [00:08<00:03,  3.27it/s]\u001b[A\n",
      " 76%|███████▋  | 29/38 [00:08<00:02,  3.22it/s]\u001b[A\n",
      " 79%|███████▉  | 30/38 [00:08<00:02,  3.26it/s]\u001b[A\n",
      " 82%|████████▏ | 31/38 [00:09<00:02,  3.27it/s]\u001b[A\n",
      " 84%|████████▍ | 32/38 [00:09<00:01,  3.14it/s]\u001b[A\n",
      " 87%|████████▋ | 33/38 [00:09<00:01,  3.17it/s]\u001b[A\n",
      " 89%|████████▉ | 34/38 [00:10<00:01,  3.24it/s]\u001b[A\n",
      " 92%|█████████▏| 35/38 [00:10<00:00,  3.36it/s]\u001b[A\n",
      " 95%|█████████▍| 36/38 [00:10<00:00,  3.32it/s]\u001b[A\n",
      " 97%|█████████▋| 37/38 [00:10<00:00,  3.35it/s]\u001b[A\n",
      "100%|██████████| 38/38 [00:11<00:00,  3.39it/s]\u001b[A\n"
     ]
    },
    {
     "name": "stdout",
     "output_type": "stream",
     "text": [
      "number of cores used 10\n",
      "number of pools 1\n"
     ]
    },
    {
     "name": "stderr",
     "output_type": "stream",
     "text": [
      "\n",
      "  0%|          | 0/1 [00:00<?, ?it/s]\u001b[A\n",
      "100%|██████████| 1/1 [00:27<00:00, 27.92s/it]\u001b[A"
     ]
    },
    {
     "name": "stdout",
     "output_type": "stream",
     "text": [
      "\n",
      "shape of the pool outputs: (10, 40, 50)\n",
      "targeted shape: (10, 40, 50)\n"
     ]
    },
    {
     "name": "stderr",
     "output_type": "stream",
     "text": [
      "\n",
      "C:\\Users\\samud\\anaconda3\\lib\\site-packages\\tsma\\analyses\\statistics.py:37: RuntimeWarning:\n",
      "\n",
      "Mean of empty slice\n",
      "\n",
      "C:\\Users\\samud\\anaconda3\\lib\\site-packages\\numpy\\lib\\nanfunctions.py:1545: RuntimeWarning:\n",
      "\n",
      "invalid value encountered in subtract\n",
      "\n",
      "C:\\Users\\samud\\anaconda3\\lib\\site-packages\\tsma\\analyses\\statistics.py:38: RuntimeWarning:\n",
      "\n",
      "Degrees of freedom <= 0 for slice.\n",
      "\n",
      "100%|██████████| 2/2 [01:08<00:00, 34.35s/it]\n"
     ]
    }
   ],
   "source": [
    "from tsma.visuals.fig_management import save_transient\n",
    "from tsma.collect.data_collect import para_exploration\n",
    "\n",
    "# ranges to explore\n",
    "para_ranges = {\n",
    "    \"p1__b_margin\": [0, 1],\n",
    "    \"p1__hh_cons_propensity\": [0.1, 1],\n",
    "    \"p1__tgt_capital_ratio\": [0.001, 2],\n",
    "    \n",
    "    \"p2__f_n\": [10, 1000],\n",
    "    \"p2__hh_n\": [1000, 50000],\n",
    "\n",
    "    \"p3__wages_0\": [0, 50],\n",
    "    \"p3__wages_1\": [0, 50],\n",
    "    \"p3__prices_0\": [0, 50],\n",
    "    \"p3__prices_1\": [0, 50],\n",
    "}\n",
    "\n",
    "varnames = list(output)\n",
    "nvar = len(varnames)\n",
    "\n",
    "if __name__ == \"__main__\":\n",
    "\n",
    "    para_exploration(\n",
    "        model,\n",
    "        m,\n",
    "        nvar,\n",
    "        nsim=10,\n",
    "        dct_bounds=para_ranges,\n",
    "        dct_groups = dct_groups,\n",
    "        ns = 20, #number of second\n",
    "        sign=0.1,\n",
    "        ncol_para=3,\n",
    "        nskip = 2,\n",
    "        f_save=save_transient\n",
    "    )"
   ]
  },
  {
   "cell_type": "code",
   "execution_count": null,
   "id": "c8623adf",
   "metadata": {},
   "outputs": [],
   "source": []
  }
 ],
 "metadata": {
  "kernelspec": {
   "display_name": "Python 3 (ipykernel)",
   "language": "python",
   "name": "python3"
  },
  "language_info": {
   "codemirror_mode": {
    "name": "ipython",
    "version": 3
   },
   "file_extension": ".py",
   "mimetype": "text/x-python",
   "name": "python",
   "nbconvert_exporter": "python",
   "pygments_lexer": "ipython3",
   "version": "3.9.12"
  }
 },
 "nbformat": 4,
 "nbformat_minor": 5
}
