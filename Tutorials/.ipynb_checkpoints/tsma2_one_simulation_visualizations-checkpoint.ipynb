{
 "cells": [
  {
   "cell_type": "markdown",
   "id": "61d1aa00",
   "metadata": {},
   "source": [
    "# tsma 2: How to visualize one simulation ?\n",
    "All the examples are done with an implementation of Gross's model of 2022: https://doi.org/10.1016/j.ecolecon.2010.03.021\n",
    "\n",
    "### requirements"
   ]
  },
  {
   "cell_type": "code",
   "execution_count": 1,
   "id": "83fd621a",
   "metadata": {},
   "outputs": [],
   "source": [
    "from tsma.models.gross2022 import Gross2022 as model\n",
    "\n",
    "parameters = {\n",
    "    \"b_margin\": 0.05,\n",
    "    \"hh_cons_propensity\": 1,\n",
    "    \"norisk_interest\": 0,\n",
    "    \"tgt_capital_ratio\": 0.1,\n",
    "    \"smooth_interest\": 15,\n",
    "    \"beta\": 1, \n",
    "}\n",
    "\n",
    "hyper_parameters = {\"f_n\": 200, \"hh_n\": 20000, \"t_end\": 100, \"seed\": 33}\n",
    "\n",
    "initial_values = {\n",
    "    \"wages_0\": 1,\n",
    "    \"wages_1\": 1,\n",
    "    \"prices_0\": 1.01,\n",
    "    \"prices_1\": 1,\n",
    "}\n",
    "\n",
    "m = model(parameters, hyper_parameters, initial_values)\n",
    "output = m.simulate(t_end = 40, seed = 10, save = True, overwrite = False)"
   ]
  },
  {
   "cell_type": "markdown",
   "id": "7c18548d",
   "metadata": {},
   "source": [
    "## 1. The figures\n",
    "\n",
    "All the figures are defined in **visuals.figures**\n",
    "\n",
    "### Time series mosaic\n",
    "\n",
    "In **mosaique**, **mosaique_hist**, the time series are plotted in separated plots."
   ]
  },
  {
   "cell_type": "code",
   "execution_count": 3,
   "id": "40dca493",
   "metadata": {},
   "outputs": [],
   "source": [
    "from tsma.visuals.figures import mosaique, mosaique_hist\n",
    "\n",
    "fig1 = mosaique(output, ncol = 4, title = \"Test 1 sim\")\n",
    "fig1.show()\n",
    "\n",
    "fig2 = mosaique_hist(output, ncol = 5, title =\"Test 1 sim hist\", pal = \"viridis\")\n",
    "fig2.show()"
   ]
  },
  {
   "cell_type": "markdown",
   "id": "5b079efc",
   "metadata": {},
   "source": [
    "### Adapted mosaic\n",
    "\n",
    "A cleaner visualization uses a dictionary **dct_groups** to gather the curves and give the titles wanted."
   ]
  },
  {
   "cell_type": "code",
   "execution_count": 4,
   "id": "973310cd",
   "metadata": {},
   "outputs": [],
   "source": [
    "dct_groups = {\n",
    "    \"Active Firms\": [\"n_active\"],\n",
    "    \"Nominal GDP Growth\": [\"GDP_growth\", \"unemployment_rate\"],\n",
    "    \"Debt to GDP\": [\"Debt_to_GDP\"],\n",
    "    \"Nominal loan Growth\": [\"loans_growth\"],\n",
    "    \"Wage Inflation at Firms\": [\"mean_wage_inflation\"],\n",
    "    \"Price Inflation at Firms\": [\"mean_inflation\"],\n",
    "    \"Firm Profit share in GDP\": [\"f_profit_share_GDP\"],\n",
    "    \"Wage Share in GDP\": [\"w_share_GDP\"],\n",
    "    \"Firm's Interest Coverage\": [\"firms_interest_coverage\"],\n",
    "    \"Firms Default Rate\": [\"default_rate\"],\n",
    "    \"Loss Given Default\": [\"sLGD\"],\n",
    "    \"Loan Interest rate\": [\"interest\"],\n",
    "    \"Full debt service and Rollover\": [\"full_debt_service\", \"rollover\"],\n",
    "    \"New Loans and Top-up\": [\"count_newloans\", \"count_topups\"],\n",
    "    \"Firms' and Banks' Capital Ratios\": [\"capital_ratio\", \"mean_f_capr\"],\n",
    "    # ----\n",
    "    \"Inflation\": [\"inflation\"],\n",
    "    \"Wage Inflation\": [\"wage_inflation\"],\n",
    "    \"Real Wage\": [\"real_wage\"],\n",
    "    \"GDP\": [\"GDP\"],\n",
    "    \"Real GDP\": [\"real_GDP\"],\n",
    "    \"Real GDP Growth\": [\"real_GDP_growth\"],\n",
    "    \"Loans and interest expenses\": [\"loans\", \"interest_expenses\"],\n",
    "    \"Default proba\": [\"sPD\"],\n",
    "    \"Banks' networth and losses\": [\"b_lossnet\", \"b_networth\"],\n",
    "    \"Dividends and HH cash\": [\"dividends\", \"sum_hh_cash\"],\n",
    "    \"HH earnings and savings\": [\"mean_wage\", \"mean_hh_cash\"],\n",
    "    \"Demande and Price level\": [\"mean_price\", \"mean_demand\"],\n",
    "    \"Firms Payements and Cash\": [\"sum_wage\", \"sum_f_cash\"],\n",
    "    \"Firms cash and loan\": [\"mean_loan\", \"mean_f_cash\"],\n",
    "    \"std earnings and savings\": [\"std_wage\", \"std_hh_cash\"],\n",
    "    \"std Demande and Price\": [\"std_price\", \"std_demand\"],\n",
    "    \"std Firms Cash and Loan\": [\"std_loan\", \"std_f_cash\"],\n",
    "}"
   ]
  },
  {
   "cell_type": "markdown",
   "id": "54ba1361",
   "metadata": {},
   "source": [
    "**auto_dct_groups**(varnames, agents_names) can be used to automatically create this dictionary based on agents code.\n",
    "This can be useful for ABMs when multiple agents of similar types are involved."
   ]
  },
  {
   "cell_type": "code",
   "execution_count": 5,
   "id": "113dfb77",
   "metadata": {},
   "outputs": [
    {
     "data": {
      "text/plain": [
       "{'transfert a': ['transfert_a_b', 'transfert_a_c'],\n",
       " 'state': ['state_a', 'state_b']}"
      ]
     },
     "execution_count": 5,
     "metadata": {},
     "output_type": "execute_result"
    }
   ],
   "source": [
    "from tsma.basics import auto_dct_groups\n",
    "\n",
    "auto_dct_groups([\"state_a\", \"state_b\", \"transfert_a_b\", \"transfert_a_c\"], [\"a\", \"b\", \"c\"])"
   ]
  },
  {
   "cell_type": "markdown",
   "id": "6faf2794",
   "metadata": {},
   "source": [
    "Finally, Plotly accepts certain **html** commands. So let's improve the title: "
   ]
  },
  {
   "cell_type": "code",
   "execution_count": 7,
   "id": "1322af13",
   "metadata": {},
   "outputs": [],
   "source": [
    "from tsma.visuals.figures import adapted_mosaique\n",
    "\n",
    "title = \"\"\"<a href = \"https://doi.org/10.1016/j.ecolecon.2010.03.021\" >Gross 2022 </a>\"\"\"\n",
    "\n",
    "fig = adapted_mosaique(\n",
    "    output,\n",
    "    title,\n",
    "    dct_groups,\n",
    ")\n",
    "fig.show()"
   ]
  },
  {
   "cell_type": "markdown",
   "id": "5fb14372",
   "metadata": {},
   "source": [
    "### Custom Adapted mosaique\n",
    "\n",
    "To change the appearance, change :\n",
    "- **f_line**  for the lines' style and color \n",
    "- **yaxis_to_right** for the variables's yaxis to put to the right\n",
    "- **ncol, nskip**  for the number of columns and blanck blocks in the beginning\n",
    "- **width, height, hspace, vspace** for the dimensions"
   ]
  },
  {
   "cell_type": "code",
   "execution_count": null,
   "id": "c4e6653b",
   "metadata": {},
   "outputs": [],
   "source": [
    "import seaborn as sns \n",
    "\n",
    "title = \"\"\"\n",
    "<a href = \"https://doi.org/10.1016/j.ecolecon.2010.03.021\" >Gross 2022</a> \n",
    "<br> \n",
    "<br> <b>Description</b> :  \n",
    "<br> The space is given by <i>nskip</i>\n",
    "\"\"\"\n",
    "\n",
    "def new_f_line(varname, k):\n",
    "    type_line = \"solid\" \n",
    "    color = sns.color_palette(\"viridis\", 3).as_hex()[k]\n",
    "    if \"tgt\" in varname.split(\"_\"):\n",
    "        type_line = \"dot\"\n",
    "    opa = 0.9    \n",
    "    width = 2\n",
    "    return type_line, color, opa, width\n",
    "\n",
    "fig = adapted_mosaique(\n",
    "    output,\n",
    "    title,\n",
    "    dct_groups,\n",
    "    \n",
    "    f_line = new_f_line,\n",
    "    yaxis_to_right = [\"rollover\", \"unemployment_rate\", \"interest_expenses\"],\n",
    "    \n",
    "    ncol = 4,\n",
    "    nskip = 2,\n",
    "    \n",
    "    height = 1600,\n",
    "    width = 1400\n",
    ")\n",
    "fig.show()"
   ]
  },
  {
   "cell_type": "markdown",
   "id": "fccbbc73",
   "metadata": {},
   "source": [
    "## 2 figures saving\n",
    "\n",
    "To **save** plotly figures use :\n",
    "- **get_save_path**(model, prev_folder: bool = False) -> str: \n",
    "- **save_fig**(fig, newpath_fig: str, figname: str, save_format: str = \"html\") -> None"
   ]
  },
  {
   "cell_type": "code",
   "execution_count": 8,
   "id": "d096b7be",
   "metadata": {},
   "outputs": [
    {
     "name": "stdout",
     "output_type": "stream",
     "text": [
      "C:\\Users\\samud\\Bureau\\Python code\\Repo\\tsma\\Tutorials\\Outputs\\gross2022\\figures\n"
     ]
    }
   ],
   "source": [
    "import os\n",
    "from tsma.collect.output_management import  get_save_path \n",
    "from tsma.visuals.fig_management import save_fig\n",
    "\n",
    "path_figure = os.sep.join([get_save_path(m, False), \"figures\"])\n",
    "save_fig(fig, newpath_fig = path_figure, figname = \"test_save\", save_format = \"png\")\n",
    "print(path_figure)"
   ]
  },
  {
   "cell_type": "markdown",
   "id": "0fc8b494",
   "metadata": {},
   "source": [
    "## 3 An adaptive dashboard for manual parameters explorations \n",
    "\n",
    "Here the idea is to create an interactive interface to examine the previous visualizations for different sets of parameters.\n",
    "\n",
    "Controles :\n",
    "- all parameters : parameters, hyper_parameters, initial_values\n",
    "- parameters_sliders [ min, max, number of steps ] If empty there is no sliders mode\n",
    "        \n",
    "To create  **parameters_sliders** use **encode** from basics.text_management to automatically have the list of the encoded variable names.\n"
   ]
  },
  {
   "cell_type": "code",
   "execution_count": 9,
   "id": "d03000e0",
   "metadata": {},
   "outputs": [
    {
     "name": "stdout",
     "output_type": "stream",
     "text": [
      "['p1__b_margin', 'p1__hh_cons_propensity', 'p1__norisk_interest', 'p1__tgt_capital_ratio', 'p1__smooth_interest', 'p1__beta', 'p2__f_n', 'p2__hh_n', 'p2__t_end', 'p2__seed', 'p3__wages_0', 'p3__wages_1', 'p3__prices_0', 'p3__prices_1']\n"
     ]
    }
   ],
   "source": [
    "from tsma.basics.text_management import encode\n",
    "\n",
    "print(list(encode(parameters, hyper_parameters, initial_values)))"
   ]
  },
  {
   "cell_type": "markdown",
   "id": "9793747c",
   "metadata": {},
   "source": [
    "Then decide the ranges of the sliders"
   ]
  },
  {
   "cell_type": "code",
   "execution_count": 10,
   "id": "c0e2508e",
   "metadata": {},
   "outputs": [],
   "source": [
    "params_sliders = {\n",
    "    \"p1__b_margin\": [0, 1, 100],\n",
    "    \"p1__hh_cons_propensity\": [0, 1, 100],\n",
    "    \"p1__norisk_interest\": [0, 1, 100],\n",
    "    \"p1__tgt_capital_ratio\": [0, 1, 100],\n",
    "    \"p1__smooth_interest\": [0, 100, 100],\n",
    "    \"p1__beta\": [0, 1, 100],\n",
    "    \"p2__f_n\": [0, 2000, 2000],\n",
    "    \"p2__hh_n\": [0, 20000, 20000],\n",
    "    \"p2__t_end\": [0, 10000, 10000],\n",
    "    \"p2__seed\": [0, 2000, 2000],\n",
    "    \"p3__wages_0\": [0, 10, 100],\n",
    "    \"p3__wages_1\": [0, 10, 100],\n",
    "    \"p3__prices_0\": [0, 10, 100],\n",
    "    \"p3__prices_1\": [0, 10, 100],\n",
    "}"
   ]
  },
  {
   "cell_type": "markdown",
   "id": "fb8ef35f",
   "metadata": {},
   "source": [
    "\n",
    "A variable can be used as a reference to compare with **var_compared**. Here unemployement is used by default.\n",
    "\n",
    "Finally, an app can be launch as following :\n"
   ]
  },
  {
   "cell_type": "code",
   "execution_count": 12,
   "id": "564aff13",
   "metadata": {},
   "outputs": [
    {
     "name": "stdout",
     "output_type": "stream",
     "text": [
      "Dash app running on http://127.0.0.1:8040/\n"
     ]
    },
    {
     "name": "stderr",
     "output_type": "stream",
     "text": [
      "100%|██████████| 38/38 [00:03<00:00,  9.51it/s]\n"
     ]
    }
   ],
   "source": [
    "from tsma.visuals.dashboards import app_mosaique, run_app\n",
    "\n",
    "if __name__ == \"__main__\":\n",
    "\n",
    "     app = app_mosaique(\n",
    "        parameters,\n",
    "        hyper_parameters,\n",
    "        initial_values,\n",
    "        params_sliders,\n",
    "        model,\n",
    "        dct_groups,\n",
    "        var_compared=\"sPD\",\n",
    "        in_jupyter=True,\n",
    "    )\n",
    "     run_app(app, in_jupyter = True, port = \"8040\")"
   ]
  },
  {
   "cell_type": "markdown",
   "id": "b77c1ca4",
   "metadata": {},
   "source": [
    "### Change the Latex\n",
    "\n",
    "With:\n",
    "- **f_latex** for the latex traduction of the parameters.\n",
    "\n",
    "- **ncol_latex** for the number of columns of parameters on the sidebar.\n",
    "\n",
    "**f_latex** can be built by using **varname_to_latex** from  basics.text_management. \\\n",
    "This function  separates the components of a variable names, based on two lists : the exponents and the indexes.\n",
    "Then the core of the name is converted by using core_conv dictionary. All the specific cases for indexes and exponents can be handeled with special_exp and special_index dictionaries."
   ]
  },
  {
   "cell_type": "code",
   "execution_count": 13,
   "id": "6949a762",
   "metadata": {},
   "outputs": [
    {
     "name": "stdout",
     "output_type": "stream",
     "text": [
      "$\\mathcal{Capr}_{tgt}^{}$\n"
     ]
    }
   ],
   "source": [
    "from tsma.basics.text_management import varname_to_latex\n",
    "\n",
    "def new_f_latex(varname):\n",
    "    core_conv = {\n",
    "        \"n\": \"N\",\n",
    "        \"margin\": \"\\ mu\",\n",
    "        \"cons propensity\": \"\\ alpha\",\n",
    "        \"norisk interest\": \"i\",\n",
    "        \"capital ratio\": \"\\mathcal{Capr}\",\n",
    "        \"t end\": \"\\mathcal{T}\",\n",
    "        \"beta\": \"\\ beta\",\n",
    "        \"smooth interest\": \"\\mathcal{Smooth}\",\n",
    "        \"wages\" : \"\\mathcal{w}\"\n",
    "    }\n",
    "    exponents = [\"hh\", \"f\", \"b\", \"0\", \"1\"]\n",
    "    indexes = [\"tgt\"]\n",
    "\n",
    "    special_exp = {\n",
    "        \"margin\": \"b\",\n",
    "    }\n",
    "    special_index = {\n",
    "        \"norisk interest\": \"D\",\n",
    "    }\n",
    "\n",
    "    return varname_to_latex(\n",
    "        varname, exponents, indexes, core_conv, special_exp, special_index\n",
    "    )\n",
    "\n",
    "print(new_f_latex(\"p1__tgt_capital_ratio\"))"
   ]
  },
  {
   "cell_type": "markdown",
   "id": "42ad909d",
   "metadata": {},
   "source": [
    "### Change the figure\n",
    "\n",
    "with **f_fig** definition. \\\n",
    "This function has to return a plotly figure.\\\n",
    "To use seaborn and plt figures, you would need to treat them as images (see below)."
   ]
  },
  {
   "cell_type": "code",
   "execution_count": 14,
   "id": "4ab70491",
   "metadata": {},
   "outputs": [],
   "source": [
    "from tsma.visuals.figures import mosaique\n",
    "\n",
    "def new_f_fig(output, title, grouping, arg):\n",
    "    return mosaique(output, 3, title)"
   ]
  },
  {
   "cell_type": "markdown",
   "id": "b2403d00",
   "metadata": {},
   "source": [
    "Finally, a new dashboard can be defined : "
   ]
  },
  {
   "cell_type": "code",
   "execution_count": 16,
   "id": "5dd402e1",
   "metadata": {},
   "outputs": [
    {
     "name": "stdout",
     "output_type": "stream",
     "text": [
      "Dash app running on http://127.0.0.1:8040/\n"
     ]
    }
   ],
   "source": [
    "if __name__ == \"__main__\":\n",
    "    app = app_mosaique(\n",
    "        parameters,\n",
    "        hyper_parameters,\n",
    "        initial_values,\n",
    "        params_sliders,\n",
    "        model,\n",
    "        dct_groups = {},\n",
    "        in_jupyter=True,\n",
    "        \n",
    "        ncol_latex = 3,\n",
    "        f_latex=new_f_latex,\n",
    "        f_fig=new_f_fig,\n",
    "    )\n",
    "    run_app(app, in_jupyter = True, port = \"8040\")"
   ]
  },
  {
   "cell_type": "markdown",
   "id": "c4b18bc1",
   "metadata": {},
   "source": [
    "### Add an image \n",
    " **app_mos_and_image** show both a plotly figure and an image computed at the first update of the dashboard.\n",
    "This is useful to use seaborn visualizations. However, this solution has a main issue : the cache of the app makes the update of the image impossible if the image's name doesn't change.\n",
    "Thus, the function's name is used to change the saving path.\n",
    "\n",
    "### Change the image\n",
    "\n",
    "**f_img** save the image \n",
    "The default function computes Okun's and Phillips's curves but a sufficient number of points are needed.\n",
    "Thus let us defined a new image with a custom heatmap function.\n"
   ]
  },
  {
   "cell_type": "code",
   "execution_count": 17,
   "id": "cdf870d5",
   "metadata": {},
   "outputs": [
    {
     "name": "stdout",
     "output_type": "stream",
     "text": [
      "Dash app running on http://127.0.0.1:8040/\n"
     ]
    }
   ],
   "source": [
    "from tsma.visuals.figures import my_heatmap\n",
    "from tsma.visuals.fig_management import save_fig\n",
    "from tsma.visuals.dashboards import app_mos_and_image, run_app\n",
    "\n",
    "def heatmap_f_img(m, save_path, img_format):\n",
    "    \n",
    "    df = m.output.iloc[3:, :]\n",
    "    fig = my_heatmap(df, \"new_img\")\n",
    "    fig.savefig(save_path, dpi=200, format=img_format)\n",
    "\n",
    "\n",
    "if __name__ == \"__main__\":\n",
    "\n",
    "    app = app_mos_and_image(\n",
    "        parameters,\n",
    "        hyper_parameters,\n",
    "        initial_values,\n",
    "        {},\n",
    "        model,\n",
    "        dct_groups,\n",
    "        in_jupyter=True,\n",
    "        f_img = heatmap_f_img\n",
    "    )\n",
    "    run_app(app, in_jupyter = True, port = \"8040\")"
   ]
  },
  {
   "cell_type": "code",
   "execution_count": null,
   "id": "8d90afc3",
   "metadata": {},
   "outputs": [],
   "source": []
  }
 ],
 "metadata": {
  "kernelspec": {
   "display_name": "Python 3 (ipykernel)",
   "language": "python",
   "name": "python3"
  },
  "language_info": {
   "codemirror_mode": {
    "name": "ipython",
    "version": 3
   },
   "file_extension": ".py",
   "mimetype": "text/x-python",
   "name": "python",
   "nbconvert_exporter": "python",
   "pygments_lexer": "ipython3",
   "version": "3.9.12"
  }
 },
 "nbformat": 4,
 "nbformat_minor": 5
}
